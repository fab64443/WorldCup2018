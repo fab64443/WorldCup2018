{
 "cells": [
  {
   "cell_type": "code",
   "execution_count": 1,
   "metadata": {
    "collapsed": true
   },
   "outputs": [
    {
     "name": "stderr",
     "output_type": "stream",
     "text": [
      "\n",
      "Attaching package: ‘dplyr’\n",
      "\n",
      "The following objects are masked from ‘package:stats’:\n",
      "\n",
      "    filter, lag\n",
      "\n",
      "The following objects are masked from ‘package:base’:\n",
      "\n",
      "    intersect, setdiff, setequal, union\n",
      "\n"
     ]
    }
   ],
   "source": [
    "library(dplyr)\n",
    "library(readr)\n",
    "library(tictoc)\n",
    "library(stringr)\n",
    "library(tidyr)"
   ]
  },
  {
   "cell_type": "code",
   "execution_count": 2,
   "metadata": {},
   "outputs": [],
   "source": [
    "mutate_where <- function(.data, condition, ..., envir = parent.frame()) {\n",
    "  condition <- eval(substitute(condition), .data, envir)\n",
    "  .data[condition, ] <- .data[condition, ] %>% mutate(...)\n",
    "  .data\n",
    "}"
   ]
  },
  {
   "cell_type": "code",
   "execution_count": 3,
   "metadata": {
    "collapsed": true
   },
   "outputs": [
    {
     "name": "stderr",
     "output_type": "stream",
     "text": [
      "Parsed with column specification:\n",
      "cols(\n",
      "  date = col_date(format = \"\"),\n",
      "  home_team = col_character(),\n",
      "  away_team = col_character(),\n",
      "  home_score = col_integer(),\n",
      "  away_score = col_integer(),\n",
      "  tournament = col_character(),\n",
      "  city = col_character(),\n",
      "  country = col_character(),\n",
      "  neutral = col_logical()\n",
      ")\n"
     ]
    }
   ],
   "source": [
    "matches.raw <- read_csv('results.csv')\n",
    "dim(matches.raw)"
   ]
  },
  {
   "cell_type": "code",
   "execution_count": 4,
   "metadata": {},
   "outputs": [
    {
     "data": {
      "text/html": [
       "244"
      ],
      "text/latex": [
       "244"
      ],
      "text/markdown": [
       "244"
      ],
      "text/plain": [
       "[1] 244"
      ]
     },
     "metadata": {},
     "output_type": "display_data"
    }
   ],
   "source": [
    "length(union(matches.raw$home_team,matches.raw$away_team))"
   ]
  },
  {
   "cell_type": "code",
   "execution_count": 5,
   "metadata": {},
   "outputs": [],
   "source": [
    "foot.teams <- data.frame(team=union(matches.raw$home_team,matches.raw$away_team),elo=1000,match=0)"
   ]
  },
  {
   "cell_type": "code",
   "execution_count": null,
   "metadata": {},
   "outputs": [],
   "source": [
    "matches.selected <- matches.raw"
   ]
  },
  {
   "cell_type": "raw",
   "metadata": {},
   "source": [
    "matches.selected <- matches.raw %>% filter(tournament != 'Friendly')\n",
    "dim(matches.selected)"
   ]
  },
  {
   "cell_type": "code",
   "execution_count": 13,
   "metadata": {},
   "outputs": [
    {
     "name": "stdout",
     "output_type": "stream",
     "text": [
      "elo rating: 45.503 sec elapsed\n"
     ]
    }
   ],
   "source": [
    "foot.teams <- data.frame(team=union(matches.selected$home_team,matches.selected$away_team),elo=1000,match=0,w=0,l=0,d=0)\n",
    "tic('elo rating')\n",
    "for (row in 1:(dim(matches.selected)[1])) {\n",
    "    current <- matches.selected[row,]\n",
    "    scoreA <- (sign(current$home_score-current$away_score)+1)/2\n",
    "    eloA <- foot.teams[foot.teams$team==current$home_team,]$elo\n",
    "    eloB <- foot.teams[foot.teams$team==current$away_team,]$elo\n",
    "    nelo <- newelo(eloA,eloB,scoreA)\n",
    "    #cat(paste(current$home_team,'-',current$away_team,':',eloA,eloB,'->',nelo[1],nelo[2],'\\n'))\n",
    "    foot.teams[foot.teams$team==current$home_team,]$elo <- nelo[1]\n",
    "    foot.teams[foot.teams$team==current$away_team,]$elo <- nelo[2]\n",
    "    foot.teams[foot.teams$team==current$home_team,]$match <- foot.teams[foot.teams$team==current$home_team,]$match +1    \n",
    "    foot.teams[foot.teams$team==current$away_team,]$match <- foot.teams[foot.teams$team==current$away_team,]$match +1\n",
    "    if (scoreA==1) {\n",
    "        foot.teams[foot.teams$team==current$home_team,]$w = foot.teams[foot.teams$team==current$home_team,]$w +1\n",
    "        foot.teams[foot.teams$team==current$away_team,]$l = foot.teams[foot.teams$team==current$away_team,]$l +1\n",
    "    } else if (scoreA==0) {\n",
    "        foot.teams[foot.teams$team==current$home_team,]$l = foot.teams[foot.teams$team==current$home_team,]$l +1\n",
    "        foot.teams[foot.teams$team==current$away_team,]$w = foot.teams[foot.teams$team==current$away_team,]$w +1\n",
    "    } else {\n",
    "        foot.teams[foot.teams$team==current$home_team,]$d = foot.teams[foot.teams$team==current$home_team,]$d +1\n",
    "        foot.teams[foot.teams$team==current$away_team,]$d = foot.teams[foot.teams$team==current$away_team,]$d +1\n",
    "    }\n",
    "}\n",
    "toc()"
   ]
  },
  {
   "cell_type": "code",
   "execution_count": 15,
   "metadata": {},
   "outputs": [],
   "source": [
    "foot.teams$team <- as.character(foot.teams$team)"
   ]
  },
  {
   "cell_type": "code",
   "execution_count": 16,
   "metadata": {
    "collapsed": true
   },
   "outputs": [
    {
     "data": {
      "text/html": [
       "<table>\n",
       "<thead><tr><th scope=col>team</th><th scope=col>elo</th><th scope=col>match</th><th scope=col>w</th><th scope=col>l</th><th scope=col>d</th><th scope=col>wpct</th><th scope=col>lpct</th><th scope=col>dpct</th></tr></thead>\n",
       "<tbody>\n",
       "\t<tr><td>Iran          </td><td>1489          </td><td>184           </td><td>128           </td><td> 0            </td><td>56            </td><td>69.57         </td><td> 0.00         </td><td>30.43         </td></tr>\n",
       "\t<tr><td>Germany       </td><td>1475          </td><td>248           </td><td>192           </td><td>24            </td><td>32            </td><td>77.42         </td><td> 9.68         </td><td>12.90         </td></tr>\n",
       "\t<tr><td>Portugal      </td><td>1440          </td><td>248           </td><td>176           </td><td>16            </td><td>56            </td><td>70.97         </td><td> 6.45         </td><td>22.58         </td></tr>\n",
       "\t<tr><td>Korea Republic</td><td>1412          </td><td>232           </td><td>152           </td><td>32            </td><td>48            </td><td>65.52         </td><td>13.79         </td><td>20.69         </td></tr>\n",
       "\t<tr><td>Spain         </td><td>1379          </td><td>200           </td><td>160           </td><td>24            </td><td>16            </td><td>80.00         </td><td>12.00         </td><td> 8.00         </td></tr>\n",
       "\t<tr><td>England       </td><td>1378          </td><td>192           </td><td>152           </td><td> 8            </td><td>32            </td><td>79.17         </td><td> 4.17         </td><td>16.67         </td></tr>\n",
       "\t<tr><td>Australia     </td><td>1375          </td><td>248           </td><td>152           </td><td>32            </td><td>64            </td><td>61.29         </td><td>12.90         </td><td>25.81         </td></tr>\n",
       "\t<tr><td>Senegal       </td><td>1360          </td><td>232           </td><td>160           </td><td>16            </td><td>56            </td><td>68.97         </td><td> 6.90         </td><td>24.14         </td></tr>\n",
       "\t<tr><td>Japan         </td><td>1360          </td><td>240           </td><td>152           </td><td>40            </td><td>48            </td><td>63.33         </td><td>16.67         </td><td>20.00         </td></tr>\n",
       "\t<tr><td>Brazil        </td><td>1359          </td><td>200           </td><td>120           </td><td>24            </td><td>56            </td><td>60.00         </td><td>12.00         </td><td>28.00         </td></tr>\n",
       "\t<tr><td>Poland        </td><td>1342          </td><td>200           </td><td>128           </td><td>16            </td><td>56            </td><td>64.00         </td><td> 8.00         </td><td>28.00         </td></tr>\n",
       "\t<tr><td>France        </td><td>1327          </td><td>136           </td><td> 96           </td><td>16            </td><td>24            </td><td>70.59         </td><td>11.76         </td><td>17.65         </td></tr>\n",
       "\t<tr><td>Switzerland   </td><td>1314          </td><td>208           </td><td>144           </td><td>32            </td><td>32            </td><td>69.23         </td><td>15.38         </td><td>15.38         </td></tr>\n",
       "\t<tr><td>Belgium       </td><td>1301          </td><td>200           </td><td>152           </td><td>24            </td><td>24            </td><td>76.00         </td><td>12.00         </td><td>12.00         </td></tr>\n",
       "\t<tr><td>Uzbekistan    </td><td>1289          </td><td>176           </td><td>104           </td><td>64            </td><td> 8            </td><td>59.09         </td><td>36.36         </td><td> 4.55         </td></tr>\n",
       "\t<tr><td>Syria         </td><td>1284          </td><td>176           </td><td> 80           </td><td>48            </td><td>48            </td><td>45.45         </td><td>27.27         </td><td>27.27         </td></tr>\n",
       "\t<tr><td>Argentina     </td><td>1280          </td><td>240           </td><td>120           </td><td>32            </td><td>88            </td><td>50.00         </td><td>13.33         </td><td>36.67         </td></tr>\n",
       "\t<tr><td>Italy         </td><td>1273          </td><td>216           </td><td>136           </td><td>24            </td><td>56            </td><td>62.96         </td><td>11.11         </td><td>25.93         </td></tr>\n",
       "\t<tr><td>Saudi Arabia  </td><td>1273          </td><td>216           </td><td>128           </td><td>56            </td><td>32            </td><td>59.26         </td><td>25.93         </td><td>14.81         </td></tr>\n",
       "\t<tr><td>Mexico        </td><td>1269          </td><td>296           </td><td>160           </td><td>48            </td><td>88            </td><td>54.05         </td><td>16.22         </td><td>29.73         </td></tr>\n",
       "\t<tr><td>China         </td><td>1267          </td><td>224           </td><td> 96           </td><td>64            </td><td>64            </td><td>42.86         </td><td>28.57         </td><td>28.57         </td></tr>\n",
       "\t<tr><td>Iceland       </td><td>1255          </td><td>200           </td><td>120           </td><td>40            </td><td>40            </td><td>60.00         </td><td>20.00         </td><td>20.00         </td></tr>\n",
       "\t<tr><td>Peru          </td><td>1249          </td><td>240           </td><td>104           </td><td>64            </td><td>72            </td><td>43.33         </td><td>26.67         </td><td>30.00         </td></tr>\n",
       "\t<tr><td>Chile         </td><td>1245          </td><td>280           </td><td>136           </td><td>80            </td><td>64            </td><td>48.57         </td><td>28.57         </td><td>22.86         </td></tr>\n",
       "\t<tr><td>Congo DR      </td><td>1234          </td><td>320           </td><td>184           </td><td>72            </td><td>64            </td><td>57.50         </td><td>22.50         </td><td>20.00         </td></tr>\n",
       "\t<tr><td>USA           </td><td>1232          </td><td>248           </td><td>136           </td><td>64            </td><td>48            </td><td>54.84         </td><td>25.81         </td><td>19.35         </td></tr>\n",
       "\t<tr><td>Tunisia       </td><td>1228          </td><td>280           </td><td>152           </td><td>48            </td><td>80            </td><td>54.29         </td><td>17.14         </td><td>28.57         </td></tr>\n",
       "\t<tr><td>Wales         </td><td>1227          </td><td>208           </td><td>112           </td><td>32            </td><td>64            </td><td>53.85         </td><td>15.38         </td><td>30.77         </td></tr>\n",
       "\t<tr><td>Croatia       </td><td>1219          </td><td>208           </td><td>120           </td><td>32            </td><td>56            </td><td>57.69         </td><td>15.38         </td><td>26.92         </td></tr>\n",
       "\t<tr><td>Costa Rica    </td><td>1217          </td><td>240           </td><td>104           </td><td>48            </td><td>88            </td><td>43.33         </td><td>20.00         </td><td>36.67         </td></tr>\n",
       "\t<tr><td>⋮</td><td>⋮</td><td>⋮</td><td>⋮</td><td>⋮</td><td>⋮</td><td>⋮</td><td>⋮</td><td>⋮</td></tr>\n",
       "\t<tr><td>Lithuania               </td><td>784                     </td><td>184                     </td><td>40                      </td><td>112                     </td><td>32                      </td><td>21.74                   </td><td> 60.87                  </td><td>17.39                   </td></tr>\n",
       "\t<tr><td>Mauritius               </td><td>781                     </td><td>184                     </td><td>40                      </td><td>112                     </td><td>32                      </td><td>21.74                   </td><td> 60.87                  </td><td>17.39                   </td></tr>\n",
       "\t<tr><td>Luxembourg              </td><td>779                     </td><td>160                     </td><td>16                      </td><td>112                     </td><td>32                      </td><td>10.00                   </td><td> 70.00                  </td><td>20.00                   </td></tr>\n",
       "\t<tr><td>Mongolia                </td><td>777                     </td><td> 64                     </td><td>32                      </td><td> 24                     </td><td> 8                      </td><td>50.00                   </td><td> 37.50                  </td><td>12.50                   </td></tr>\n",
       "\t<tr><td>South Sudan             </td><td>774                     </td><td>144                     </td><td>32                      </td><td> 80                     </td><td>32                      </td><td>22.22                   </td><td> 55.56                  </td><td>22.22                   </td></tr>\n",
       "\t<tr><td>Comoros                 </td><td>770                     </td><td>136                     </td><td>16                      </td><td> 80                     </td><td>40                      </td><td>11.76                   </td><td> 58.82                  </td><td>29.41                   </td></tr>\n",
       "\t<tr><td>Maldives                </td><td>757                     </td><td>176                     </td><td>56                      </td><td>112                     </td><td> 8                      </td><td>31.82                   </td><td> 63.64                  </td><td> 4.55                   </td></tr>\n",
       "\t<tr><td>Kazakhstan              </td><td>752                     </td><td>160                     </td><td> 8                      </td><td>112                     </td><td>40                      </td><td> 5.00                   </td><td> 70.00                  </td><td>25.00                   </td></tr>\n",
       "\t<tr><td>Tonga                   </td><td>747                     </td><td> 24                     </td><td> 0                      </td><td> 24                     </td><td> 0                      </td><td> 0.00                   </td><td>100.00                  </td><td> 0.00                   </td></tr>\n",
       "\t<tr><td>Northern Mariana Islands</td><td>735                     </td><td> 16                     </td><td> 0                      </td><td> 16                     </td><td> 0                      </td><td> 0.00                   </td><td>100.00                  </td><td> 0.00                   </td></tr>\n",
       "\t<tr><td>Laos                    </td><td>733                     </td><td>208                     </td><td>64                      </td><td>120                     </td><td>24                      </td><td>30.77                   </td><td> 57.69                  </td><td>11.54                   </td></tr>\n",
       "\t<tr><td>Cambodia                </td><td>733                     </td><td>216                     </td><td>64                      </td><td>144                     </td><td> 8                      </td><td>29.63                   </td><td> 66.67                  </td><td> 3.70                   </td></tr>\n",
       "\t<tr><td>Nepal                   </td><td>717                     </td><td>112                     </td><td>16                      </td><td> 56                     </td><td>40                      </td><td>14.29                   </td><td> 50.00                  </td><td>35.71                   </td></tr>\n",
       "\t<tr><td>Anguilla                </td><td>710                     </td><td> 24                     </td><td> 0                      </td><td> 24                     </td><td> 0                      </td><td> 0.00                   </td><td>100.00                  </td><td> 0.00                   </td></tr>\n",
       "\t<tr><td>Macau                   </td><td>700                     </td><td>120                     </td><td>24                      </td><td> 64                     </td><td>32                      </td><td>20.00                   </td><td> 53.33                  </td><td>26.67                   </td></tr>\n",
       "\t<tr><td>Kosovo                  </td><td>697                     </td><td> 80                     </td><td> 0                      </td><td> 72                     </td><td> 8                      </td><td> 0.00                   </td><td> 90.00                  </td><td>10.00                   </td></tr>\n",
       "\t<tr><td>Seychelles              </td><td>648                     </td><td>176                     </td><td> 8                      </td><td>136                     </td><td>32                      </td><td> 4.55                   </td><td> 77.27                  </td><td>18.18                   </td></tr>\n",
       "\t<tr><td>Moldova                 </td><td>622                     </td><td>160                     </td><td> 0                      </td><td>128                     </td><td>32                      </td><td> 0.00                   </td><td> 80.00                  </td><td>20.00                   </td></tr>\n",
       "\t<tr><td>Somalia                 </td><td>618                     </td><td> 40                     </td><td> 0                      </td><td> 40                     </td><td> 0                      </td><td> 0.00                   </td><td>100.00                  </td><td> 0.00                   </td></tr>\n",
       "\t<tr><td>Andorra                 </td><td>608                     </td><td>160                     </td><td> 8                      </td><td>144                     </td><td> 8                      </td><td> 5.00                   </td><td> 90.00                  </td><td> 5.00                   </td></tr>\n",
       "\t<tr><td>Malta                   </td><td>602                     </td><td>160                     </td><td> 0                      </td><td>136                     </td><td>24                      </td><td> 0.00                   </td><td> 85.00                  </td><td>15.00                   </td></tr>\n",
       "\t<tr><td>Liechtenstein           </td><td>587                     </td><td>160                     </td><td> 8                      </td><td>136                     </td><td>16                      </td><td> 5.00                   </td><td> 85.00                  </td><td>10.00                   </td></tr>\n",
       "\t<tr><td>Sri Lanka               </td><td>587                     </td><td> 64                     </td><td> 8                      </td><td> 48                     </td><td> 8                      </td><td>12.50                   </td><td> 75.00                  </td><td>12.50                   </td></tr>\n",
       "\t<tr><td>Djibouti                </td><td>566                     </td><td>104                     </td><td> 8                      </td><td> 96                     </td><td> 0                      </td><td> 7.69                   </td><td> 92.31                  </td><td> 0.00                   </td></tr>\n",
       "\t<tr><td>Bangladesh              </td><td>545                     </td><td>120                     </td><td> 8                      </td><td> 96                     </td><td>16                      </td><td> 6.67                   </td><td> 80.00                  </td><td>13.33                   </td></tr>\n",
       "\t<tr><td>Bhutan                  </td><td>533                     </td><td>168                     </td><td>24                      </td><td>136                     </td><td> 8                      </td><td>14.29                   </td><td> 80.95                  </td><td> 4.76                   </td></tr>\n",
       "\t<tr><td>Brunei                  </td><td>499                     </td><td> 96                     </td><td>16                      </td><td> 72                     </td><td> 8                      </td><td>16.67                   </td><td> 75.00                  </td><td> 8.33                   </td></tr>\n",
       "\t<tr><td>San Marino              </td><td>471                     </td><td>160                     </td><td> 0                      </td><td>152                     </td><td> 8                      </td><td> 0.00                   </td><td> 95.00                  </td><td> 5.00                   </td></tr>\n",
       "\t<tr><td>Gibraltar               </td><td>435                     </td><td>160                     </td><td> 0                      </td><td>160                     </td><td> 0                      </td><td> 0.00                   </td><td>100.00                  </td><td> 0.00                   </td></tr>\n",
       "\t<tr><td>East Timor              </td><td>417                     </td><td>176                     </td><td> 8                      </td><td>152                     </td><td>16                      </td><td> 4.55                   </td><td> 86.36                  </td><td> 9.09                   </td></tr>\n",
       "</tbody>\n",
       "</table>\n"
      ],
      "text/latex": [
       "\\begin{tabular}{r|lllllllll}\n",
       " team & elo & match & w & l & d & wpct & lpct & dpct\\\\\n",
       "\\hline\n",
       "\t Iran           & 1489           & 184            & 128            &  0             & 56             & 69.57          &  0.00          & 30.43         \\\\\n",
       "\t Germany        & 1475           & 248            & 192            & 24             & 32             & 77.42          &  9.68          & 12.90         \\\\\n",
       "\t Portugal       & 1440           & 248            & 176            & 16             & 56             & 70.97          &  6.45          & 22.58         \\\\\n",
       "\t Korea Republic & 1412           & 232            & 152            & 32             & 48             & 65.52          & 13.79          & 20.69         \\\\\n",
       "\t Spain          & 1379           & 200            & 160            & 24             & 16             & 80.00          & 12.00          &  8.00         \\\\\n",
       "\t England        & 1378           & 192            & 152            &  8             & 32             & 79.17          &  4.17          & 16.67         \\\\\n",
       "\t Australia      & 1375           & 248            & 152            & 32             & 64             & 61.29          & 12.90          & 25.81         \\\\\n",
       "\t Senegal        & 1360           & 232            & 160            & 16             & 56             & 68.97          &  6.90          & 24.14         \\\\\n",
       "\t Japan          & 1360           & 240            & 152            & 40             & 48             & 63.33          & 16.67          & 20.00         \\\\\n",
       "\t Brazil         & 1359           & 200            & 120            & 24             & 56             & 60.00          & 12.00          & 28.00         \\\\\n",
       "\t Poland         & 1342           & 200            & 128            & 16             & 56             & 64.00          &  8.00          & 28.00         \\\\\n",
       "\t France         & 1327           & 136            &  96            & 16             & 24             & 70.59          & 11.76          & 17.65         \\\\\n",
       "\t Switzerland    & 1314           & 208            & 144            & 32             & 32             & 69.23          & 15.38          & 15.38         \\\\\n",
       "\t Belgium        & 1301           & 200            & 152            & 24             & 24             & 76.00          & 12.00          & 12.00         \\\\\n",
       "\t Uzbekistan     & 1289           & 176            & 104            & 64             &  8             & 59.09          & 36.36          &  4.55         \\\\\n",
       "\t Syria          & 1284           & 176            &  80            & 48             & 48             & 45.45          & 27.27          & 27.27         \\\\\n",
       "\t Argentina      & 1280           & 240            & 120            & 32             & 88             & 50.00          & 13.33          & 36.67         \\\\\n",
       "\t Italy          & 1273           & 216            & 136            & 24             & 56             & 62.96          & 11.11          & 25.93         \\\\\n",
       "\t Saudi Arabia   & 1273           & 216            & 128            & 56             & 32             & 59.26          & 25.93          & 14.81         \\\\\n",
       "\t Mexico         & 1269           & 296            & 160            & 48             & 88             & 54.05          & 16.22          & 29.73         \\\\\n",
       "\t China          & 1267           & 224            &  96            & 64             & 64             & 42.86          & 28.57          & 28.57         \\\\\n",
       "\t Iceland        & 1255           & 200            & 120            & 40             & 40             & 60.00          & 20.00          & 20.00         \\\\\n",
       "\t Peru           & 1249           & 240            & 104            & 64             & 72             & 43.33          & 26.67          & 30.00         \\\\\n",
       "\t Chile          & 1245           & 280            & 136            & 80             & 64             & 48.57          & 28.57          & 22.86         \\\\\n",
       "\t Congo DR       & 1234           & 320            & 184            & 72             & 64             & 57.50          & 22.50          & 20.00         \\\\\n",
       "\t USA            & 1232           & 248            & 136            & 64             & 48             & 54.84          & 25.81          & 19.35         \\\\\n",
       "\t Tunisia        & 1228           & 280            & 152            & 48             & 80             & 54.29          & 17.14          & 28.57         \\\\\n",
       "\t Wales          & 1227           & 208            & 112            & 32             & 64             & 53.85          & 15.38          & 30.77         \\\\\n",
       "\t Croatia        & 1219           & 208            & 120            & 32             & 56             & 57.69          & 15.38          & 26.92         \\\\\n",
       "\t Costa Rica     & 1217           & 240            & 104            & 48             & 88             & 43.33          & 20.00          & 36.67         \\\\\n",
       "\t ⋮ & ⋮ & ⋮ & ⋮ & ⋮ & ⋮ & ⋮ & ⋮ & ⋮\\\\\n",
       "\t Lithuania                & 784                      & 184                      & 40                       & 112                      & 32                       & 21.74                    &  60.87                   & 17.39                   \\\\\n",
       "\t Mauritius                & 781                      & 184                      & 40                       & 112                      & 32                       & 21.74                    &  60.87                   & 17.39                   \\\\\n",
       "\t Luxembourg               & 779                      & 160                      & 16                       & 112                      & 32                       & 10.00                    &  70.00                   & 20.00                   \\\\\n",
       "\t Mongolia                 & 777                      &  64                      & 32                       &  24                      &  8                       & 50.00                    &  37.50                   & 12.50                   \\\\\n",
       "\t South Sudan              & 774                      & 144                      & 32                       &  80                      & 32                       & 22.22                    &  55.56                   & 22.22                   \\\\\n",
       "\t Comoros                  & 770                      & 136                      & 16                       &  80                      & 40                       & 11.76                    &  58.82                   & 29.41                   \\\\\n",
       "\t Maldives                 & 757                      & 176                      & 56                       & 112                      &  8                       & 31.82                    &  63.64                   &  4.55                   \\\\\n",
       "\t Kazakhstan               & 752                      & 160                      &  8                       & 112                      & 40                       &  5.00                    &  70.00                   & 25.00                   \\\\\n",
       "\t Tonga                    & 747                      &  24                      &  0                       &  24                      &  0                       &  0.00                    & 100.00                   &  0.00                   \\\\\n",
       "\t Northern Mariana Islands & 735                      &  16                      &  0                       &  16                      &  0                       &  0.00                    & 100.00                   &  0.00                   \\\\\n",
       "\t Laos                     & 733                      & 208                      & 64                       & 120                      & 24                       & 30.77                    &  57.69                   & 11.54                   \\\\\n",
       "\t Cambodia                 & 733                      & 216                      & 64                       & 144                      &  8                       & 29.63                    &  66.67                   &  3.70                   \\\\\n",
       "\t Nepal                    & 717                      & 112                      & 16                       &  56                      & 40                       & 14.29                    &  50.00                   & 35.71                   \\\\\n",
       "\t Anguilla                 & 710                      &  24                      &  0                       &  24                      &  0                       &  0.00                    & 100.00                   &  0.00                   \\\\\n",
       "\t Macau                    & 700                      & 120                      & 24                       &  64                      & 32                       & 20.00                    &  53.33                   & 26.67                   \\\\\n",
       "\t Kosovo                   & 697                      &  80                      &  0                       &  72                      &  8                       &  0.00                    &  90.00                   & 10.00                   \\\\\n",
       "\t Seychelles               & 648                      & 176                      &  8                       & 136                      & 32                       &  4.55                    &  77.27                   & 18.18                   \\\\\n",
       "\t Moldova                  & 622                      & 160                      &  0                       & 128                      & 32                       &  0.00                    &  80.00                   & 20.00                   \\\\\n",
       "\t Somalia                  & 618                      &  40                      &  0                       &  40                      &  0                       &  0.00                    & 100.00                   &  0.00                   \\\\\n",
       "\t Andorra                  & 608                      & 160                      &  8                       & 144                      &  8                       &  5.00                    &  90.00                   &  5.00                   \\\\\n",
       "\t Malta                    & 602                      & 160                      &  0                       & 136                      & 24                       &  0.00                    &  85.00                   & 15.00                   \\\\\n",
       "\t Liechtenstein            & 587                      & 160                      &  8                       & 136                      & 16                       &  5.00                    &  85.00                   & 10.00                   \\\\\n",
       "\t Sri Lanka                & 587                      &  64                      &  8                       &  48                      &  8                       & 12.50                    &  75.00                   & 12.50                   \\\\\n",
       "\t Djibouti                 & 566                      & 104                      &  8                       &  96                      &  0                       &  7.69                    &  92.31                   &  0.00                   \\\\\n",
       "\t Bangladesh               & 545                      & 120                      &  8                       &  96                      & 16                       &  6.67                    &  80.00                   & 13.33                   \\\\\n",
       "\t Bhutan                   & 533                      & 168                      & 24                       & 136                      &  8                       & 14.29                    &  80.95                   &  4.76                   \\\\\n",
       "\t Brunei                   & 499                      &  96                      & 16                       &  72                      &  8                       & 16.67                    &  75.00                   &  8.33                   \\\\\n",
       "\t San Marino               & 471                      & 160                      &  0                       & 152                      &  8                       &  0.00                    &  95.00                   &  5.00                   \\\\\n",
       "\t Gibraltar                & 435                      & 160                      &  0                       & 160                      &  0                       &  0.00                    & 100.00                   &  0.00                   \\\\\n",
       "\t East Timor               & 417                      & 176                      &  8                       & 152                      & 16                       &  4.55                    &  86.36                   &  9.09                   \\\\\n",
       "\\end{tabular}\n"
      ],
      "text/markdown": [
       "\n",
       "team | elo | match | w | l | d | wpct | lpct | dpct | \n",
       "|---|---|---|---|---|---|---|---|---|---|---|---|---|---|---|---|---|---|---|---|---|---|---|---|---|---|---|---|---|---|---|---|---|---|---|---|---|---|---|---|---|---|---|---|---|---|---|---|---|---|---|---|---|---|---|---|---|---|---|---|---|\n",
       "| Iran           | 1489           | 184            | 128            |  0             | 56             | 69.57          |  0.00          | 30.43          | \n",
       "| Germany        | 1475           | 248            | 192            | 24             | 32             | 77.42          |  9.68          | 12.90          | \n",
       "| Portugal       | 1440           | 248            | 176            | 16             | 56             | 70.97          |  6.45          | 22.58          | \n",
       "| Korea Republic | 1412           | 232            | 152            | 32             | 48             | 65.52          | 13.79          | 20.69          | \n",
       "| Spain          | 1379           | 200            | 160            | 24             | 16             | 80.00          | 12.00          |  8.00          | \n",
       "| England        | 1378           | 192            | 152            |  8             | 32             | 79.17          |  4.17          | 16.67          | \n",
       "| Australia      | 1375           | 248            | 152            | 32             | 64             | 61.29          | 12.90          | 25.81          | \n",
       "| Senegal        | 1360           | 232            | 160            | 16             | 56             | 68.97          |  6.90          | 24.14          | \n",
       "| Japan          | 1360           | 240            | 152            | 40             | 48             | 63.33          | 16.67          | 20.00          | \n",
       "| Brazil         | 1359           | 200            | 120            | 24             | 56             | 60.00          | 12.00          | 28.00          | \n",
       "| Poland         | 1342           | 200            | 128            | 16             | 56             | 64.00          |  8.00          | 28.00          | \n",
       "| France         | 1327           | 136            |  96            | 16             | 24             | 70.59          | 11.76          | 17.65          | \n",
       "| Switzerland    | 1314           | 208            | 144            | 32             | 32             | 69.23          | 15.38          | 15.38          | \n",
       "| Belgium        | 1301           | 200            | 152            | 24             | 24             | 76.00          | 12.00          | 12.00          | \n",
       "| Uzbekistan     | 1289           | 176            | 104            | 64             |  8             | 59.09          | 36.36          |  4.55          | \n",
       "| Syria          | 1284           | 176            |  80            | 48             | 48             | 45.45          | 27.27          | 27.27          | \n",
       "| Argentina      | 1280           | 240            | 120            | 32             | 88             | 50.00          | 13.33          | 36.67          | \n",
       "| Italy          | 1273           | 216            | 136            | 24             | 56             | 62.96          | 11.11          | 25.93          | \n",
       "| Saudi Arabia   | 1273           | 216            | 128            | 56             | 32             | 59.26          | 25.93          | 14.81          | \n",
       "| Mexico         | 1269           | 296            | 160            | 48             | 88             | 54.05          | 16.22          | 29.73          | \n",
       "| China          | 1267           | 224            |  96            | 64             | 64             | 42.86          | 28.57          | 28.57          | \n",
       "| Iceland        | 1255           | 200            | 120            | 40             | 40             | 60.00          | 20.00          | 20.00          | \n",
       "| Peru           | 1249           | 240            | 104            | 64             | 72             | 43.33          | 26.67          | 30.00          | \n",
       "| Chile          | 1245           | 280            | 136            | 80             | 64             | 48.57          | 28.57          | 22.86          | \n",
       "| Congo DR       | 1234           | 320            | 184            | 72             | 64             | 57.50          | 22.50          | 20.00          | \n",
       "| USA            | 1232           | 248            | 136            | 64             | 48             | 54.84          | 25.81          | 19.35          | \n",
       "| Tunisia        | 1228           | 280            | 152            | 48             | 80             | 54.29          | 17.14          | 28.57          | \n",
       "| Wales          | 1227           | 208            | 112            | 32             | 64             | 53.85          | 15.38          | 30.77          | \n",
       "| Croatia        | 1219           | 208            | 120            | 32             | 56             | 57.69          | 15.38          | 26.92          | \n",
       "| Costa Rica     | 1217           | 240            | 104            | 48             | 88             | 43.33          | 20.00          | 36.67          | \n",
       "| ⋮ | ⋮ | ⋮ | ⋮ | ⋮ | ⋮ | ⋮ | ⋮ | ⋮ | \n",
       "| Lithuania                | 784                      | 184                      | 40                       | 112                      | 32                       | 21.74                    |  60.87                   | 17.39                    | \n",
       "| Mauritius                | 781                      | 184                      | 40                       | 112                      | 32                       | 21.74                    |  60.87                   | 17.39                    | \n",
       "| Luxembourg               | 779                      | 160                      | 16                       | 112                      | 32                       | 10.00                    |  70.00                   | 20.00                    | \n",
       "| Mongolia                 | 777                      |  64                      | 32                       |  24                      |  8                       | 50.00                    |  37.50                   | 12.50                    | \n",
       "| South Sudan              | 774                      | 144                      | 32                       |  80                      | 32                       | 22.22                    |  55.56                   | 22.22                    | \n",
       "| Comoros                  | 770                      | 136                      | 16                       |  80                      | 40                       | 11.76                    |  58.82                   | 29.41                    | \n",
       "| Maldives                 | 757                      | 176                      | 56                       | 112                      |  8                       | 31.82                    |  63.64                   |  4.55                    | \n",
       "| Kazakhstan               | 752                      | 160                      |  8                       | 112                      | 40                       |  5.00                    |  70.00                   | 25.00                    | \n",
       "| Tonga                    | 747                      |  24                      |  0                       |  24                      |  0                       |  0.00                    | 100.00                   |  0.00                    | \n",
       "| Northern Mariana Islands | 735                      |  16                      |  0                       |  16                      |  0                       |  0.00                    | 100.00                   |  0.00                    | \n",
       "| Laos                     | 733                      | 208                      | 64                       | 120                      | 24                       | 30.77                    |  57.69                   | 11.54                    | \n",
       "| Cambodia                 | 733                      | 216                      | 64                       | 144                      |  8                       | 29.63                    |  66.67                   |  3.70                    | \n",
       "| Nepal                    | 717                      | 112                      | 16                       |  56                      | 40                       | 14.29                    |  50.00                   | 35.71                    | \n",
       "| Anguilla                 | 710                      |  24                      |  0                       |  24                      |  0                       |  0.00                    | 100.00                   |  0.00                    | \n",
       "| Macau                    | 700                      | 120                      | 24                       |  64                      | 32                       | 20.00                    |  53.33                   | 26.67                    | \n",
       "| Kosovo                   | 697                      |  80                      |  0                       |  72                      |  8                       |  0.00                    |  90.00                   | 10.00                    | \n",
       "| Seychelles               | 648                      | 176                      |  8                       | 136                      | 32                       |  4.55                    |  77.27                   | 18.18                    | \n",
       "| Moldova                  | 622                      | 160                      |  0                       | 128                      | 32                       |  0.00                    |  80.00                   | 20.00                    | \n",
       "| Somalia                  | 618                      |  40                      |  0                       |  40                      |  0                       |  0.00                    | 100.00                   |  0.00                    | \n",
       "| Andorra                  | 608                      | 160                      |  8                       | 144                      |  8                       |  5.00                    |  90.00                   |  5.00                    | \n",
       "| Malta                    | 602                      | 160                      |  0                       | 136                      | 24                       |  0.00                    |  85.00                   | 15.00                    | \n",
       "| Liechtenstein            | 587                      | 160                      |  8                       | 136                      | 16                       |  5.00                    |  85.00                   | 10.00                    | \n",
       "| Sri Lanka                | 587                      |  64                      |  8                       |  48                      |  8                       | 12.50                    |  75.00                   | 12.50                    | \n",
       "| Djibouti                 | 566                      | 104                      |  8                       |  96                      |  0                       |  7.69                    |  92.31                   |  0.00                    | \n",
       "| Bangladesh               | 545                      | 120                      |  8                       |  96                      | 16                       |  6.67                    |  80.00                   | 13.33                    | \n",
       "| Bhutan                   | 533                      | 168                      | 24                       | 136                      |  8                       | 14.29                    |  80.95                   |  4.76                    | \n",
       "| Brunei                   | 499                      |  96                      | 16                       |  72                      |  8                       | 16.67                    |  75.00                   |  8.33                    | \n",
       "| San Marino               | 471                      | 160                      |  0                       | 152                      |  8                       |  0.00                    |  95.00                   |  5.00                    | \n",
       "| Gibraltar                | 435                      | 160                      |  0                       | 160                      |  0                       |  0.00                    | 100.00                   |  0.00                    | \n",
       "| East Timor               | 417                      | 176                      |  8                       | 152                      | 16                       |  4.55                    |  86.36                   |  9.09                    | \n",
       "\n",
       "\n"
      ],
      "text/plain": [
       "    team                     elo  match w   l   d  wpct  lpct   dpct \n",
       "1   Iran                     1489 184   128  0  56 69.57  0.00  30.43\n",
       "2   Germany                  1475 248   192 24  32 77.42  9.68  12.90\n",
       "3   Portugal                 1440 248   176 16  56 70.97  6.45  22.58\n",
       "4   Korea Republic           1412 232   152 32  48 65.52 13.79  20.69\n",
       "5   Spain                    1379 200   160 24  16 80.00 12.00   8.00\n",
       "6   England                  1378 192   152  8  32 79.17  4.17  16.67\n",
       "7   Australia                1375 248   152 32  64 61.29 12.90  25.81\n",
       "8   Senegal                  1360 232   160 16  56 68.97  6.90  24.14\n",
       "9   Japan                    1360 240   152 40  48 63.33 16.67  20.00\n",
       "10  Brazil                   1359 200   120 24  56 60.00 12.00  28.00\n",
       "11  Poland                   1342 200   128 16  56 64.00  8.00  28.00\n",
       "12  France                   1327 136    96 16  24 70.59 11.76  17.65\n",
       "13  Switzerland              1314 208   144 32  32 69.23 15.38  15.38\n",
       "14  Belgium                  1301 200   152 24  24 76.00 12.00  12.00\n",
       "15  Uzbekistan               1289 176   104 64   8 59.09 36.36   4.55\n",
       "16  Syria                    1284 176    80 48  48 45.45 27.27  27.27\n",
       "17  Argentina                1280 240   120 32  88 50.00 13.33  36.67\n",
       "18  Italy                    1273 216   136 24  56 62.96 11.11  25.93\n",
       "19  Saudi Arabia             1273 216   128 56  32 59.26 25.93  14.81\n",
       "20  Mexico                   1269 296   160 48  88 54.05 16.22  29.73\n",
       "21  China                    1267 224    96 64  64 42.86 28.57  28.57\n",
       "22  Iceland                  1255 200   120 40  40 60.00 20.00  20.00\n",
       "23  Peru                     1249 240   104 64  72 43.33 26.67  30.00\n",
       "24  Chile                    1245 280   136 80  64 48.57 28.57  22.86\n",
       "25  Congo DR                 1234 320   184 72  64 57.50 22.50  20.00\n",
       "26  USA                      1232 248   136 64  48 54.84 25.81  19.35\n",
       "27  Tunisia                  1228 280   152 48  80 54.29 17.14  28.57\n",
       "28  Wales                    1227 208   112 32  64 53.85 15.38  30.77\n",
       "29  Croatia                  1219 208   120 32  56 57.69 15.38  26.92\n",
       "30  Costa Rica               1217 240   104 48  88 43.33 20.00  36.67\n",
       "⋮   ⋮                        ⋮    ⋮     ⋮   ⋮   ⋮  ⋮     ⋮      ⋮    \n",
       "187 Lithuania                784  184   40  112 32 21.74  60.87 17.39\n",
       "188 Mauritius                781  184   40  112 32 21.74  60.87 17.39\n",
       "189 Luxembourg               779  160   16  112 32 10.00  70.00 20.00\n",
       "190 Mongolia                 777   64   32   24  8 50.00  37.50 12.50\n",
       "191 South Sudan              774  144   32   80 32 22.22  55.56 22.22\n",
       "192 Comoros                  770  136   16   80 40 11.76  58.82 29.41\n",
       "193 Maldives                 757  176   56  112  8 31.82  63.64  4.55\n",
       "194 Kazakhstan               752  160    8  112 40  5.00  70.00 25.00\n",
       "195 Tonga                    747   24    0   24  0  0.00 100.00  0.00\n",
       "196 Northern Mariana Islands 735   16    0   16  0  0.00 100.00  0.00\n",
       "197 Laos                     733  208   64  120 24 30.77  57.69 11.54\n",
       "198 Cambodia                 733  216   64  144  8 29.63  66.67  3.70\n",
       "199 Nepal                    717  112   16   56 40 14.29  50.00 35.71\n",
       "200 Anguilla                 710   24    0   24  0  0.00 100.00  0.00\n",
       "201 Macau                    700  120   24   64 32 20.00  53.33 26.67\n",
       "202 Kosovo                   697   80    0   72  8  0.00  90.00 10.00\n",
       "203 Seychelles               648  176    8  136 32  4.55  77.27 18.18\n",
       "204 Moldova                  622  160    0  128 32  0.00  80.00 20.00\n",
       "205 Somalia                  618   40    0   40  0  0.00 100.00  0.00\n",
       "206 Andorra                  608  160    8  144  8  5.00  90.00  5.00\n",
       "207 Malta                    602  160    0  136 24  0.00  85.00 15.00\n",
       "208 Liechtenstein            587  160    8  136 16  5.00  85.00 10.00\n",
       "209 Sri Lanka                587   64    8   48  8 12.50  75.00 12.50\n",
       "210 Djibouti                 566  104    8   96  0  7.69  92.31  0.00\n",
       "211 Bangladesh               545  120    8   96 16  6.67  80.00 13.33\n",
       "212 Bhutan                   533  168   24  136  8 14.29  80.95  4.76\n",
       "213 Brunei                   499   96   16   72  8 16.67  75.00  8.33\n",
       "214 San Marino               471  160    0  152  8  0.00  95.00  5.00\n",
       "215 Gibraltar                435  160    0  160  0  0.00 100.00  0.00\n",
       "216 East Timor               417  176    8  152 16  4.55  86.36  9.09"
      ]
     },
     "metadata": {},
     "output_type": "display_data"
    }
   ],
   "source": [
    "foot.teams %>% mutate(wpct=round(100*w/match,2),lpct=round(100*l/match,2),dpct=round(100*d/match,2))%>% arrange(desc(elo))"
   ]
  },
  {
   "cell_type": "markdown",
   "metadata": {},
   "source": [
    "### Loop for Stats"
   ]
  },
  {
   "cell_type": "code",
   "execution_count": 17,
   "metadata": {},
   "outputs": [],
   "source": [
    "newelo <- function(eloA,eloB,scoreA,K=32) {\n",
    "    EA <- 1/(1+10**((eloB-eloA)/400))\n",
    "    delta <- round((scoreA-EA)*K,0)\n",
    "    c(eloA+delta,eloB-delta)\n",
    "}"
   ]
  },
  {
   "cell_type": "code",
   "execution_count": 18,
   "metadata": {},
   "outputs": [],
   "source": [
    "probadraw <- function(eloA,eloB) {\n",
    "    pwin <- 1/(1+10**((eloB-eloA)/400))\n",
    "    delta <- abs(2*pwin-1)\n",
    "    (1-delta)*exp(-delta)/2    \n",
    "}"
   ]
  },
  {
   "cell_type": "code",
   "execution_count": 19,
   "metadata": {},
   "outputs": [],
   "source": [
    "create_pool_round <- function() {\n",
    "    countries <- c('Russia','Saudi Arabia','Egypt','Uruguay','Portugal','Spain','Morocco','Iran',\n",
    "                   'France','Australia','Peru','Denmark','Argentina','Iceland','Croatia','Nigeria',\n",
    "                   'Brazil','Switzerland','Costa Rica','Serbia','Germany','Mexico','Sweden','Korea Republic',\n",
    "                   'Belgium','Panama','Tunisia','England','Poland','Senegal','Colombia','Japan' )\n",
    "    poolteam <- c('A','A','A','A','B','B','B','B',\n",
    "                  'C','C','C','C','D','D','D','D',\n",
    "                  'E','E','E','E','F','F','F','F',\n",
    "                  'G','G','G','G','H','H','H','H')\n",
    "    pools <- data.frame(team=countries,pool=poolteam,stringsAsFactors=F)\n",
    "    \n",
    "    wc.teams <<- foot.teams %>% inner_join(pools,by='team') %>% mutate(match=0,w=0,l=0,d=0)\n",
    "\n",
    "    date <- c('Jun 14 2018','Jun 15 2018','Jun 15 2018','Jun 15 2018','Jun 16 2018','Jun 16 2018','Jun 16 2018','Jun 16 2018',\n",
    "              'Jun 17 2018','Jun 17 2018','Jun 17 2018','Jun 18 2018','Jun 18 2018','Jun 18 2018','Jun 19 2018','Jun 19 2018',\n",
    "              'Jun 19 2018','Jun 20 2018','Jun 20 2018','Jun 20 2018','Jun 21 2018','Jun 21 2018','Jun 21 2018','Jun 22 2018',\n",
    "              'Jun 22 2018','Jun 22 2018','Jun 23 2018','Jun 23 2018','Jun 23 2018','Jun 24 2018','Jun 24 2018','Jun 24 2018',\n",
    "              'Jun 25 2018','Jun 25 2018','Jun 25 2018','Jun 25 2018','Jun 26 2018','Jun 26 2018','Jun 26 2018','Jun 26 2018',\n",
    "              'Jun 27 2018','Jun 27 2018','Jun 27 2018','Jun 27 2018','Jun 28 2018','Jun 28 2018','Jun 28 2018','Jun 28 2018')\n",
    "    home_team <- c('Russia','Egypt','Portugal','Morocco','France','Peru','Argentina','Croatia',\n",
    "                   'Brazil','Costa Rica','Germany','Sweden','Belgium','Tunisia','Poland','Colombia',\n",
    "                   'Russia','Uruguay','Portugal','Iran','France','Denmark','Argentina','Nigeria',\n",
    "                   'Brazil','Serbia','Germany','Korea Republic','Belgium','England','Poland','Japan',\n",
    "                   'Uruguay','Saudi Arabia','Iran','Spain','Denmark','Australia','Nigeria','Iceland',\n",
    "                   'Serbia','Switzerland','Korea Republic','Mexico','England','Panama','Japan','Senegal')\n",
    "    away_team <- c('Saudi Arabia','Uruguay','Spain','Iran','Australia','Denmark','Iceland','Nigeria',\n",
    "                   'Switzerland','Serbia','Mexico','Korea Republic','Panama','England','Senegal','Japan',\n",
    "                   'Egypt','Saudi Arabia','Morocco','Spain','Peru','Australia','Croatia','Iceland',\n",
    "                   'Costa Rica','Switzerland','Sweden','Mexico','Tunisia','Panama','Colombia','Senegal',\n",
    "                   'Russia','Egypt','Portugal','Morocco','France','Peru','Argentina','Croatia',\n",
    "                   'Brazil','Costa Rica','Germany','Sweden','Belgium','Tunisia','Poland','Colombia')\n",
    "    pool <- c('A','A','B','B','C','C','D','D','E','E','F','F','G','G','H','H',\n",
    "              'A','A','B','B','C','C','D','D','E','E','F','F','G','G','H','H',\n",
    "              'A','A','B','B','C','C','D','D','E','E','F','F','G','G','H','H')\n",
    "\n",
    "    wc.pool <<- data.frame(pool=pool, date=date, home_team=home_team, away_team=away_team, stringsAsFactors=F) %>% mutate(date=as.Date(date,'%b %d %Y'))\n",
    "}"
   ]
  },
  {
   "cell_type": "code",
   "execution_count": 20,
   "metadata": {},
   "outputs": [],
   "source": [
    "play_pool_round <- function() {\n",
    "    for (row in 1:(dim(wc.pool)[1])) {\n",
    "        home_team_idx = as.numeric(rownames(wc.teams[wc.teams$team==wc.pool[row,]$home_team,]))\n",
    "        away_team_idx = as.numeric(rownames(wc.teams[wc.teams$team==wc.pool[row,]$away_team,]))\n",
    "\n",
    "        wc.pool[row,'home_elo'] <- wc.teams[home_team_idx,]$elo\n",
    "        wc.pool[row,'away_elo'] <- wc.teams[away_team_idx,]$elo\n",
    "        wc.pool[row,'home_p'] <- 1/(1+10**((wc.pool[row,]$away_elo-wc.pool[row,]$home_elo)/400))\n",
    "        wc.pool[row,'draw_p'] <- probadraw(wc.pool[row,]$home_elo,wc.pool[row,]$away_elo)\n",
    "        wc.pool[row,'home_pwin']  <- wc.pool[row,]$home_p - wc.pool[row,]$draw_p/2\n",
    "        wc.pool[row,'home_pdraw'] <- wc.pool[row,]$home_p + wc.pool[row,]$draw_p/2\n",
    "        wc.pool[row,'rand'] <- runif(1)\n",
    "\n",
    "        wc.pool[row,'home_pts'] <- if_else(wc.pool[row,]$rand<=wc.pool[row,]$home_pwin,1,if_else(wc.pool[row,]$rand<=wc.pool[row,]$home_pdraw,0.5,0))\n",
    "\n",
    "        nelo <- newelo(wc.pool[row,]$home_elo,wc.pool[row,]$away_elo,wc.pool[row,]$home_pts)\n",
    "        wc.teams[home_team_idx,]$elo <- nelo[1]\n",
    "        wc.teams[away_team_idx,]$elo <- nelo[2]\n",
    "\n",
    "        wc.teams[home_team_idx,]$match <- wc.teams[home_team_idx,]$match +1    \n",
    "        wc.teams[away_team_idx,]$match <- wc.teams[away_team_idx,]$match +1\n",
    "        if (wc.pool[row,]$home_pts==1) {\n",
    "            wc.teams[home_team_idx,]$w = wc.teams[home_team_idx,]$w +1\n",
    "            wc.teams[away_team_idx,]$l = wc.teams[away_team_idx,]$l +1\n",
    "        } else if (wc.pool[row,]$home_pts==0) {\n",
    "            wc.teams[home_team_idx,]$l = wc.teams[home_team_idx,]$l +1\n",
    "            wc.teams[away_team_idx,]$w = wc.teams[away_team_idx,]$w +1\n",
    "        } else {\n",
    "            wc.teams[home_team_idx,]$d = wc.teams[home_team_idx,]$d +1\n",
    "            wc.teams[away_team_idx,]$d = wc.teams[away_team_idx,]$d +1\n",
    "        }\n",
    "    }\n",
    "    wc.teams <<- wc.teams %>% mutate(pts=3*w+d)\n",
    "    wc.pool <<- wc.pool\n",
    "}"
   ]
  },
  {
   "cell_type": "code",
   "execution_count": 21,
   "metadata": {},
   "outputs": [],
   "source": [
    "create_8th_round <- function() {\n",
    "    wc.qualified <- wc.teams %>% arrange(pool,desc(pts),desc(w),l) %>% group_by(pool) %>% \n",
    "                             mutate(pos=row_number()) %>% slice(1:2) %>% mutate(rank=paste0(pool,pos)) %>% ungroup()\n",
    "    home_team <- c('A1','C1','E1','G1','B1','D1','F1','H1')\n",
    "    away_team <- c('B2','D2','F2','H2','A2','C2','E2','G2')\n",
    "    wc.8th <- data.frame(home_pos=home_team,away_pos=away_team,stringsAsFactors=F)\n",
    "    wc.8th <<- wc.8th %>% inner_join(wc.qualified %>% select(team,rank),by=c('home_pos'='rank')) %>% rename(home_team=team) %>%\n",
    "                     inner_join(wc.qualified %>% select(team,rank),by=c('away_pos'='rank')) %>% rename(away_team=team)\n",
    "}"
   ]
  },
  {
   "cell_type": "code",
   "execution_count": 22,
   "metadata": {},
   "outputs": [],
   "source": [
    "play_8th_round <- function() {\n",
    "    for (row in 1:(dim(wc.8th)[1])) {\n",
    "        home_team_idx = as.numeric(rownames(wc.teams[wc.teams$team==wc.8th[row,]$home_team,]))\n",
    "        away_team_idx = as.numeric(rownames(wc.teams[wc.teams$team==wc.8th[row,]$away_team,]))\n",
    "\n",
    "        wc.8th[row,'home_elo'] <- wc.teams[home_team_idx,]$elo\n",
    "        wc.8th[row,'away_elo'] <- wc.teams[away_team_idx,]$elo\n",
    "        wc.8th[row,'home_p'] <- 1/(1+10**((wc.8th[row,]$away_elo-wc.8th[row,]$home_elo)/400))\n",
    "        wc.8th[row,'rand'] <- runif(1)\n",
    "        wc.8th[row,'home_pts'] <- if_else(wc.8th[row,]$rand<=wc.8th[row,]$home_p,1,0)\n",
    "\n",
    "        wc.teams[home_team_idx,'r8th'] <- wc.8th[row,]$home_pts\n",
    "        wc.teams[away_team_idx,'r8th'] <- 1-wc.8th[row,]$home_pts\n",
    "\n",
    "        nelo <- newelo(wc.8th[row,]$home_elo,wc.8th[row,]$away_elo,wc.8th[row,]$home_pts)\n",
    "        wc.teams[home_team_idx,]$elo <- nelo[1]\n",
    "        wc.teams[away_team_idx,]$elo <- nelo[2]\n",
    "    }\n",
    "    wc.teams <<- wc.teams\n",
    "    wc.8th <<- wc.8th\n",
    "}"
   ]
  },
  {
   "cell_type": "code",
   "execution_count": 23,
   "metadata": {},
   "outputs": [],
   "source": [
    "create_4th_round <- function() {\n",
    "    home_team <- c(if_else(wc.8th[1,]$home_pts==1,as.character(wc.8th[1,]$home_team),as.character(wc.8th[1,]$away_team)),\n",
    "                   if_else(wc.8th[3,]$home_pts==1,as.character(wc.8th[3,]$home_team),as.character(wc.8th[3,]$away_team)),\n",
    "                   if_else(wc.8th[5,]$home_pts==1,as.character(wc.8th[5,]$home_team),as.character(wc.8th[5,]$away_team)),\n",
    "                   if_else(wc.8th[7,]$home_pts==1,as.character(wc.8th[7,]$home_team),as.character(wc.8th[7,]$away_team)) )\n",
    "\n",
    "    away_team <- c(if_else(wc.8th[2,]$home_pts==1,as.character(wc.8th[2,]$home_team),as.character(wc.8th[2,]$away_team)),\n",
    "                   if_else(wc.8th[4,]$home_pts==1,as.character(wc.8th[4,]$home_team),as.character(wc.8th[4,]$away_team)),\n",
    "                   if_else(wc.8th[6,]$home_pts==1,as.character(wc.8th[6,]$home_team),as.character(wc.8th[6,]$away_team)),\n",
    "                   if_else(wc.8th[8,]$home_pts==1,as.character(wc.8th[8,]$home_team),as.character(wc.8th[8,]$away_team)) )\n",
    "\n",
    "    wc.4th <<- data.frame(home_team=home_team,away_team=away_team, stringsAsFactors=F) \n",
    "}"
   ]
  },
  {
   "cell_type": "code",
   "execution_count": 24,
   "metadata": {},
   "outputs": [],
   "source": [
    "play_4th_round <- function() {\n",
    "    for (row in 1:(dim(wc.4th)[1])) {\n",
    "        home_team_idx = as.numeric(rownames(wc.teams[wc.teams$team==wc.4th[row,]$home_team,]))\n",
    "        away_team_idx = as.numeric(rownames(wc.teams[wc.teams$team==wc.4th[row,]$away_team,]))\n",
    "\n",
    "        wc.4th[row,'home_elo'] <- wc.teams[home_team_idx,]$elo\n",
    "        wc.4th[row,'away_elo'] <- wc.teams[away_team_idx,]$elo\n",
    "        wc.4th[row,'home_p'] <- 1/(1+10**((wc.4th[row,]$away_elo-wc.4th[row,]$home_elo)/400))\n",
    "        wc.4th[row,'rand'] <- runif(1)\n",
    "        wc.4th[row,'home_pts'] <- if_else(wc.4th[row,]$rand<=wc.4th[row,]$home_p,1,0)\n",
    "\n",
    "        wc.teams[home_team_idx,'r4th'] <- wc.4th[row,]$home_pts\n",
    "        wc.teams[away_team_idx,'r4th'] <- 1-wc.4th[row,]$home_pts\n",
    "\n",
    "        nelo <- newelo(wc.4th[row,]$home_elo,wc.4th[row,]$away_elo,wc.4th[row,]$home_pts)\n",
    "        wc.teams[home_team_idx,]$elo <- nelo[1]\n",
    "        wc.teams[away_team_idx,]$elo <- nelo[2]\n",
    "    }\n",
    "    wc.teams <<- wc.teams\n",
    "    wc.4th <<- wc.4th    \n",
    "}"
   ]
  },
  {
   "cell_type": "code",
   "execution_count": 25,
   "metadata": {},
   "outputs": [],
   "source": [
    "create_2th_round <- function() {\n",
    "    home_team <- c(if_else(wc.4th[1,]$home_pts==1,as.character(wc.4th[1,]$home_team),as.character(wc.4th[1,]$away_team)),\n",
    "                   if_else(wc.4th[3,]$home_pts==1,as.character(wc.4th[3,]$home_team),as.character(wc.4th[3,]$away_team)) )\n",
    "\n",
    "    away_team <- c(if_else(wc.4th[2,]$home_pts==1,as.character(wc.4th[2,]$home_team),as.character(wc.4th[2,]$away_team)),\n",
    "                   if_else(wc.4th[4,]$home_pts==1,as.character(wc.4th[4,]$home_team),as.character(wc.4th[4,]$away_team)) )\n",
    "\n",
    "    wc.2th <<- data.frame(home_team=home_team,away_team=away_team, stringsAsFactors=F)   \n",
    "}"
   ]
  },
  {
   "cell_type": "code",
   "execution_count": 26,
   "metadata": {},
   "outputs": [],
   "source": [
    "play_2th_round <- function() {\n",
    "    for (row in 1:(dim(wc.2th)[1])) {\n",
    "        home_team_idx = as.numeric(rownames(wc.teams[wc.teams$team==wc.2th[row,]$home_team,]))\n",
    "        away_team_idx = as.numeric(rownames(wc.teams[wc.teams$team==wc.2th[row,]$away_team,]))\n",
    "\n",
    "        wc.2th[row,'home_elo'] <- wc.teams[home_team_idx,]$elo\n",
    "        wc.2th[row,'away_elo'] <- wc.teams[away_team_idx,]$elo\n",
    "        wc.2th[row,'home_p'] <- 1/(1+10**((wc.2th[row,]$away_elo-wc.2th[row,]$home_elo)/400))\n",
    "        wc.2th[row,'rand'] <- runif(1)\n",
    "        wc.2th[row,'home_pts'] <- if_else(wc.2th[row,]$rand<=wc.2th[row,]$home_p,1,0)\n",
    "\n",
    "        wc.teams[home_team_idx,'r2th'] <- wc.2th[row,]$home_pts\n",
    "        wc.teams[away_team_idx,'r2th'] <- 1-wc.2th[row,]$home_pts\n",
    "\n",
    "        nelo <- newelo(wc.2th[row,]$home_elo,wc.2th[row,]$away_elo,wc.2th[row,]$home_pts)\n",
    "        wc.teams[home_team_idx,]$elo <- nelo[1]\n",
    "        wc.teams[away_team_idx,]$elo <- nelo[2]\n",
    "    }\n",
    "    wc.teams <<- wc.teams\n",
    "    wc.2th <<- wc.2th\n",
    "}"
   ]
  },
  {
   "cell_type": "code",
   "execution_count": 27,
   "metadata": {},
   "outputs": [],
   "source": [
    "create_playoff_round <- function() {\n",
    "    home_team <- c(if_else(wc.2th[1,]$home_pts==1,as.character(wc.2th[1,]$away_team),as.character(wc.2th[1,]$home_team)))\n",
    "    away_team <- c(if_else(wc.2th[2,]$home_pts==1,as.character(wc.2th[2,]$away_team),as.character(wc.2th[2,]$home_team)))\n",
    "\n",
    "    wc.playoff <<- data.frame(home_team=home_team,away_team=away_team, stringsAsFactors=F)    \n",
    "}"
   ]
  },
  {
   "cell_type": "code",
   "execution_count": 28,
   "metadata": {},
   "outputs": [],
   "source": [
    "play_playoff_round <- function() {\n",
    "    home_team_idx = as.numeric(rownames(wc.teams[wc.teams$team==wc.playoff[1,]$home_team,]))\n",
    "    away_team_idx = as.numeric(rownames(wc.teams[wc.teams$team==wc.playoff[1,]$away_team,]))\n",
    "\n",
    "    wc.playoff[1,'home_elo'] <- wc.teams[home_team_idx,]$elo\n",
    "    wc.playoff[1,'away_elo'] <- wc.teams[away_team_idx,]$elo\n",
    "    wc.playoff[1,'home_p'] <- 1/(1+10**((wc.playoff[1,]$away_elo-wc.playoff[1,]$home_elo)/400))\n",
    "    wc.playoff[1,'rand'] <- runif(1)\n",
    "    wc.playoff[1,'home_pts'] <- if_else(wc.playoff[1,]$rand<=wc.playoff[1,]$home_p,1,0)\n",
    "\n",
    "    wc.teams[home_team_idx,'rplayoff'] <- wc.playoff[1,]$home_pts\n",
    "    wc.teams[away_team_idx,'rplayoff'] <- 1-wc.playoff[1,]$home_pts\n",
    "\n",
    "    nelo <- newelo(wc.playoff[1,]$home_elo,wc.playoff[1,]$away_elo,wc.playoff[1,]$home_pts)\n",
    "    wc.teams[home_team_idx,]$elo <- nelo[1]\n",
    "    wc.teams[away_team_idx,]$elo <- nelo[2]\n",
    "\n",
    "    wc.teams <<- wc.teams\n",
    "    wc.playoff <<- wc.playoff\n",
    "}"
   ]
  },
  {
   "cell_type": "code",
   "execution_count": 29,
   "metadata": {},
   "outputs": [],
   "source": [
    "create_final_round <- function() {\n",
    "    home_team <- c(if_else(wc.2th[1,]$home_pts==1,as.character(wc.2th[1,]$home_team),as.character(wc.2th[1,]$away_team)))\n",
    "    away_team <- c(if_else(wc.2th[2,]$home_pts==1,as.character(wc.2th[2,]$home_team),as.character(wc.2th[2,]$away_team)))\n",
    "\n",
    "    wc.final <<- data.frame(home_team=home_team,away_team=away_team, stringsAsFactors=F)   \n",
    "}"
   ]
  },
  {
   "cell_type": "code",
   "execution_count": 30,
   "metadata": {},
   "outputs": [],
   "source": [
    "play_final_round <- function() {\n",
    "    home_team_idx = as.numeric(rownames(wc.teams[wc.teams$team==wc.final[1,]$home_team,]))\n",
    "    away_team_idx = as.numeric(rownames(wc.teams[wc.teams$team==wc.final[1,]$away_team,]))\n",
    "\n",
    "    wc.final[1,'home_elo'] <- wc.teams[home_team_idx,]$elo\n",
    "    wc.final[1,'away_elo'] <- wc.teams[away_team_idx,]$elo\n",
    "    wc.final[1,'home_p'] <- 1/(1+10**((wc.final[1,]$away_elo-wc.final[1,]$home_elo)/400))\n",
    "    wc.final[1,'rand'] <- runif(1)\n",
    "    wc.final[1,'home_pts'] <- if_else(wc.final[1,]$rand<=wc.final[1,]$home_p,1,0)\n",
    "\n",
    "    wc.teams[home_team_idx,'rfinal'] <- wc.final[1,]$home_pts\n",
    "    wc.teams[away_team_idx,'rfinal'] <- 1-wc.final[1,]$home_pts\n",
    "\n",
    "    nelo <- newelo(wc.final[1,]$home_elo,wc.final[1,]$away_elo,wc.final[1,]$home_pts)\n",
    "    wc.teams[home_team_idx,]$elo <- nelo[1]\n",
    "    wc.teams[away_team_idx,]$elo <- nelo[2]\n",
    "    \n",
    "    wc.teams <<- wc.teams\n",
    "    wc.final <<- wc.final\n",
    "}"
   ]
  },
  {
   "cell_type": "code",
   "execution_count": 31,
   "metadata": {
    "scrolled": true
   },
   "outputs": [
    {
     "name": "stderr",
     "output_type": "stream",
     "text": [
      "Loading required package: iterators\n",
      "Loading required package: parallel\n"
     ]
    }
   ],
   "source": [
    "library(foreach)\n",
    "library(doParallel)"
   ]
  },
  {
   "cell_type": "code",
   "execution_count": 32,
   "metadata": {},
   "outputs": [],
   "source": [
    "no_cores <- detectCores() - 1  "
   ]
  },
  {
   "cell_type": "code",
   "execution_count": 33,
   "metadata": {},
   "outputs": [
    {
     "name": "stdout",
     "output_type": "stream",
     "text": [
      "Stats: 120.296 sec elapsed\n"
     ]
    },
    {
     "data": {
      "text/html": [
       "<ol class=list-inline>\n",
       "\t<li>32000</li>\n",
       "\t<li>14</li>\n",
       "</ol>\n"
      ],
      "text/latex": [
       "\\begin{enumerate*}\n",
       "\\item 32000\n",
       "\\item 14\n",
       "\\end{enumerate*}\n"
      ],
      "text/markdown": [
       "1. 32000\n",
       "2. 14\n",
       "\n",
       "\n"
      ],
      "text/plain": [
       "[1] 32000    14"
      ]
     },
     "metadata": {},
     "output_type": "display_data"
    }
   ],
   "source": [
    "cl <- makeCluster(no_cores, type=\"FORK\")\n",
    "registerDoParallel(cl)\n",
    "\n",
    "tic('Stats')\n",
    "for(r in 1:100) {\n",
    "    wc.teams.stats <- foreach(i=1:10000, .combine=rbind) %dopar%\n",
    "    {\n",
    "        set.seed(NULL)\n",
    "\n",
    "        create_pool_round()\n",
    "        play_pool_round()\n",
    "\n",
    "        create_8th_round()\n",
    "        play_8th_round()\n",
    "\n",
    "        create_4th_round()\n",
    "        play_4th_round()\n",
    "\n",
    "        create_2th_round()\n",
    "        play_2th_round()\n",
    "\n",
    "        create_playoff_round()\n",
    "        play_playoff_round()\n",
    "\n",
    "        create_final_round()\n",
    "        play_final_round()\n",
    "\n",
    "        wc.teams.stats <- wc.teams %>% mutate(run=10000*(r-1)+i)\n",
    "        saveRDS(wc.teams.stats, paste0('wc.teams.stats.',str_pad(r,2,pad='0')))\n",
    "    }\n",
    "    \n",
    "stopCluster(cl)\n",
    "toc()\n",
    "    \n",
    "dim(wc.teams.stats)"
   ]
  },
  {
   "cell_type": "code",
   "execution_count": null,
   "metadata": {},
   "outputs": [],
   "source": [
    "wc.teams.stats.all <- readRDS('wc.teams.stats.01')\n",
    "for(r in 2:100) {\n",
    "    wc.teams.stats <- readRDS('wc.teams.stats.', paste0('wc.teams.stats.',str_pad(r,2,pad='0')))\n",
    "    wc.teams.stats.all <- wc.teams.stats.all %>% rbind(wc.teams.stats)\n",
    "    }"
   ]
  },
  {
   "cell_type": "code",
   "execution_count": 34,
   "metadata": {
    "scrolled": false
   },
   "outputs": [
    {
     "data": {
      "text/html": [
       "<table>\n",
       "<thead><tr><th scope=col>team</th><th scope=col>r8th</th><th scope=col>r4th</th><th scope=col>r2th</th><th scope=col>rplayoff</th><th scope=col>rfinal</th></tr></thead>\n",
       "<tbody>\n",
       "\t<tr><td>Iran          </td><td>0.561         </td><td>0.403         </td><td>0.259         </td><td>0.103         </td><td>0.172         </td></tr>\n",
       "\t<tr><td>Germany       </td><td>0.612         </td><td>0.421         </td><td>0.270         </td><td>0.102         </td><td>0.169         </td></tr>\n",
       "\t<tr><td>Portugal      </td><td>0.574         </td><td>0.391         </td><td>0.221         </td><td>0.099         </td><td>0.118         </td></tr>\n",
       "\t<tr><td>Korea Republic</td><td>0.448         </td><td>0.269         </td><td>0.152         </td><td>0.062         </td><td>0.071         </td></tr>\n",
       "\t<tr><td>Australia     </td><td>0.542         </td><td>0.298         </td><td>0.138         </td><td>0.084         </td><td>0.063         </td></tr>\n",
       "\t<tr><td>Spain         </td><td>0.321         </td><td>0.173         </td><td>0.090         </td><td>0.042         </td><td>0.049         </td></tr>\n",
       "\t<tr><td>England       </td><td>0.435         </td><td>0.216         </td><td>0.102         </td><td>0.059         </td><td>0.045         </td></tr>\n",
       "\t<tr><td>Senegal       </td><td>0.414         </td><td>0.192         </td><td>0.103         </td><td>0.040         </td><td>0.042         </td></tr>\n",
       "\t<tr><td>Brazil        </td><td>0.310         </td><td>0.163         </td><td>0.079         </td><td>0.045         </td><td>0.037         </td></tr>\n",
       "\t<tr><td>Japan         </td><td>0.306         </td><td>0.154         </td><td>0.072         </td><td>0.048         </td><td>0.033         </td></tr>\n",
       "\t<tr><td>Poland        </td><td>0.318         </td><td>0.147         </td><td>0.061         </td><td>0.037         </td><td>0.029         </td></tr>\n",
       "\t<tr><td>France        </td><td>0.339         </td><td>0.139         </td><td>0.066         </td><td>0.036         </td><td>0.027         </td></tr>\n",
       "\t<tr><td>Switzerland   </td><td>0.263         </td><td>0.117         </td><td>0.052         </td><td>0.027         </td><td>0.025         </td></tr>\n",
       "\t<tr><td>Argentina     </td><td>0.291         </td><td>0.114         </td><td>0.051         </td><td>0.022         </td><td>0.020         </td></tr>\n",
       "\t<tr><td>Saudi Arabia  </td><td>0.199         </td><td>0.099         </td><td>0.044         </td><td>0.022         </td><td>0.016         </td></tr>\n",
       "\t<tr><td>Belgium       </td><td>0.244         </td><td>0.100         </td><td>0.039         </td><td>0.021         </td><td>0.015         </td></tr>\n",
       "\t<tr><td>Croatia       </td><td>0.181         </td><td>0.061         </td><td>0.021         </td><td>0.014         </td><td>0.010         </td></tr>\n",
       "\t<tr><td>Mexico        </td><td>0.127         </td><td>0.058         </td><td>0.017         </td><td>0.017         </td><td>0.009         </td></tr>\n",
       "\t<tr><td>Peru          </td><td>0.178         </td><td>0.060         </td><td>0.020         </td><td>0.012         </td><td>0.008         </td></tr>\n",
       "\t<tr><td>Tunisia       </td><td>0.156         </td><td>0.055         </td><td>0.020         </td><td>0.014         </td><td>0.007         </td></tr>\n",
       "\t<tr><td>Iceland       </td><td>0.229         </td><td>0.065         </td><td>0.020         </td><td>0.018         </td><td>0.005         </td></tr>\n",
       "\t<tr><td>Nigeria       </td><td>0.115         </td><td>0.030         </td><td>0.013         </td><td>0.007         </td><td>0.005         </td></tr>\n",
       "\t<tr><td>Russia        </td><td>0.072         </td><td>0.030         </td><td>0.009         </td><td>0.005         </td><td>0.005         </td></tr>\n",
       "\t<tr><td>Egypt         </td><td>0.108         </td><td>0.039         </td><td>0.011         </td><td>0.015         </td><td>0.004         </td></tr>\n",
       "\t<tr><td>Costa Rica    </td><td>0.128         </td><td>0.045         </td><td>0.012         </td><td>0.009         </td><td>0.003         </td></tr>\n",
       "\t<tr><td>Uruguay       </td><td>0.106         </td><td>0.038         </td><td>0.015         </td><td>0.005         </td><td>0.003         </td></tr>\n",
       "\t<tr><td>Denmark       </td><td>0.125         </td><td>0.037         </td><td>0.011         </td><td>0.009         </td><td>0.002         </td></tr>\n",
       "\t<tr><td>Morocco       </td><td>0.059         </td><td>0.023         </td><td>0.007         </td><td>0.009         </td><td>0.002         </td></tr>\n",
       "\t<tr><td>Colombia      </td><td>0.064         </td><td>0.017         </td><td>0.005         </td><td>0.006         </td><td>0.002         </td></tr>\n",
       "\t<tr><td>Serbia        </td><td>0.057         </td><td>0.020         </td><td>0.010         </td><td>0.003         </td><td>0.002         </td></tr>\n",
       "\t<tr><td>Sweden        </td><td>0.055         </td><td>0.015         </td><td>0.006         </td><td>0.004         </td><td>0.001         </td></tr>\n",
       "\t<tr><td>Panama        </td><td>0.063         </td><td>0.011         </td><td>0.004         </td><td>0.004         </td><td>0.001         </td></tr>\n",
       "</tbody>\n",
       "</table>\n"
      ],
      "text/latex": [
       "\\begin{tabular}{r|llllll}\n",
       " team & r8th & r4th & r2th & rplayoff & rfinal\\\\\n",
       "\\hline\n",
       "\t Iran           & 0.561          & 0.403          & 0.259          & 0.103          & 0.172         \\\\\n",
       "\t Germany        & 0.612          & 0.421          & 0.270          & 0.102          & 0.169         \\\\\n",
       "\t Portugal       & 0.574          & 0.391          & 0.221          & 0.099          & 0.118         \\\\\n",
       "\t Korea Republic & 0.448          & 0.269          & 0.152          & 0.062          & 0.071         \\\\\n",
       "\t Australia      & 0.542          & 0.298          & 0.138          & 0.084          & 0.063         \\\\\n",
       "\t Spain          & 0.321          & 0.173          & 0.090          & 0.042          & 0.049         \\\\\n",
       "\t England        & 0.435          & 0.216          & 0.102          & 0.059          & 0.045         \\\\\n",
       "\t Senegal        & 0.414          & 0.192          & 0.103          & 0.040          & 0.042         \\\\\n",
       "\t Brazil         & 0.310          & 0.163          & 0.079          & 0.045          & 0.037         \\\\\n",
       "\t Japan          & 0.306          & 0.154          & 0.072          & 0.048          & 0.033         \\\\\n",
       "\t Poland         & 0.318          & 0.147          & 0.061          & 0.037          & 0.029         \\\\\n",
       "\t France         & 0.339          & 0.139          & 0.066          & 0.036          & 0.027         \\\\\n",
       "\t Switzerland    & 0.263          & 0.117          & 0.052          & 0.027          & 0.025         \\\\\n",
       "\t Argentina      & 0.291          & 0.114          & 0.051          & 0.022          & 0.020         \\\\\n",
       "\t Saudi Arabia   & 0.199          & 0.099          & 0.044          & 0.022          & 0.016         \\\\\n",
       "\t Belgium        & 0.244          & 0.100          & 0.039          & 0.021          & 0.015         \\\\\n",
       "\t Croatia        & 0.181          & 0.061          & 0.021          & 0.014          & 0.010         \\\\\n",
       "\t Mexico         & 0.127          & 0.058          & 0.017          & 0.017          & 0.009         \\\\\n",
       "\t Peru           & 0.178          & 0.060          & 0.020          & 0.012          & 0.008         \\\\\n",
       "\t Tunisia        & 0.156          & 0.055          & 0.020          & 0.014          & 0.007         \\\\\n",
       "\t Iceland        & 0.229          & 0.065          & 0.020          & 0.018          & 0.005         \\\\\n",
       "\t Nigeria        & 0.115          & 0.030          & 0.013          & 0.007          & 0.005         \\\\\n",
       "\t Russia         & 0.072          & 0.030          & 0.009          & 0.005          & 0.005         \\\\\n",
       "\t Egypt          & 0.108          & 0.039          & 0.011          & 0.015          & 0.004         \\\\\n",
       "\t Costa Rica     & 0.128          & 0.045          & 0.012          & 0.009          & 0.003         \\\\\n",
       "\t Uruguay        & 0.106          & 0.038          & 0.015          & 0.005          & 0.003         \\\\\n",
       "\t Denmark        & 0.125          & 0.037          & 0.011          & 0.009          & 0.002         \\\\\n",
       "\t Morocco        & 0.059          & 0.023          & 0.007          & 0.009          & 0.002         \\\\\n",
       "\t Colombia       & 0.064          & 0.017          & 0.005          & 0.006          & 0.002         \\\\\n",
       "\t Serbia         & 0.057          & 0.020          & 0.010          & 0.003          & 0.002         \\\\\n",
       "\t Sweden         & 0.055          & 0.015          & 0.006          & 0.004          & 0.001         \\\\\n",
       "\t Panama         & 0.063          & 0.011          & 0.004          & 0.004          & 0.001         \\\\\n",
       "\\end{tabular}\n"
      ],
      "text/markdown": [
       "\n",
       "team | r8th | r4th | r2th | rplayoff | rfinal | \n",
       "|---|---|---|---|---|---|---|---|---|---|---|---|---|---|---|---|---|---|---|---|---|---|---|---|---|---|---|---|---|---|---|---|\n",
       "| Iran           | 0.561          | 0.403          | 0.259          | 0.103          | 0.172          | \n",
       "| Germany        | 0.612          | 0.421          | 0.270          | 0.102          | 0.169          | \n",
       "| Portugal       | 0.574          | 0.391          | 0.221          | 0.099          | 0.118          | \n",
       "| Korea Republic | 0.448          | 0.269          | 0.152          | 0.062          | 0.071          | \n",
       "| Australia      | 0.542          | 0.298          | 0.138          | 0.084          | 0.063          | \n",
       "| Spain          | 0.321          | 0.173          | 0.090          | 0.042          | 0.049          | \n",
       "| England        | 0.435          | 0.216          | 0.102          | 0.059          | 0.045          | \n",
       "| Senegal        | 0.414          | 0.192          | 0.103          | 0.040          | 0.042          | \n",
       "| Brazil         | 0.310          | 0.163          | 0.079          | 0.045          | 0.037          | \n",
       "| Japan          | 0.306          | 0.154          | 0.072          | 0.048          | 0.033          | \n",
       "| Poland         | 0.318          | 0.147          | 0.061          | 0.037          | 0.029          | \n",
       "| France         | 0.339          | 0.139          | 0.066          | 0.036          | 0.027          | \n",
       "| Switzerland    | 0.263          | 0.117          | 0.052          | 0.027          | 0.025          | \n",
       "| Argentina      | 0.291          | 0.114          | 0.051          | 0.022          | 0.020          | \n",
       "| Saudi Arabia   | 0.199          | 0.099          | 0.044          | 0.022          | 0.016          | \n",
       "| Belgium        | 0.244          | 0.100          | 0.039          | 0.021          | 0.015          | \n",
       "| Croatia        | 0.181          | 0.061          | 0.021          | 0.014          | 0.010          | \n",
       "| Mexico         | 0.127          | 0.058          | 0.017          | 0.017          | 0.009          | \n",
       "| Peru           | 0.178          | 0.060          | 0.020          | 0.012          | 0.008          | \n",
       "| Tunisia        | 0.156          | 0.055          | 0.020          | 0.014          | 0.007          | \n",
       "| Iceland        | 0.229          | 0.065          | 0.020          | 0.018          | 0.005          | \n",
       "| Nigeria        | 0.115          | 0.030          | 0.013          | 0.007          | 0.005          | \n",
       "| Russia         | 0.072          | 0.030          | 0.009          | 0.005          | 0.005          | \n",
       "| Egypt          | 0.108          | 0.039          | 0.011          | 0.015          | 0.004          | \n",
       "| Costa Rica     | 0.128          | 0.045          | 0.012          | 0.009          | 0.003          | \n",
       "| Uruguay        | 0.106          | 0.038          | 0.015          | 0.005          | 0.003          | \n",
       "| Denmark        | 0.125          | 0.037          | 0.011          | 0.009          | 0.002          | \n",
       "| Morocco        | 0.059          | 0.023          | 0.007          | 0.009          | 0.002          | \n",
       "| Colombia       | 0.064          | 0.017          | 0.005          | 0.006          | 0.002          | \n",
       "| Serbia         | 0.057          | 0.020          | 0.010          | 0.003          | 0.002          | \n",
       "| Sweden         | 0.055          | 0.015          | 0.006          | 0.004          | 0.001          | \n",
       "| Panama         | 0.063          | 0.011          | 0.004          | 0.004          | 0.001          | \n",
       "\n",
       "\n"
      ],
      "text/plain": [
       "   team           r8th  r4th  r2th  rplayoff rfinal\n",
       "1  Iran           0.561 0.403 0.259 0.103    0.172 \n",
       "2  Germany        0.612 0.421 0.270 0.102    0.169 \n",
       "3  Portugal       0.574 0.391 0.221 0.099    0.118 \n",
       "4  Korea Republic 0.448 0.269 0.152 0.062    0.071 \n",
       "5  Australia      0.542 0.298 0.138 0.084    0.063 \n",
       "6  Spain          0.321 0.173 0.090 0.042    0.049 \n",
       "7  England        0.435 0.216 0.102 0.059    0.045 \n",
       "8  Senegal        0.414 0.192 0.103 0.040    0.042 \n",
       "9  Brazil         0.310 0.163 0.079 0.045    0.037 \n",
       "10 Japan          0.306 0.154 0.072 0.048    0.033 \n",
       "11 Poland         0.318 0.147 0.061 0.037    0.029 \n",
       "12 France         0.339 0.139 0.066 0.036    0.027 \n",
       "13 Switzerland    0.263 0.117 0.052 0.027    0.025 \n",
       "14 Argentina      0.291 0.114 0.051 0.022    0.020 \n",
       "15 Saudi Arabia   0.199 0.099 0.044 0.022    0.016 \n",
       "16 Belgium        0.244 0.100 0.039 0.021    0.015 \n",
       "17 Croatia        0.181 0.061 0.021 0.014    0.010 \n",
       "18 Mexico         0.127 0.058 0.017 0.017    0.009 \n",
       "19 Peru           0.178 0.060 0.020 0.012    0.008 \n",
       "20 Tunisia        0.156 0.055 0.020 0.014    0.007 \n",
       "21 Iceland        0.229 0.065 0.020 0.018    0.005 \n",
       "22 Nigeria        0.115 0.030 0.013 0.007    0.005 \n",
       "23 Russia         0.072 0.030 0.009 0.005    0.005 \n",
       "24 Egypt          0.108 0.039 0.011 0.015    0.004 \n",
       "25 Costa Rica     0.128 0.045 0.012 0.009    0.003 \n",
       "26 Uruguay        0.106 0.038 0.015 0.005    0.003 \n",
       "27 Denmark        0.125 0.037 0.011 0.009    0.002 \n",
       "28 Morocco        0.059 0.023 0.007 0.009    0.002 \n",
       "29 Colombia       0.064 0.017 0.005 0.006    0.002 \n",
       "30 Serbia         0.057 0.020 0.010 0.003    0.002 \n",
       "31 Sweden         0.055 0.015 0.006 0.004    0.001 \n",
       "32 Panama         0.063 0.011 0.004 0.004    0.001 "
      ]
     },
     "metadata": {},
     "output_type": "display_data"
    }
   ],
   "source": [
    "wc.teams.stats %>% select(team,r8th,r4th,r2th,rplayoff,rfinal) %>% \n",
    "                   replace_na(list(r8th=0,r4th=0,r2th=0,rplayoff=0,rfinal=0)) %>% \n",
    "                   group_by(team) %>% summarise_all(funs(mean(.,na.rm=T))) %>%\n",
    "                   arrange(desc(rfinal),desc(rplayoff),desc(r2th),desc(r4th),desc(r8th))"
   ]
  },
  {
   "cell_type": "code",
   "execution_count": 35,
   "metadata": {},
   "outputs": [
    {
     "data": {
      "text/html": [
       "<table>\n",
       "<thead><tr><th scope=col>team</th><th scope=col>n1</th></tr></thead>\n",
       "<tbody>\n",
       "\t<tr><td>Iran          </td><td>172           </td></tr>\n",
       "\t<tr><td>Germany       </td><td>169           </td></tr>\n",
       "\t<tr><td>Portugal      </td><td>118           </td></tr>\n",
       "\t<tr><td>Korea Republic</td><td> 71           </td></tr>\n",
       "\t<tr><td>Australia     </td><td> 63           </td></tr>\n",
       "</tbody>\n",
       "</table>\n"
      ],
      "text/latex": [
       "\\begin{tabular}{r|ll}\n",
       " team & n1\\\\\n",
       "\\hline\n",
       "\t Iran           & 172           \\\\\n",
       "\t Germany        & 169           \\\\\n",
       "\t Portugal       & 118           \\\\\n",
       "\t Korea Republic &  71           \\\\\n",
       "\t Australia      &  63           \\\\\n",
       "\\end{tabular}\n"
      ],
      "text/markdown": [
       "\n",
       "team | n1 | \n",
       "|---|---|---|---|---|\n",
       "| Iran           | 172            | \n",
       "| Germany        | 169            | \n",
       "| Portugal       | 118            | \n",
       "| Korea Republic |  71            | \n",
       "| Australia      |  63            | \n",
       "\n",
       "\n"
      ],
      "text/plain": [
       "  team           n1 \n",
       "1 Iran           172\n",
       "2 Germany        169\n",
       "3 Portugal       118\n",
       "4 Korea Republic  71\n",
       "5 Australia       63"
      ]
     },
     "metadata": {},
     "output_type": "display_data"
    }
   ],
   "source": [
    "wc.teams.stats %>% filter(rfinal==1) %>% group_by(team) %>% summarize(n1=n()) %>% arrange(desc(n1)) %>% head(5)\n",
    "predict.first <- wc.teams.stats %>% filter(rfinal==1) %>% group_by(team) %>% summarize(n1=n()) %>% arrange(desc(n1)) %>% head(1)"
   ]
  },
  {
   "cell_type": "code",
   "execution_count": 36,
   "metadata": {},
   "outputs": [
    {
     "data": {
      "text/html": [
       "<table>\n",
       "<thead><tr><th scope=col>team</th><th scope=col>n2</th></tr></thead>\n",
       "<tbody>\n",
       "\t<tr><td>Portugal      </td><td>103           </td></tr>\n",
       "\t<tr><td>Germany       </td><td>101           </td></tr>\n",
       "\t<tr><td>Korea Republic</td><td> 81           </td></tr>\n",
       "\t<tr><td>Australia     </td><td> 75           </td></tr>\n",
       "\t<tr><td>Senegal       </td><td> 61           </td></tr>\n",
       "</tbody>\n",
       "</table>\n"
      ],
      "text/latex": [
       "\\begin{tabular}{r|ll}\n",
       " team & n2\\\\\n",
       "\\hline\n",
       "\t Portugal       & 103           \\\\\n",
       "\t Germany        & 101           \\\\\n",
       "\t Korea Republic &  81           \\\\\n",
       "\t Australia      &  75           \\\\\n",
       "\t Senegal        &  61           \\\\\n",
       "\\end{tabular}\n"
      ],
      "text/markdown": [
       "\n",
       "team | n2 | \n",
       "|---|---|---|---|---|\n",
       "| Portugal       | 103            | \n",
       "| Germany        | 101            | \n",
       "| Korea Republic |  81            | \n",
       "| Australia      |  75            | \n",
       "| Senegal        |  61            | \n",
       "\n",
       "\n"
      ],
      "text/plain": [
       "  team           n2 \n",
       "1 Portugal       103\n",
       "2 Germany        101\n",
       "3 Korea Republic  81\n",
       "4 Australia       75\n",
       "5 Senegal         61"
      ]
     },
     "metadata": {},
     "output_type": "display_data"
    }
   ],
   "source": [
    "wc.teams.stats %>% filter(rfinal==0) %>% anti_join(predict.first,by='team') %>% group_by(team) %>% summarize(n2=n()) %>% arrange(desc(n2)) %>% head(5)\n",
    "predict.second <- wc.teams.stats %>% filter(rfinal==0) %>% anti_join(predict.first,by='team') %>% \n",
    "        group_by(team) %>% summarize(n2=n()) %>% arrange(desc(n2)) %>% head(1)"
   ]
  },
  {
   "cell_type": "code",
   "execution_count": 37,
   "metadata": {},
   "outputs": [
    {
     "data": {
      "text/html": [
       "<table>\n",
       "<thead><tr><th scope=col>team</th><th scope=col>n3</th></tr></thead>\n",
       "<tbody>\n",
       "\t<tr><td>Germany       </td><td>102           </td></tr>\n",
       "\t<tr><td>Australia     </td><td> 84           </td></tr>\n",
       "\t<tr><td>Korea Republic</td><td> 62           </td></tr>\n",
       "\t<tr><td>England       </td><td> 59           </td></tr>\n",
       "\t<tr><td>Japan         </td><td> 48           </td></tr>\n",
       "</tbody>\n",
       "</table>\n"
      ],
      "text/latex": [
       "\\begin{tabular}{r|ll}\n",
       " team & n3\\\\\n",
       "\\hline\n",
       "\t Germany        & 102           \\\\\n",
       "\t Australia      &  84           \\\\\n",
       "\t Korea Republic &  62           \\\\\n",
       "\t England        &  59           \\\\\n",
       "\t Japan          &  48           \\\\\n",
       "\\end{tabular}\n"
      ],
      "text/markdown": [
       "\n",
       "team | n3 | \n",
       "|---|---|---|---|---|\n",
       "| Germany        | 102            | \n",
       "| Australia      |  84            | \n",
       "| Korea Republic |  62            | \n",
       "| England        |  59            | \n",
       "| Japan          |  48            | \n",
       "\n",
       "\n"
      ],
      "text/plain": [
       "  team           n3 \n",
       "1 Germany        102\n",
       "2 Australia       84\n",
       "3 Korea Republic  62\n",
       "4 England         59\n",
       "5 Japan           48"
      ]
     },
     "metadata": {},
     "output_type": "display_data"
    }
   ],
   "source": [
    "wc.teams.stats %>% filter(rplayoff==1) %>% anti_join(predict.first,by='team') %>% anti_join(predict.second,by='team') %>%\n",
    "        group_by(team) %>% summarize(n3=n()) %>% arrange(desc(n3)) %>% head(5)\n",
    "predict.third <- wc.teams.stats %>% filter(rplayoff==1) %>% anti_join(predict.first,by='team') %>% anti_join(predict.second,by='team') %>% \n",
    "        group_by(team) %>% summarize(n3=n()) %>% arrange(desc(n3)) %>% head(1)"
   ]
  },
  {
   "cell_type": "code",
   "execution_count": 38,
   "metadata": {},
   "outputs": [
    {
     "data": {
      "text/html": [
       "<table>\n",
       "<thead><tr><th scope=col>team</th><th scope=col>n4</th></tr></thead>\n",
       "<tbody>\n",
       "\t<tr><td>Australia     </td><td>76            </td></tr>\n",
       "\t<tr><td>England       </td><td>55            </td></tr>\n",
       "\t<tr><td>Korea Republic</td><td>55            </td></tr>\n",
       "\t<tr><td>Poland        </td><td>49            </td></tr>\n",
       "\t<tr><td>Senegal       </td><td>49            </td></tr>\n",
       "</tbody>\n",
       "</table>\n"
      ],
      "text/latex": [
       "\\begin{tabular}{r|ll}\n",
       " team & n4\\\\\n",
       "\\hline\n",
       "\t Australia      & 76            \\\\\n",
       "\t England        & 55            \\\\\n",
       "\t Korea Republic & 55            \\\\\n",
       "\t Poland         & 49            \\\\\n",
       "\t Senegal        & 49            \\\\\n",
       "\\end{tabular}\n"
      ],
      "text/markdown": [
       "\n",
       "team | n4 | \n",
       "|---|---|---|---|---|\n",
       "| Australia      | 76             | \n",
       "| England        | 55             | \n",
       "| Korea Republic | 55             | \n",
       "| Poland         | 49             | \n",
       "| Senegal        | 49             | \n",
       "\n",
       "\n"
      ],
      "text/plain": [
       "  team           n4\n",
       "1 Australia      76\n",
       "2 England        55\n",
       "3 Korea Republic 55\n",
       "4 Poland         49\n",
       "5 Senegal        49"
      ]
     },
     "metadata": {},
     "output_type": "display_data"
    }
   ],
   "source": [
    "wc.teams.stats %>% filter(rplayoff==0) %>% anti_join(predict.first,by='team') %>% anti_join(predict.second,by='team') %>% anti_join(predict.third,by='team') %>%\n",
    "        group_by(team) %>% summarize(n4=n()) %>% arrange(desc(n4)) %>% head(5)\n",
    "predict.four <- wc.teams.stats %>% filter(rplayoff==0) %>% anti_join(predict.first,by='team') %>% anti_join(predict.second,by='team') %>% anti_join(predict.third,by='team') %>%\n",
    "        group_by(team) %>% summarize(n4=n()) %>% arrange(desc(n4)) %>% head(1)"
   ]
  },
  {
   "cell_type": "code",
   "execution_count": 39,
   "metadata": {},
   "outputs": [
    {
     "data": {
      "text/html": [
       "<table>\n",
       "<thead><tr><th scope=col>team</th><th scope=col>n1</th></tr></thead>\n",
       "<tbody>\n",
       "\t<tr><td>Iran</td><td>172 </td></tr>\n",
       "</tbody>\n",
       "</table>\n"
      ],
      "text/latex": [
       "\\begin{tabular}{r|ll}\n",
       " team & n1\\\\\n",
       "\\hline\n",
       "\t Iran & 172 \\\\\n",
       "\\end{tabular}\n"
      ],
      "text/markdown": [
       "\n",
       "team | n1 | \n",
       "|---|\n",
       "| Iran | 172  | \n",
       "\n",
       "\n"
      ],
      "text/plain": [
       "  team n1 \n",
       "1 Iran 172"
      ]
     },
     "metadata": {},
     "output_type": "display_data"
    },
    {
     "data": {
      "text/html": [
       "<table>\n",
       "<thead><tr><th scope=col>team</th><th scope=col>n2</th></tr></thead>\n",
       "<tbody>\n",
       "\t<tr><td>Portugal</td><td>103     </td></tr>\n",
       "</tbody>\n",
       "</table>\n"
      ],
      "text/latex": [
       "\\begin{tabular}{r|ll}\n",
       " team & n2\\\\\n",
       "\\hline\n",
       "\t Portugal & 103     \\\\\n",
       "\\end{tabular}\n"
      ],
      "text/markdown": [
       "\n",
       "team | n2 | \n",
       "|---|\n",
       "| Portugal | 103      | \n",
       "\n",
       "\n"
      ],
      "text/plain": [
       "  team     n2 \n",
       "1 Portugal 103"
      ]
     },
     "metadata": {},
     "output_type": "display_data"
    },
    {
     "data": {
      "text/html": [
       "<table>\n",
       "<thead><tr><th scope=col>team</th><th scope=col>n3</th></tr></thead>\n",
       "<tbody>\n",
       "\t<tr><td>Germany</td><td>102    </td></tr>\n",
       "</tbody>\n",
       "</table>\n"
      ],
      "text/latex": [
       "\\begin{tabular}{r|ll}\n",
       " team & n3\\\\\n",
       "\\hline\n",
       "\t Germany & 102    \\\\\n",
       "\\end{tabular}\n"
      ],
      "text/markdown": [
       "\n",
       "team | n3 | \n",
       "|---|\n",
       "| Germany | 102     | \n",
       "\n",
       "\n"
      ],
      "text/plain": [
       "  team    n3 \n",
       "1 Germany 102"
      ]
     },
     "metadata": {},
     "output_type": "display_data"
    },
    {
     "data": {
      "text/html": [
       "<table>\n",
       "<thead><tr><th scope=col>team</th><th scope=col>n4</th></tr></thead>\n",
       "<tbody>\n",
       "\t<tr><td>Australia</td><td>76       </td></tr>\n",
       "</tbody>\n",
       "</table>\n"
      ],
      "text/latex": [
       "\\begin{tabular}{r|ll}\n",
       " team & n4\\\\\n",
       "\\hline\n",
       "\t Australia & 76       \\\\\n",
       "\\end{tabular}\n"
      ],
      "text/markdown": [
       "\n",
       "team | n4 | \n",
       "|---|\n",
       "| Australia | 76        | \n",
       "\n",
       "\n"
      ],
      "text/plain": [
       "  team      n4\n",
       "1 Australia 76"
      ]
     },
     "metadata": {},
     "output_type": "display_data"
    }
   ],
   "source": [
    "predict.first\n",
    "predict.second\n",
    "predict.third\n",
    "predict.four"
   ]
  },
  {
   "cell_type": "code",
   "execution_count": 41,
   "metadata": {},
   "outputs": [
    {
     "data": {
      "text/html": [
       "<table>\n",
       "<thead><tr><th scope=col>t1</th><th scope=col>t2</th><th scope=col>n.x</th><th scope=col>n.y</th><th scope=col>total</th></tr></thead>\n",
       "<tbody>\n",
       "\t<tr><td>Iran          </td><td>Portugal      </td><td>17            </td><td>34            </td><td>51            </td></tr>\n",
       "\t<tr><td>Portugal      </td><td>Iran          </td><td>34            </td><td>17            </td><td>51            </td></tr>\n",
       "\t<tr><td>Germany       </td><td>Iran          </td><td>20            </td><td>17            </td><td>37            </td></tr>\n",
       "\t<tr><td>Germany       </td><td>Korea Republic</td><td>15            </td><td>22            </td><td>37            </td></tr>\n",
       "\t<tr><td>Iran          </td><td>Germany       </td><td>17            </td><td>20            </td><td>37            </td></tr>\n",
       "\t<tr><td>Korea Republic</td><td>Germany       </td><td>22            </td><td>15            </td><td>37            </td></tr>\n",
       "</tbody>\n",
       "</table>\n"
      ],
      "text/latex": [
       "\\begin{tabular}{r|lllll}\n",
       " t1 & t2 & n.x & n.y & total\\\\\n",
       "\\hline\n",
       "\t Iran           & Portugal       & 17             & 34             & 51            \\\\\n",
       "\t Portugal       & Iran           & 34             & 17             & 51            \\\\\n",
       "\t Germany        & Iran           & 20             & 17             & 37            \\\\\n",
       "\t Germany        & Korea Republic & 15             & 22             & 37            \\\\\n",
       "\t Iran           & Germany        & 17             & 20             & 37            \\\\\n",
       "\t Korea Republic & Germany        & 22             & 15             & 37            \\\\\n",
       "\\end{tabular}\n"
      ],
      "text/markdown": [
       "\n",
       "t1 | t2 | n.x | n.y | total | \n",
       "|---|---|---|---|---|---|\n",
       "| Iran           | Portugal       | 17             | 34             | 51             | \n",
       "| Portugal       | Iran           | 34             | 17             | 51             | \n",
       "| Germany        | Iran           | 20             | 17             | 37             | \n",
       "| Germany        | Korea Republic | 15             | 22             | 37             | \n",
       "| Iran           | Germany        | 17             | 20             | 37             | \n",
       "| Korea Republic | Germany        | 22             | 15             | 37             | \n",
       "\n",
       "\n"
      ],
      "text/plain": [
       "  t1             t2             n.x n.y total\n",
       "1 Iran           Portugal       17  34  51   \n",
       "2 Portugal       Iran           34  17  51   \n",
       "3 Germany        Iran           20  17  37   \n",
       "4 Germany        Korea Republic 15  22  37   \n",
       "5 Iran           Germany        17  20  37   \n",
       "6 Korea Republic Germany        22  15  37   "
      ]
     },
     "metadata": {},
     "output_type": "display_data"
    }
   ],
   "source": [
    "tmp01 <- wc.teams.stats %>% filter(rfinal>=0) %>% select(team,run,rfinal) %>% spread(rfinal,team) %>% rename(t1='0',t2='1') %>%\n",
    "                group_by(t1,t2) %>% summarize(n=n()) %>% ungroup()\n",
    "tmp02 <- tmp01 %>% inner_join(tmp01,by=c('t1'='t2','t2'='t1')) %>% mutate(total=n.x+n.y)\n",
    "tmp02 %>% arrange(desc(total)) %>% head()"
   ]
  },
  {
   "cell_type": "code",
   "execution_count": 42,
   "metadata": {},
   "outputs": [
    {
     "data": {
      "text/html": [
       "<table>\n",
       "<thead><tr><th scope=col>t1</th><th scope=col>t2</th><th scope=col>n.x</th><th scope=col>n.y</th><th scope=col>total</th></tr></thead>\n",
       "<tbody>\n",
       "\t<tr><td>Iran     </td><td>Portugal </td><td> 8       </td><td>14       </td><td>22       </td></tr>\n",
       "\t<tr><td>Portugal </td><td>Iran     </td><td>14       </td><td> 8       </td><td>22       </td></tr>\n",
       "\t<tr><td>Germany  </td><td>Portugal </td><td> 8       </td><td>13       </td><td>21       </td></tr>\n",
       "\t<tr><td>Portugal </td><td>Germany  </td><td>13       </td><td> 8       </td><td>21       </td></tr>\n",
       "\t<tr><td>Australia</td><td>Germany  </td><td>10       </td><td> 7       </td><td>17       </td></tr>\n",
       "\t<tr><td>Germany  </td><td>Australia</td><td> 7       </td><td>10       </td><td>17       </td></tr>\n",
       "</tbody>\n",
       "</table>\n"
      ],
      "text/latex": [
       "\\begin{tabular}{r|lllll}\n",
       " t1 & t2 & n.x & n.y & total\\\\\n",
       "\\hline\n",
       "\t Iran      & Portugal  &  8        & 14        & 22       \\\\\n",
       "\t Portugal  & Iran      & 14        &  8        & 22       \\\\\n",
       "\t Germany   & Portugal  &  8        & 13        & 21       \\\\\n",
       "\t Portugal  & Germany   & 13        &  8        & 21       \\\\\n",
       "\t Australia & Germany   & 10        &  7        & 17       \\\\\n",
       "\t Germany   & Australia &  7        & 10        & 17       \\\\\n",
       "\\end{tabular}\n"
      ],
      "text/markdown": [
       "\n",
       "t1 | t2 | n.x | n.y | total | \n",
       "|---|---|---|---|---|---|\n",
       "| Iran      | Portugal  |  8        | 14        | 22        | \n",
       "| Portugal  | Iran      | 14        |  8        | 22        | \n",
       "| Germany   | Portugal  |  8        | 13        | 21        | \n",
       "| Portugal  | Germany   | 13        |  8        | 21        | \n",
       "| Australia | Germany   | 10        |  7        | 17        | \n",
       "| Germany   | Australia |  7        | 10        | 17        | \n",
       "\n",
       "\n"
      ],
      "text/plain": [
       "  t1        t2        n.x n.y total\n",
       "1 Iran      Portugal   8  14  22   \n",
       "2 Portugal  Iran      14   8  22   \n",
       "3 Germany   Portugal   8  13  21   \n",
       "4 Portugal  Germany   13   8  21   \n",
       "5 Australia Germany   10   7  17   \n",
       "6 Germany   Australia  7  10  17   "
      ]
     },
     "metadata": {},
     "output_type": "display_data"
    }
   ],
   "source": [
    "tmp01 <- wc.teams.stats %>% filter(rplayoff>=0) %>% select(team,run,rplayoff) %>% spread(rplayoff,team) %>% rename(t1='0',t2='1') %>%\n",
    "                group_by(t1,t2) %>% summarize(n=n()) %>% ungroup()\n",
    "tmp02 <- tmp01 %>% inner_join(tmp01,by=c('t1'='t2','t2'='t1')) %>% mutate(total=n.x+n.y)\n",
    "tmp02 %>% arrange(desc(total)) %>% head()"
   ]
  },
  {
   "cell_type": "code",
   "execution_count": 44,
   "metadata": {},
   "outputs": [
    {
     "data": {
      "text/html": [
       "<table>\n",
       "<thead><tr><th scope=col>t1</th><th scope=col>t2</th><th scope=col>n.x</th><th scope=col>n.y</th><th scope=col>total</th></tr></thead>\n",
       "<tbody>\n",
       "\t<tr><td>Australia</td><td>Germany  </td><td>10       </td><td> 7       </td><td>17       </td></tr>\n",
       "\t<tr><td>Germany  </td><td>Australia</td><td> 7       </td><td>10       </td><td>17       </td></tr>\n",
       "\t<tr><td>Australia</td><td>France   </td><td> 3       </td><td> 9       </td><td>12       </td></tr>\n",
       "\t<tr><td>Australia</td><td>Senegal  </td><td> 7       </td><td> 5       </td><td>12       </td></tr>\n",
       "\t<tr><td>France   </td><td>Australia</td><td> 9       </td><td> 3       </td><td>12       </td></tr>\n",
       "\t<tr><td>Germany  </td><td>Poland   </td><td> 3       </td><td> 9       </td><td>12       </td></tr>\n",
       "</tbody>\n",
       "</table>\n"
      ],
      "text/latex": [
       "\\begin{tabular}{r|lllll}\n",
       " t1 & t2 & n.x & n.y & total\\\\\n",
       "\\hline\n",
       "\t Australia & Germany   & 10        &  7        & 17       \\\\\n",
       "\t Germany   & Australia &  7        & 10        & 17       \\\\\n",
       "\t Australia & France    &  3        &  9        & 12       \\\\\n",
       "\t Australia & Senegal   &  7        &  5        & 12       \\\\\n",
       "\t France    & Australia &  9        &  3        & 12       \\\\\n",
       "\t Germany   & Poland    &  3        &  9        & 12       \\\\\n",
       "\\end{tabular}\n"
      ],
      "text/markdown": [
       "\n",
       "t1 | t2 | n.x | n.y | total | \n",
       "|---|---|---|---|---|---|\n",
       "| Australia | Germany   | 10        |  7        | 17        | \n",
       "| Germany   | Australia |  7        | 10        | 17        | \n",
       "| Australia | France    |  3        |  9        | 12        | \n",
       "| Australia | Senegal   |  7        |  5        | 12        | \n",
       "| France    | Australia |  9        |  3        | 12        | \n",
       "| Germany   | Poland    |  3        |  9        | 12        | \n",
       "\n",
       "\n"
      ],
      "text/plain": [
       "  t1        t2        n.x n.y total\n",
       "1 Australia Germany   10   7  17   \n",
       "2 Germany   Australia  7  10  17   \n",
       "3 Australia France     3   9  12   \n",
       "4 Australia Senegal    7   5  12   \n",
       "5 France    Australia  9   3  12   \n",
       "6 Germany   Poland     3   9  12   "
      ]
     },
     "metadata": {},
     "output_type": "display_data"
    }
   ],
   "source": [
    "tmp02 %>% filter(!t1 %in% c('Iran','Portugal')) %>% filter(!t2 %in% c('Iran','Portugal')) %>% arrange(desc(total)) %>% head()"
   ]
  },
  {
   "cell_type": "code",
   "execution_count": null,
   "metadata": {},
   "outputs": [],
   "source": []
  }
 ],
 "metadata": {
  "kernelspec": {
   "display_name": "R 3.4.4",
   "language": "R",
   "name": "ir34"
  },
  "language_info": {
   "codemirror_mode": "r",
   "file_extension": ".r",
   "mimetype": "text/x-r-source",
   "name": "R",
   "pygments_lexer": "r",
   "version": "3.4.4"
  }
 },
 "nbformat": 4,
 "nbformat_minor": 2
}
