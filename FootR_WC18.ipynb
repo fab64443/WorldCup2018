{
 "cells": [
  {
   "cell_type": "code",
   "execution_count": 1,
   "metadata": {},
   "outputs": [
    {
     "name": "stderr",
     "output_type": "stream",
     "text": [
      "\n",
      "Attaching package: ‘dplyr’\n",
      "\n",
      "The following objects are masked from ‘package:stats’:\n",
      "\n",
      "    filter, lag\n",
      "\n",
      "The following objects are masked from ‘package:base’:\n",
      "\n",
      "    intersect, setdiff, setequal, union\n",
      "\n"
     ]
    }
   ],
   "source": [
    "library(dplyr)\n",
    "library(readr)\n",
    "library(tictoc)\n",
    "library(stringr)\n",
    "library(tidyr)"
   ]
  },
  {
   "cell_type": "code",
   "execution_count": 2,
   "metadata": {
    "collapsed": true
   },
   "outputs": [],
   "source": [
    "mutate_where <- function(.data, condition, ..., envir = parent.frame()) {\n",
    "  condition <- eval(substitute(condition), .data, envir)\n",
    "  .data[condition, ] <- .data[condition, ] %>% mutate(...)\n",
    "  .data\n",
    "}"
   ]
  },
  {
   "cell_type": "code",
   "execution_count": 3,
   "metadata": {},
   "outputs": [
    {
     "name": "stderr",
     "output_type": "stream",
     "text": [
      "Parsed with column specification:\n",
      "cols(\n",
      "  date = col_date(format = \"\"),\n",
      "  home_team = col_character(),\n",
      "  away_team = col_character(),\n",
      "  home_score = col_integer(),\n",
      "  away_score = col_integer(),\n",
      "  tournament = col_character(),\n",
      "  city = col_character(),\n",
      "  country = col_character(),\n",
      "  neutral = col_logical()\n",
      ")\n"
     ]
    }
   ],
   "source": [
    "matches.raw <- read_csv('results.csv')"
   ]
  },
  {
   "cell_type": "code",
   "execution_count": 4,
   "metadata": {},
   "outputs": [
    {
     "data": {
      "text/html": [
       "244"
      ],
      "text/latex": [
       "244"
      ],
      "text/markdown": [
       "244"
      ],
      "text/plain": [
       "[1] 244"
      ]
     },
     "metadata": {},
     "output_type": "display_data"
    }
   ],
   "source": [
    "length(union(matches.raw$home_team,matches.raw$away_team))"
   ]
  },
  {
   "cell_type": "code",
   "execution_count": 5,
   "metadata": {
    "collapsed": true
   },
   "outputs": [],
   "source": [
    "foot.teams <- data.frame(team=union(matches.raw$home_team,matches.raw$away_team),elo=1000,match=0)"
   ]
  },
  {
   "cell_type": "code",
   "execution_count": 7,
   "metadata": {
    "collapsed": true
   },
   "outputs": [],
   "source": [
    "newelo <- function(eloA,eloB,scoreA,K=32) {\n",
    "    EA <- 1/(1+10**((eloB-eloA)/400))\n",
    "    delta <- round((scoreA-EA)*K,0)\n",
    "    c(eloA+delta,eloB-delta)\n",
    "}"
   ]
  },
  {
   "cell_type": "code",
   "execution_count": 8,
   "metadata": {},
   "outputs": [
    {
     "data": {
      "text/html": [
       "<ol class=list-inline>\n",
       "\t<li>39054</li>\n",
       "\t<li>9</li>\n",
       "</ol>\n"
      ],
      "text/latex": [
       "\\begin{enumerate*}\n",
       "\\item 39054\n",
       "\\item 9\n",
       "\\end{enumerate*}\n"
      ],
      "text/markdown": [
       "1. 39054\n",
       "2. 9\n",
       "\n",
       "\n"
      ],
      "text/plain": [
       "[1] 39054     9"
      ]
     },
     "metadata": {},
     "output_type": "display_data"
    }
   ],
   "source": [
    "dim(matches.raw)"
   ]
  },
  {
   "cell_type": "code",
   "execution_count": 9,
   "metadata": {
    "collapsed": true
   },
   "outputs": [],
   "source": [
    "matches.selected <- matches.raw"
   ]
  },
  {
   "cell_type": "code",
   "execution_count": 10,
   "metadata": {},
   "outputs": [
    {
     "name": "stdout",
     "output_type": "stream",
     "text": [
      "elo rating: 159.975 sec elapsed\n"
     ]
    }
   ],
   "source": [
    "foot.teams <- data.frame(team=union(matches.selected$home_team,matches.selected$away_team),elo=1000,match=0,w=0,l=0,d=0)\n",
    "tic('elo rating')\n",
    "for (row in 1:(dim(matches.selected)[1])) {\n",
    "    current <- matches.selected[row,]\n",
    "    scoreA <- (sign(current$home_score-current$away_score)+1)/2\n",
    "    eloA <- foot.teams[foot.teams$team==current$home_team,]$elo\n",
    "    eloB <- foot.teams[foot.teams$team==current$away_team,]$elo\n",
    "    nelo <- newelo(eloA,eloB,scoreA)\n",
    "    #cat(paste(current$home_team,'-',current$away_team,':',eloA,eloB,'->',nelo[1],nelo[2],'\\n'))\n",
    "    foot.teams[foot.teams$team==current$home_team,]$elo <- nelo[1]\n",
    "    foot.teams[foot.teams$team==current$away_team,]$elo <- nelo[2]\n",
    "    foot.teams[foot.teams$team==current$home_team,]$match <- foot.teams[foot.teams$team==current$home_team,]$match +1    \n",
    "    foot.teams[foot.teams$team==current$away_team,]$match <- foot.teams[foot.teams$team==current$away_team,]$match +1\n",
    "    if (scoreA==1) {\n",
    "        foot.teams[foot.teams$team==current$home_team,]$w = foot.teams[foot.teams$team==current$home_team,]$w +1\n",
    "        foot.teams[foot.teams$team==current$away_team,]$l = foot.teams[foot.teams$team==current$away_team,]$l +1\n",
    "    } else if (scoreA==0) {\n",
    "        foot.teams[foot.teams$team==current$home_team,]$l = foot.teams[foot.teams$team==current$home_team,]$l +1\n",
    "        foot.teams[foot.teams$team==current$away_team,]$w = foot.teams[foot.teams$team==current$away_team,]$w +1\n",
    "    } else {\n",
    "        foot.teams[foot.teams$team==current$home_team,]$d = foot.teams[foot.teams$team==current$home_team,]$d +1\n",
    "        foot.teams[foot.teams$team==current$away_team,]$d = foot.teams[foot.teams$team==current$away_team,]$d +1\n",
    "    }\n",
    "}\n",
    "toc()"
   ]
  },
  {
   "cell_type": "code",
   "execution_count": 12,
   "metadata": {
    "collapsed": true
   },
   "outputs": [],
   "source": [
    "foot.teams$team <- as.character(foot.teams$team)"
   ]
  },
  {
   "cell_type": "code",
   "execution_count": 42,
   "metadata": {
    "collapsed": true
   },
   "outputs": [
    {
     "data": {
      "text/html": [
       "<table>\n",
       "<thead><tr><th scope=col>team</th><th scope=col>elo</th><th scope=col>match</th><th scope=col>w</th><th scope=col>l</th><th scope=col>d</th><th scope=col>wpct</th><th scope=col>lpct</th><th scope=col>dpct</th></tr></thead>\n",
       "<tbody>\n",
       "\t<tr><td>Brazil     </td><td>1554       </td><td>952        </td><td>607        </td><td>154        </td><td>191        </td><td>63.76      </td><td>16.18      </td><td>20.06      </td></tr>\n",
       "\t<tr><td>Spain      </td><td>1479       </td><td>671        </td><td>390        </td><td>127        </td><td>154        </td><td>58.12      </td><td>18.93      </td><td>22.95      </td></tr>\n",
       "\t<tr><td>France     </td><td>1450       </td><td>813        </td><td>398        </td><td>241        </td><td>174        </td><td>48.95      </td><td>29.64      </td><td>21.40      </td></tr>\n",
       "\t<tr><td>Germany    </td><td>1445       </td><td>930        </td><td>545        </td><td>194        </td><td>191        </td><td>58.60      </td><td>20.86      </td><td>20.54      </td></tr>\n",
       "\t<tr><td>Argentina  </td><td>1432       </td><td>953        </td><td>512        </td><td>204        </td><td>237        </td><td>53.73      </td><td>21.41      </td><td>24.87      </td></tr>\n",
       "\t<tr><td>England    </td><td>1430       </td><td>977        </td><td>554        </td><td>185        </td><td>238        </td><td>56.70      </td><td>18.94      </td><td>24.36      </td></tr>\n",
       "\t<tr><td>Belgium    </td><td>1417       </td><td>745        </td><td>313        </td><td>269        </td><td>163        </td><td>42.01      </td><td>36.11      </td><td>21.88      </td></tr>\n",
       "\t<tr><td>Portugal   </td><td>1399       </td><td>594        </td><td>285        </td><td>171        </td><td>138        </td><td>47.98      </td><td>28.79      </td><td>23.23      </td></tr>\n",
       "\t<tr><td>Peru       </td><td>1379       </td><td>598        </td><td>194        </td><td>256        </td><td>148        </td><td>32.44      </td><td>42.81      </td><td>24.75      </td></tr>\n",
       "\t<tr><td>Colombia   </td><td>1367       </td><td>528        </td><td>201        </td><td>181        </td><td>146        </td><td>38.07      </td><td>34.28      </td><td>27.65      </td></tr>\n",
       "\t<tr><td>Switzerland</td><td>1353       </td><td>777        </td><td>271        </td><td>338        </td><td>168        </td><td>34.88      </td><td>43.50      </td><td>21.62      </td></tr>\n",
       "\t<tr><td>Netherlands</td><td>1351       </td><td>768        </td><td>388        </td><td>206        </td><td>174        </td><td>50.52      </td><td>26.82      </td><td>22.66      </td></tr>\n",
       "\t<tr><td>Italy      </td><td>1341       </td><td>785        </td><td>412        </td><td>152        </td><td>221        </td><td>52.48      </td><td>19.36      </td><td>28.15      </td></tr>\n",
       "\t<tr><td>Uruguay    </td><td>1338       </td><td>861        </td><td>373        </td><td>278        </td><td>210        </td><td>43.32      </td><td>32.29      </td><td>24.39      </td></tr>\n",
       "\t<tr><td>Iran       </td><td>1331       </td><td>479        </td><td>261        </td><td> 95        </td><td>123        </td><td>54.49      </td><td>19.83      </td><td>25.68      </td></tr>\n",
       "\t<tr><td>Mexico     </td><td>1330       </td><td>837        </td><td>420        </td><td>217        </td><td>200        </td><td>50.18      </td><td>25.93      </td><td>23.89      </td></tr>\n",
       "\t<tr><td>Chile      </td><td>1328       </td><td>741        </td><td>284        </td><td>302        </td><td>155        </td><td>38.33      </td><td>40.76      </td><td>20.92      </td></tr>\n",
       "\t<tr><td>Croatia    </td><td>1328       </td><td>295        </td><td>158        </td><td> 58        </td><td> 79        </td><td>53.56      </td><td>19.66      </td><td>26.78      </td></tr>\n",
       "\t<tr><td>Poland     </td><td>1308       </td><td>792        </td><td>340        </td><td>252        </td><td>200        </td><td>42.93      </td><td>31.82      </td><td>25.25      </td></tr>\n",
       "\t<tr><td>USA        </td><td>1302       </td><td>662        </td><td>281        </td><td>240        </td><td>141        </td><td>42.45      </td><td>36.25      </td><td>21.30      </td></tr>\n",
       "\t<tr><td>Denmark    </td><td>1284       </td><td>774        </td><td>347        </td><td>266        </td><td>161        </td><td>44.83      </td><td>34.37      </td><td>20.80      </td></tr>\n",
       "\t<tr><td>Ukraine    </td><td>1281       </td><td>251        </td><td>113        </td><td> 68        </td><td> 70        </td><td>45.02      </td><td>27.09      </td><td>27.89      </td></tr>\n",
       "\t<tr><td>Austria    </td><td>1267       </td><td>762        </td><td>314        </td><td>280        </td><td>168        </td><td>41.21      </td><td>36.75      </td><td>22.05      </td></tr>\n",
       "\t<tr><td>Australia  </td><td>1263       </td><td>500        </td><td>248        </td><td>143        </td><td>109        </td><td>49.60      </td><td>28.60      </td><td>21.80      </td></tr>\n",
       "\t<tr><td>Romania    </td><td>1261       </td><td>678        </td><td>299        </td><td>206        </td><td>173        </td><td>44.10      </td><td>30.38      </td><td>25.52      </td></tr>\n",
       "\t<tr><td>Sweden     </td><td>1253       </td><td>993        </td><td>487        </td><td>287        </td><td>219        </td><td>49.04      </td><td>28.90      </td><td>22.05      </td></tr>\n",
       "\t<tr><td>Morocco    </td><td>1251       </td><td>506        </td><td>233        </td><td>123        </td><td>150        </td><td>46.05      </td><td>24.31      </td><td>29.64      </td></tr>\n",
       "\t<tr><td>Senegal    </td><td>1250       </td><td>506        </td><td>218        </td><td>149        </td><td>139        </td><td>43.08      </td><td>29.45      </td><td>27.47      </td></tr>\n",
       "\t<tr><td>Turkey     </td><td>1244       </td><td>549        </td><td>211        </td><td>206        </td><td>132        </td><td>38.43      </td><td>37.52      </td><td>24.04      </td></tr>\n",
       "\t<tr><td>Slovakia   </td><td>1243       </td><td>275        </td><td>112        </td><td> 98        </td><td> 65        </td><td>40.73      </td><td>35.64      </td><td>23.64      </td></tr>\n",
       "\t<tr><td>⋮</td><td>⋮</td><td>⋮</td><td>⋮</td><td>⋮</td><td>⋮</td><td>⋮</td><td>⋮</td><td>⋮</td></tr>\n",
       "\t<tr><td>Aruba                   </td><td>771                     </td><td>110                     </td><td>20                      </td><td> 64                     </td><td>26                      </td><td>18.18                   </td><td>58.18                   </td><td>23.64                   </td></tr>\n",
       "\t<tr><td>Mauritius               </td><td>771                     </td><td>235                     </td><td>66                      </td><td>120                     </td><td>49                      </td><td>28.09                   </td><td>51.06                   </td><td>20.85                   </td></tr>\n",
       "\t<tr><td>Tonga                   </td><td>762                     </td><td> 52                     </td><td>14                      </td><td> 33                     </td><td> 5                      </td><td>26.92                   </td><td>63.46                   </td><td> 9.62                   </td></tr>\n",
       "\t<tr><td>Guam                    </td><td>760                     </td><td> 85                     </td><td>21                      </td><td> 56                     </td><td> 8                      </td><td>24.71                   </td><td>65.88                   </td><td> 9.41                   </td></tr>\n",
       "\t<tr><td>Eritrea                 </td><td>757                     </td><td> 70                     </td><td>11                      </td><td> 43                     </td><td>16                      </td><td>15.71                   </td><td>61.43                   </td><td>22.86                   </td></tr>\n",
       "\t<tr><td>Cayman Islands          </td><td>750                     </td><td> 81                     </td><td>15                      </td><td> 53                     </td><td>13                      </td><td>18.52                   </td><td>65.43                   </td><td>16.05                   </td></tr>\n",
       "\t<tr><td>American Samoa          </td><td>737                     </td><td> 42                     </td><td> 4                      </td><td> 37                     </td><td> 1                      </td><td> 9.52                   </td><td>88.10                   </td><td> 2.38                   </td></tr>\n",
       "\t<tr><td>Montserrat              </td><td>734                     </td><td> 30                     </td><td> 4                      </td><td> 24                     </td><td> 2                      </td><td>13.33                   </td><td>80.00                   </td><td> 6.67                   </td></tr>\n",
       "\t<tr><td>Maldives                </td><td>724                     </td><td>149                     </td><td>43                      </td><td> 81                     </td><td>25                      </td><td>28.86                   </td><td>54.36                   </td><td>16.78                   </td></tr>\n",
       "\t<tr><td>Liechtenstein           </td><td>722                     </td><td>182                     </td><td>14                      </td><td>146                     </td><td>22                      </td><td> 7.69                   </td><td>80.22                   </td><td>12.09                   </td></tr>\n",
       "\t<tr><td>Virgin Islands          </td><td>704                     </td><td> 44                     </td><td> 5                      </td><td> 33                     </td><td> 6                      </td><td>11.36                   </td><td>75.00                   </td><td>13.64                   </td></tr>\n",
       "\t<tr><td>Pakistan                </td><td>703                     </td><td>182                     </td><td>36                      </td><td>112                     </td><td>34                      </td><td>19.78                   </td><td>61.54                   </td><td>18.68                   </td></tr>\n",
       "\t<tr><td>Nepal                   </td><td>694                     </td><td>165                     </td><td>35                      </td><td>103                     </td><td>27                      </td><td>21.21                   </td><td>62.42                   </td><td>16.36                   </td></tr>\n",
       "\t<tr><td>Seychelles              </td><td>674                     </td><td>100                     </td><td>13                      </td><td> 72                     </td><td>15                      </td><td>13.00                   </td><td>72.00                   </td><td>15.00                   </td></tr>\n",
       "\t<tr><td>Mongolia                </td><td>669                     </td><td> 57                     </td><td>14                      </td><td> 37                     </td><td> 6                      </td><td>24.56                   </td><td>64.91                   </td><td>10.53                   </td></tr>\n",
       "\t<tr><td>Northern Mariana Islands</td><td>668                     </td><td> 21                     </td><td> 2                      </td><td> 18                     </td><td> 1                      </td><td> 9.52                   </td><td>85.71                   </td><td> 4.76                   </td></tr>\n",
       "\t<tr><td>Cambodia                </td><td>667                     </td><td>209                     </td><td>45                      </td><td>136                     </td><td>28                      </td><td>21.53                   </td><td>65.07                   </td><td>13.40                   </td></tr>\n",
       "\t<tr><td>Andorra                 </td><td>664                     </td><td>147                     </td><td> 5                      </td><td>129                     </td><td>13                      </td><td> 3.40                   </td><td>87.76                   </td><td> 8.84                   </td></tr>\n",
       "\t<tr><td>Bangladesh              </td><td>663                     </td><td>195                     </td><td>44                      </td><td>109                     </td><td>42                      </td><td>22.56                   </td><td>55.90                   </td><td>21.54                   </td></tr>\n",
       "\t<tr><td>Laos                    </td><td>638                     </td><td>153                     </td><td>30                      </td><td> 99                     </td><td>24                      </td><td>19.61                   </td><td>64.71                   </td><td>15.69                   </td></tr>\n",
       "\t<tr><td>British Virgin Islands  </td><td>638                     </td><td> 83                     </td><td>16                      </td><td> 54                     </td><td>13                      </td><td>19.28                   </td><td>65.06                   </td><td>15.66                   </td></tr>\n",
       "\t<tr><td>Macau                   </td><td>612                     </td><td>122                     </td><td>19                      </td><td> 89                     </td><td>14                      </td><td>15.57                   </td><td>72.95                   </td><td>11.48                   </td></tr>\n",
       "\t<tr><td>Anguilla                </td><td>609                     </td><td> 50                     </td><td> 3                      </td><td> 44                     </td><td> 3                      </td><td> 6.00                   </td><td>88.00                   </td><td> 6.00                   </td></tr>\n",
       "\t<tr><td>Somalia                 </td><td>592                     </td><td>101                     </td><td> 9                      </td><td> 80                     </td><td>12                      </td><td> 8.91                   </td><td>79.21                   </td><td>11.88                   </td></tr>\n",
       "\t<tr><td>Djibouti                </td><td>573                     </td><td> 80                     </td><td> 3                      </td><td> 73                     </td><td> 4                      </td><td> 3.75                   </td><td>91.25                   </td><td> 5.00                   </td></tr>\n",
       "\t<tr><td>Sri Lanka               </td><td>566                     </td><td>186                     </td><td>38                      </td><td>115                     </td><td>33                      </td><td>20.43                   </td><td>61.83                   </td><td>17.74                   </td></tr>\n",
       "\t<tr><td>San Marino              </td><td>555                     </td><td>147                     </td><td> 1                      </td><td>142                     </td><td> 4                      </td><td> 0.68                   </td><td>96.60                   </td><td> 2.72                   </td></tr>\n",
       "\t<tr><td>Brunei                  </td><td>545                     </td><td> 69                     </td><td> 8                      </td><td> 56                     </td><td> 5                      </td><td>11.59                   </td><td>81.16                   </td><td> 7.25                   </td></tr>\n",
       "\t<tr><td>East Timor              </td><td>532                     </td><td> 51                     </td><td> 4                      </td><td> 44                     </td><td> 3                      </td><td> 7.84                   </td><td>86.27                   </td><td> 5.88                   </td></tr>\n",
       "\t<tr><td>Bhutan                  </td><td>521                     </td><td> 74                     </td><td> 7                      </td><td> 62                     </td><td> 5                      </td><td> 9.46                   </td><td>83.78                   </td><td> 6.76                   </td></tr>\n",
       "</tbody>\n",
       "</table>\n"
      ],
      "text/latex": [
       "\\begin{tabular}{r|lllllllll}\n",
       " team & elo & match & w & l & d & wpct & lpct & dpct\\\\\n",
       "\\hline\n",
       "\t Brazil      & 1554        & 952         & 607         & 154         & 191         & 63.76       & 16.18       & 20.06      \\\\\n",
       "\t Spain       & 1479        & 671         & 390         & 127         & 154         & 58.12       & 18.93       & 22.95      \\\\\n",
       "\t France      & 1450        & 813         & 398         & 241         & 174         & 48.95       & 29.64       & 21.40      \\\\\n",
       "\t Germany     & 1445        & 930         & 545         & 194         & 191         & 58.60       & 20.86       & 20.54      \\\\\n",
       "\t Argentina   & 1432        & 953         & 512         & 204         & 237         & 53.73       & 21.41       & 24.87      \\\\\n",
       "\t England     & 1430        & 977         & 554         & 185         & 238         & 56.70       & 18.94       & 24.36      \\\\\n",
       "\t Belgium     & 1417        & 745         & 313         & 269         & 163         & 42.01       & 36.11       & 21.88      \\\\\n",
       "\t Portugal    & 1399        & 594         & 285         & 171         & 138         & 47.98       & 28.79       & 23.23      \\\\\n",
       "\t Peru        & 1379        & 598         & 194         & 256         & 148         & 32.44       & 42.81       & 24.75      \\\\\n",
       "\t Colombia    & 1367        & 528         & 201         & 181         & 146         & 38.07       & 34.28       & 27.65      \\\\\n",
       "\t Switzerland & 1353        & 777         & 271         & 338         & 168         & 34.88       & 43.50       & 21.62      \\\\\n",
       "\t Netherlands & 1351        & 768         & 388         & 206         & 174         & 50.52       & 26.82       & 22.66      \\\\\n",
       "\t Italy       & 1341        & 785         & 412         & 152         & 221         & 52.48       & 19.36       & 28.15      \\\\\n",
       "\t Uruguay     & 1338        & 861         & 373         & 278         & 210         & 43.32       & 32.29       & 24.39      \\\\\n",
       "\t Iran        & 1331        & 479         & 261         &  95         & 123         & 54.49       & 19.83       & 25.68      \\\\\n",
       "\t Mexico      & 1330        & 837         & 420         & 217         & 200         & 50.18       & 25.93       & 23.89      \\\\\n",
       "\t Chile       & 1328        & 741         & 284         & 302         & 155         & 38.33       & 40.76       & 20.92      \\\\\n",
       "\t Croatia     & 1328        & 295         & 158         &  58         &  79         & 53.56       & 19.66       & 26.78      \\\\\n",
       "\t Poland      & 1308        & 792         & 340         & 252         & 200         & 42.93       & 31.82       & 25.25      \\\\\n",
       "\t USA         & 1302        & 662         & 281         & 240         & 141         & 42.45       & 36.25       & 21.30      \\\\\n",
       "\t Denmark     & 1284        & 774         & 347         & 266         & 161         & 44.83       & 34.37       & 20.80      \\\\\n",
       "\t Ukraine     & 1281        & 251         & 113         &  68         &  70         & 45.02       & 27.09       & 27.89      \\\\\n",
       "\t Austria     & 1267        & 762         & 314         & 280         & 168         & 41.21       & 36.75       & 22.05      \\\\\n",
       "\t Australia   & 1263        & 500         & 248         & 143         & 109         & 49.60       & 28.60       & 21.80      \\\\\n",
       "\t Romania     & 1261        & 678         & 299         & 206         & 173         & 44.10       & 30.38       & 25.52      \\\\\n",
       "\t Sweden      & 1253        & 993         & 487         & 287         & 219         & 49.04       & 28.90       & 22.05      \\\\\n",
       "\t Morocco     & 1251        & 506         & 233         & 123         & 150         & 46.05       & 24.31       & 29.64      \\\\\n",
       "\t Senegal     & 1250        & 506         & 218         & 149         & 139         & 43.08       & 29.45       & 27.47      \\\\\n",
       "\t Turkey      & 1244        & 549         & 211         & 206         & 132         & 38.43       & 37.52       & 24.04      \\\\\n",
       "\t Slovakia    & 1243        & 275         & 112         &  98         &  65         & 40.73       & 35.64       & 23.64      \\\\\n",
       "\t ⋮ & ⋮ & ⋮ & ⋮ & ⋮ & ⋮ & ⋮ & ⋮ & ⋮\\\\\n",
       "\t Aruba                    & 771                      & 110                      & 20                       &  64                      & 26                       & 18.18                    & 58.18                    & 23.64                   \\\\\n",
       "\t Mauritius                & 771                      & 235                      & 66                       & 120                      & 49                       & 28.09                    & 51.06                    & 20.85                   \\\\\n",
       "\t Tonga                    & 762                      &  52                      & 14                       &  33                      &  5                       & 26.92                    & 63.46                    &  9.62                   \\\\\n",
       "\t Guam                     & 760                      &  85                      & 21                       &  56                      &  8                       & 24.71                    & 65.88                    &  9.41                   \\\\\n",
       "\t Eritrea                  & 757                      &  70                      & 11                       &  43                      & 16                       & 15.71                    & 61.43                    & 22.86                   \\\\\n",
       "\t Cayman Islands           & 750                      &  81                      & 15                       &  53                      & 13                       & 18.52                    & 65.43                    & 16.05                   \\\\\n",
       "\t American Samoa           & 737                      &  42                      &  4                       &  37                      &  1                       &  9.52                    & 88.10                    &  2.38                   \\\\\n",
       "\t Montserrat               & 734                      &  30                      &  4                       &  24                      &  2                       & 13.33                    & 80.00                    &  6.67                   \\\\\n",
       "\t Maldives                 & 724                      & 149                      & 43                       &  81                      & 25                       & 28.86                    & 54.36                    & 16.78                   \\\\\n",
       "\t Liechtenstein            & 722                      & 182                      & 14                       & 146                      & 22                       &  7.69                    & 80.22                    & 12.09                   \\\\\n",
       "\t Virgin Islands           & 704                      &  44                      &  5                       &  33                      &  6                       & 11.36                    & 75.00                    & 13.64                   \\\\\n",
       "\t Pakistan                 & 703                      & 182                      & 36                       & 112                      & 34                       & 19.78                    & 61.54                    & 18.68                   \\\\\n",
       "\t Nepal                    & 694                      & 165                      & 35                       & 103                      & 27                       & 21.21                    & 62.42                    & 16.36                   \\\\\n",
       "\t Seychelles               & 674                      & 100                      & 13                       &  72                      & 15                       & 13.00                    & 72.00                    & 15.00                   \\\\\n",
       "\t Mongolia                 & 669                      &  57                      & 14                       &  37                      &  6                       & 24.56                    & 64.91                    & 10.53                   \\\\\n",
       "\t Northern Mariana Islands & 668                      &  21                      &  2                       &  18                      &  1                       &  9.52                    & 85.71                    &  4.76                   \\\\\n",
       "\t Cambodia                 & 667                      & 209                      & 45                       & 136                      & 28                       & 21.53                    & 65.07                    & 13.40                   \\\\\n",
       "\t Andorra                  & 664                      & 147                      &  5                       & 129                      & 13                       &  3.40                    & 87.76                    &  8.84                   \\\\\n",
       "\t Bangladesh               & 663                      & 195                      & 44                       & 109                      & 42                       & 22.56                    & 55.90                    & 21.54                   \\\\\n",
       "\t Laos                     & 638                      & 153                      & 30                       &  99                      & 24                       & 19.61                    & 64.71                    & 15.69                   \\\\\n",
       "\t British Virgin Islands   & 638                      &  83                      & 16                       &  54                      & 13                       & 19.28                    & 65.06                    & 15.66                   \\\\\n",
       "\t Macau                    & 612                      & 122                      & 19                       &  89                      & 14                       & 15.57                    & 72.95                    & 11.48                   \\\\\n",
       "\t Anguilla                 & 609                      &  50                      &  3                       &  44                      &  3                       &  6.00                    & 88.00                    &  6.00                   \\\\\n",
       "\t Somalia                  & 592                      & 101                      &  9                       &  80                      & 12                       &  8.91                    & 79.21                    & 11.88                   \\\\\n",
       "\t Djibouti                 & 573                      &  80                      &  3                       &  73                      &  4                       &  3.75                    & 91.25                    &  5.00                   \\\\\n",
       "\t Sri Lanka                & 566                      & 186                      & 38                       & 115                      & 33                       & 20.43                    & 61.83                    & 17.74                   \\\\\n",
       "\t San Marino               & 555                      & 147                      &  1                       & 142                      &  4                       &  0.68                    & 96.60                    &  2.72                   \\\\\n",
       "\t Brunei                   & 545                      &  69                      &  8                       &  56                      &  5                       & 11.59                    & 81.16                    &  7.25                   \\\\\n",
       "\t East Timor               & 532                      &  51                      &  4                       &  44                      &  3                       &  7.84                    & 86.27                    &  5.88                   \\\\\n",
       "\t Bhutan                   & 521                      &  74                      &  7                       &  62                      &  5                       &  9.46                    & 83.78                    &  6.76                   \\\\\n",
       "\\end{tabular}\n"
      ],
      "text/markdown": [
       "\n",
       "team | elo | match | w | l | d | wpct | lpct | dpct | \n",
       "|---|---|---|---|---|---|---|---|---|---|---|---|---|---|---|---|---|---|---|---|---|---|---|---|---|---|---|---|---|---|---|---|---|---|---|---|---|---|---|---|---|---|---|---|---|---|---|---|---|---|---|---|---|---|---|---|---|---|---|---|---|\n",
       "| Brazil      | 1554        | 952         | 607         | 154         | 191         | 63.76       | 16.18       | 20.06       | \n",
       "| Spain       | 1479        | 671         | 390         | 127         | 154         | 58.12       | 18.93       | 22.95       | \n",
       "| France      | 1450        | 813         | 398         | 241         | 174         | 48.95       | 29.64       | 21.40       | \n",
       "| Germany     | 1445        | 930         | 545         | 194         | 191         | 58.60       | 20.86       | 20.54       | \n",
       "| Argentina   | 1432        | 953         | 512         | 204         | 237         | 53.73       | 21.41       | 24.87       | \n",
       "| England     | 1430        | 977         | 554         | 185         | 238         | 56.70       | 18.94       | 24.36       | \n",
       "| Belgium     | 1417        | 745         | 313         | 269         | 163         | 42.01       | 36.11       | 21.88       | \n",
       "| Portugal    | 1399        | 594         | 285         | 171         | 138         | 47.98       | 28.79       | 23.23       | \n",
       "| Peru        | 1379        | 598         | 194         | 256         | 148         | 32.44       | 42.81       | 24.75       | \n",
       "| Colombia    | 1367        | 528         | 201         | 181         | 146         | 38.07       | 34.28       | 27.65       | \n",
       "| Switzerland | 1353        | 777         | 271         | 338         | 168         | 34.88       | 43.50       | 21.62       | \n",
       "| Netherlands | 1351        | 768         | 388         | 206         | 174         | 50.52       | 26.82       | 22.66       | \n",
       "| Italy       | 1341        | 785         | 412         | 152         | 221         | 52.48       | 19.36       | 28.15       | \n",
       "| Uruguay     | 1338        | 861         | 373         | 278         | 210         | 43.32       | 32.29       | 24.39       | \n",
       "| Iran        | 1331        | 479         | 261         |  95         | 123         | 54.49       | 19.83       | 25.68       | \n",
       "| Mexico      | 1330        | 837         | 420         | 217         | 200         | 50.18       | 25.93       | 23.89       | \n",
       "| Chile       | 1328        | 741         | 284         | 302         | 155         | 38.33       | 40.76       | 20.92       | \n",
       "| Croatia     | 1328        | 295         | 158         |  58         |  79         | 53.56       | 19.66       | 26.78       | \n",
       "| Poland      | 1308        | 792         | 340         | 252         | 200         | 42.93       | 31.82       | 25.25       | \n",
       "| USA         | 1302        | 662         | 281         | 240         | 141         | 42.45       | 36.25       | 21.30       | \n",
       "| Denmark     | 1284        | 774         | 347         | 266         | 161         | 44.83       | 34.37       | 20.80       | \n",
       "| Ukraine     | 1281        | 251         | 113         |  68         |  70         | 45.02       | 27.09       | 27.89       | \n",
       "| Austria     | 1267        | 762         | 314         | 280         | 168         | 41.21       | 36.75       | 22.05       | \n",
       "| Australia   | 1263        | 500         | 248         | 143         | 109         | 49.60       | 28.60       | 21.80       | \n",
       "| Romania     | 1261        | 678         | 299         | 206         | 173         | 44.10       | 30.38       | 25.52       | \n",
       "| Sweden      | 1253        | 993         | 487         | 287         | 219         | 49.04       | 28.90       | 22.05       | \n",
       "| Morocco     | 1251        | 506         | 233         | 123         | 150         | 46.05       | 24.31       | 29.64       | \n",
       "| Senegal     | 1250        | 506         | 218         | 149         | 139         | 43.08       | 29.45       | 27.47       | \n",
       "| Turkey      | 1244        | 549         | 211         | 206         | 132         | 38.43       | 37.52       | 24.04       | \n",
       "| Slovakia    | 1243        | 275         | 112         |  98         |  65         | 40.73       | 35.64       | 23.64       | \n",
       "| ⋮ | ⋮ | ⋮ | ⋮ | ⋮ | ⋮ | ⋮ | ⋮ | ⋮ | \n",
       "| Aruba                    | 771                      | 110                      | 20                       |  64                      | 26                       | 18.18                    | 58.18                    | 23.64                    | \n",
       "| Mauritius                | 771                      | 235                      | 66                       | 120                      | 49                       | 28.09                    | 51.06                    | 20.85                    | \n",
       "| Tonga                    | 762                      |  52                      | 14                       |  33                      |  5                       | 26.92                    | 63.46                    |  9.62                    | \n",
       "| Guam                     | 760                      |  85                      | 21                       |  56                      |  8                       | 24.71                    | 65.88                    |  9.41                    | \n",
       "| Eritrea                  | 757                      |  70                      | 11                       |  43                      | 16                       | 15.71                    | 61.43                    | 22.86                    | \n",
       "| Cayman Islands           | 750                      |  81                      | 15                       |  53                      | 13                       | 18.52                    | 65.43                    | 16.05                    | \n",
       "| American Samoa           | 737                      |  42                      |  4                       |  37                      |  1                       |  9.52                    | 88.10                    |  2.38                    | \n",
       "| Montserrat               | 734                      |  30                      |  4                       |  24                      |  2                       | 13.33                    | 80.00                    |  6.67                    | \n",
       "| Maldives                 | 724                      | 149                      | 43                       |  81                      | 25                       | 28.86                    | 54.36                    | 16.78                    | \n",
       "| Liechtenstein            | 722                      | 182                      | 14                       | 146                      | 22                       |  7.69                    | 80.22                    | 12.09                    | \n",
       "| Virgin Islands           | 704                      |  44                      |  5                       |  33                      |  6                       | 11.36                    | 75.00                    | 13.64                    | \n",
       "| Pakistan                 | 703                      | 182                      | 36                       | 112                      | 34                       | 19.78                    | 61.54                    | 18.68                    | \n",
       "| Nepal                    | 694                      | 165                      | 35                       | 103                      | 27                       | 21.21                    | 62.42                    | 16.36                    | \n",
       "| Seychelles               | 674                      | 100                      | 13                       |  72                      | 15                       | 13.00                    | 72.00                    | 15.00                    | \n",
       "| Mongolia                 | 669                      |  57                      | 14                       |  37                      |  6                       | 24.56                    | 64.91                    | 10.53                    | \n",
       "| Northern Mariana Islands | 668                      |  21                      |  2                       |  18                      |  1                       |  9.52                    | 85.71                    |  4.76                    | \n",
       "| Cambodia                 | 667                      | 209                      | 45                       | 136                      | 28                       | 21.53                    | 65.07                    | 13.40                    | \n",
       "| Andorra                  | 664                      | 147                      |  5                       | 129                      | 13                       |  3.40                    | 87.76                    |  8.84                    | \n",
       "| Bangladesh               | 663                      | 195                      | 44                       | 109                      | 42                       | 22.56                    | 55.90                    | 21.54                    | \n",
       "| Laos                     | 638                      | 153                      | 30                       |  99                      | 24                       | 19.61                    | 64.71                    | 15.69                    | \n",
       "| British Virgin Islands   | 638                      |  83                      | 16                       |  54                      | 13                       | 19.28                    | 65.06                    | 15.66                    | \n",
       "| Macau                    | 612                      | 122                      | 19                       |  89                      | 14                       | 15.57                    | 72.95                    | 11.48                    | \n",
       "| Anguilla                 | 609                      |  50                      |  3                       |  44                      |  3                       |  6.00                    | 88.00                    |  6.00                    | \n",
       "| Somalia                  | 592                      | 101                      |  9                       |  80                      | 12                       |  8.91                    | 79.21                    | 11.88                    | \n",
       "| Djibouti                 | 573                      |  80                      |  3                       |  73                      |  4                       |  3.75                    | 91.25                    |  5.00                    | \n",
       "| Sri Lanka                | 566                      | 186                      | 38                       | 115                      | 33                       | 20.43                    | 61.83                    | 17.74                    | \n",
       "| San Marino               | 555                      | 147                      |  1                       | 142                      |  4                       |  0.68                    | 96.60                    |  2.72                    | \n",
       "| Brunei                   | 545                      |  69                      |  8                       |  56                      |  5                       | 11.59                    | 81.16                    |  7.25                    | \n",
       "| East Timor               | 532                      |  51                      |  4                       |  44                      |  3                       |  7.84                    | 86.27                    |  5.88                    | \n",
       "| Bhutan                   | 521                      |  74                      |  7                       |  62                      |  5                       |  9.46                    | 83.78                    |  6.76                    | \n",
       "\n",
       "\n"
      ],
      "text/plain": [
       "    team                     elo  match w   l   d   wpct  lpct  dpct \n",
       "1   Brazil                   1554 952   607 154 191 63.76 16.18 20.06\n",
       "2   Spain                    1479 671   390 127 154 58.12 18.93 22.95\n",
       "3   France                   1450 813   398 241 174 48.95 29.64 21.40\n",
       "4   Germany                  1445 930   545 194 191 58.60 20.86 20.54\n",
       "5   Argentina                1432 953   512 204 237 53.73 21.41 24.87\n",
       "6   England                  1430 977   554 185 238 56.70 18.94 24.36\n",
       "7   Belgium                  1417 745   313 269 163 42.01 36.11 21.88\n",
       "8   Portugal                 1399 594   285 171 138 47.98 28.79 23.23\n",
       "9   Peru                     1379 598   194 256 148 32.44 42.81 24.75\n",
       "10  Colombia                 1367 528   201 181 146 38.07 34.28 27.65\n",
       "11  Switzerland              1353 777   271 338 168 34.88 43.50 21.62\n",
       "12  Netherlands              1351 768   388 206 174 50.52 26.82 22.66\n",
       "13  Italy                    1341 785   412 152 221 52.48 19.36 28.15\n",
       "14  Uruguay                  1338 861   373 278 210 43.32 32.29 24.39\n",
       "15  Iran                     1331 479   261  95 123 54.49 19.83 25.68\n",
       "16  Mexico                   1330 837   420 217 200 50.18 25.93 23.89\n",
       "17  Chile                    1328 741   284 302 155 38.33 40.76 20.92\n",
       "18  Croatia                  1328 295   158  58  79 53.56 19.66 26.78\n",
       "19  Poland                   1308 792   340 252 200 42.93 31.82 25.25\n",
       "20  USA                      1302 662   281 240 141 42.45 36.25 21.30\n",
       "21  Denmark                  1284 774   347 266 161 44.83 34.37 20.80\n",
       "22  Ukraine                  1281 251   113  68  70 45.02 27.09 27.89\n",
       "23  Austria                  1267 762   314 280 168 41.21 36.75 22.05\n",
       "24  Australia                1263 500   248 143 109 49.60 28.60 21.80\n",
       "25  Romania                  1261 678   299 206 173 44.10 30.38 25.52\n",
       "26  Sweden                   1253 993   487 287 219 49.04 28.90 22.05\n",
       "27  Morocco                  1251 506   233 123 150 46.05 24.31 29.64\n",
       "28  Senegal                  1250 506   218 149 139 43.08 29.45 27.47\n",
       "29  Turkey                   1244 549   211 206 132 38.43 37.52 24.04\n",
       "30  Slovakia                 1243 275   112  98  65 40.73 35.64 23.64\n",
       "⋮   ⋮                        ⋮    ⋮     ⋮   ⋮   ⋮   ⋮     ⋮     ⋮    \n",
       "215 Aruba                    771  110   20   64 26  18.18 58.18 23.64\n",
       "216 Mauritius                771  235   66  120 49  28.09 51.06 20.85\n",
       "217 Tonga                    762   52   14   33  5  26.92 63.46  9.62\n",
       "218 Guam                     760   85   21   56  8  24.71 65.88  9.41\n",
       "219 Eritrea                  757   70   11   43 16  15.71 61.43 22.86\n",
       "220 Cayman Islands           750   81   15   53 13  18.52 65.43 16.05\n",
       "221 American Samoa           737   42    4   37  1   9.52 88.10  2.38\n",
       "222 Montserrat               734   30    4   24  2  13.33 80.00  6.67\n",
       "223 Maldives                 724  149   43   81 25  28.86 54.36 16.78\n",
       "224 Liechtenstein            722  182   14  146 22   7.69 80.22 12.09\n",
       "225 Virgin Islands           704   44    5   33  6  11.36 75.00 13.64\n",
       "226 Pakistan                 703  182   36  112 34  19.78 61.54 18.68\n",
       "227 Nepal                    694  165   35  103 27  21.21 62.42 16.36\n",
       "228 Seychelles               674  100   13   72 15  13.00 72.00 15.00\n",
       "229 Mongolia                 669   57   14   37  6  24.56 64.91 10.53\n",
       "230 Northern Mariana Islands 668   21    2   18  1   9.52 85.71  4.76\n",
       "231 Cambodia                 667  209   45  136 28  21.53 65.07 13.40\n",
       "232 Andorra                  664  147    5  129 13   3.40 87.76  8.84\n",
       "233 Bangladesh               663  195   44  109 42  22.56 55.90 21.54\n",
       "234 Laos                     638  153   30   99 24  19.61 64.71 15.69\n",
       "235 British Virgin Islands   638   83   16   54 13  19.28 65.06 15.66\n",
       "236 Macau                    612  122   19   89 14  15.57 72.95 11.48\n",
       "237 Anguilla                 609   50    3   44  3   6.00 88.00  6.00\n",
       "238 Somalia                  592  101    9   80 12   8.91 79.21 11.88\n",
       "239 Djibouti                 573   80    3   73  4   3.75 91.25  5.00\n",
       "240 Sri Lanka                566  186   38  115 33  20.43 61.83 17.74\n",
       "241 San Marino               555  147    1  142  4   0.68 96.60  2.72\n",
       "242 Brunei                   545   69    8   56  5  11.59 81.16  7.25\n",
       "243 East Timor               532   51    4   44  3   7.84 86.27  5.88\n",
       "244 Bhutan                   521   74    7   62  5   9.46 83.78  6.76"
      ]
     },
     "metadata": {},
     "output_type": "display_data"
    }
   ],
   "source": [
    "foot.teams %>% mutate(wpct=round(100*w/match,2),lpct=round(100*l/match,2),dpct=round(100*d/match,2))%>% arrange(desc(elo))"
   ]
  },
  {
   "cell_type": "markdown",
   "metadata": {},
   "source": [
    "### Loop for Stats"
   ]
  },
  {
   "cell_type": "code",
   "execution_count": 13,
   "metadata": {
    "collapsed": true
   },
   "outputs": [],
   "source": [
    "newelo <- function(eloA,eloB,scoreA,K=32) {\n",
    "    EA <- 1/(1+10**((eloB-eloA)/400))\n",
    "    delta <- round((scoreA-EA)*K,0)\n",
    "    c(eloA+delta,eloB-delta)\n",
    "}"
   ]
  },
  {
   "cell_type": "code",
   "execution_count": 14,
   "metadata": {
    "collapsed": true
   },
   "outputs": [],
   "source": [
    "probadraw <- function(eloA,eloB) {\n",
    "    pwin <- 1/(1+10**((eloB-eloA)/400))\n",
    "    delta <- abs(2*pwin-1)\n",
    "    (1-delta)*exp(-delta)/2    \n",
    "}"
   ]
  },
  {
   "cell_type": "code",
   "execution_count": 15,
   "metadata": {
    "collapsed": true
   },
   "outputs": [],
   "source": [
    "create_pool_round <- function() {\n",
    "    countries <- c('Russia','Saudi Arabia','Egypt','Uruguay','Portugal','Spain','Morocco','Iran',\n",
    "                   'France','Australia','Peru','Denmark','Argentina','Iceland','Croatia','Nigeria',\n",
    "                   'Brazil','Switzerland','Costa Rica','Serbia','Germany','Mexico','Sweden','Korea Republic',\n",
    "                   'Belgium','Panama','Tunisia','England','Poland','Senegal','Colombia','Japan' )\n",
    "    poolteam <- c('A','A','A','A','B','B','B','B',\n",
    "                  'C','C','C','C','D','D','D','D',\n",
    "                  'E','E','E','E','F','F','F','F',\n",
    "                  'G','G','G','G','H','H','H','H')\n",
    "    pools <- data.frame(team=countries,pool=poolteam,stringsAsFactors=F)\n",
    "    \n",
    "    wc.teams <<- foot.teams %>% inner_join(pools,by='team') %>% mutate(match=0,w=0,l=0,d=0)\n",
    "\n",
    "    date <- c('Jun 14 2018','Jun 15 2018','Jun 15 2018','Jun 15 2018','Jun 16 2018','Jun 16 2018','Jun 16 2018','Jun 16 2018',\n",
    "              'Jun 17 2018','Jun 17 2018','Jun 17 2018','Jun 18 2018','Jun 18 2018','Jun 18 2018','Jun 19 2018','Jun 19 2018',\n",
    "              'Jun 19 2018','Jun 20 2018','Jun 20 2018','Jun 20 2018','Jun 21 2018','Jun 21 2018','Jun 21 2018','Jun 22 2018',\n",
    "              'Jun 22 2018','Jun 22 2018','Jun 23 2018','Jun 23 2018','Jun 23 2018','Jun 24 2018','Jun 24 2018','Jun 24 2018',\n",
    "              'Jun 25 2018','Jun 25 2018','Jun 25 2018','Jun 25 2018','Jun 26 2018','Jun 26 2018','Jun 26 2018','Jun 26 2018',\n",
    "              'Jun 27 2018','Jun 27 2018','Jun 27 2018','Jun 27 2018','Jun 28 2018','Jun 28 2018','Jun 28 2018','Jun 28 2018')\n",
    "    home_team <- c('Russia','Egypt','Portugal','Morocco','France','Peru','Argentina','Croatia',\n",
    "                   'Brazil','Costa Rica','Germany','Sweden','Belgium','Tunisia','Poland','Colombia',\n",
    "                   'Russia','Uruguay','Portugal','Iran','France','Denmark','Argentina','Nigeria',\n",
    "                   'Brazil','Serbia','Germany','Korea Republic','Belgium','England','Poland','Japan',\n",
    "                   'Uruguay','Saudi Arabia','Iran','Spain','Denmark','Australia','Nigeria','Iceland',\n",
    "                   'Serbia','Switzerland','Korea Republic','Mexico','England','Panama','Japan','Senegal')\n",
    "    away_team <- c('Saudi Arabia','Uruguay','Spain','Iran','Australia','Denmark','Iceland','Nigeria',\n",
    "                   'Switzerland','Serbia','Mexico','Korea Republic','Panama','England','Senegal','Japan',\n",
    "                   'Egypt','Saudi Arabia','Morocco','Spain','Peru','Australia','Croatia','Iceland',\n",
    "                   'Costa Rica','Switzerland','Sweden','Mexico','Tunisia','Panama','Colombia','Senegal',\n",
    "                   'Russia','Egypt','Portugal','Morocco','France','Peru','Argentina','Croatia',\n",
    "                   'Brazil','Costa Rica','Germany','Sweden','Belgium','Tunisia','Poland','Colombia')\n",
    "    pool <- c('A','A','B','B','C','C','D','D','E','E','F','F','G','G','H','H',\n",
    "              'A','A','B','B','C','C','D','D','E','E','F','F','G','G','H','H',\n",
    "              'A','A','B','B','C','C','D','D','E','E','F','F','G','G','H','H')\n",
    "\n",
    "    wc.pool <<- data.frame(pool=pool, date=date, home_team=home_team, away_team=away_team, stringsAsFactors=F) %>% mutate(date=as.Date(date,'%b %d %Y'))\n",
    "}"
   ]
  },
  {
   "cell_type": "code",
   "execution_count": 16,
   "metadata": {
    "collapsed": true
   },
   "outputs": [],
   "source": [
    "play_pool_round <- function() {\n",
    "    for (row in 1:(dim(wc.pool)[1])) {\n",
    "        home_team_idx = as.numeric(rownames(wc.teams[wc.teams$team==wc.pool[row,]$home_team,]))\n",
    "        away_team_idx = as.numeric(rownames(wc.teams[wc.teams$team==wc.pool[row,]$away_team,]))\n",
    "\n",
    "        wc.pool[row,'home_elo'] <- wc.teams[home_team_idx,]$elo\n",
    "        wc.pool[row,'away_elo'] <- wc.teams[away_team_idx,]$elo\n",
    "        wc.pool[row,'home_p'] <- 1/(1+10**((wc.pool[row,]$away_elo-wc.pool[row,]$home_elo)/400))\n",
    "        wc.pool[row,'draw_p'] <- probadraw(wc.pool[row,]$home_elo,wc.pool[row,]$away_elo)\n",
    "        wc.pool[row,'home_pwin']  <- wc.pool[row,]$home_p - wc.pool[row,]$draw_p/2\n",
    "        wc.pool[row,'home_pdraw'] <- wc.pool[row,]$home_p + wc.pool[row,]$draw_p/2\n",
    "        wc.pool[row,'rand'] <- runif(1)\n",
    "\n",
    "        wc.pool[row,'home_pts'] <- if_else(wc.pool[row,]$rand<=wc.pool[row,]$home_pwin,1,if_else(wc.pool[row,]$rand<=wc.pool[row,]$home_pdraw,0.5,0))\n",
    "\n",
    "        nelo <- newelo(wc.pool[row,]$home_elo,wc.pool[row,]$away_elo,wc.pool[row,]$home_pts)\n",
    "        wc.teams[home_team_idx,]$elo <- nelo[1]\n",
    "        wc.teams[away_team_idx,]$elo <- nelo[2]\n",
    "\n",
    "        wc.teams[home_team_idx,]$match <- wc.teams[home_team_idx,]$match +1    \n",
    "        wc.teams[away_team_idx,]$match <- wc.teams[away_team_idx,]$match +1\n",
    "        if (wc.pool[row,]$home_pts==1) {\n",
    "            wc.teams[home_team_idx,]$w = wc.teams[home_team_idx,]$w +1\n",
    "            wc.teams[away_team_idx,]$l = wc.teams[away_team_idx,]$l +1\n",
    "        } else if (wc.pool[row,]$home_pts==0) {\n",
    "            wc.teams[home_team_idx,]$l = wc.teams[home_team_idx,]$l +1\n",
    "            wc.teams[away_team_idx,]$w = wc.teams[away_team_idx,]$w +1\n",
    "        } else {\n",
    "            wc.teams[home_team_idx,]$d = wc.teams[home_team_idx,]$d +1\n",
    "            wc.teams[away_team_idx,]$d = wc.teams[away_team_idx,]$d +1\n",
    "        }\n",
    "    }\n",
    "    wc.teams <<- wc.teams %>% mutate(pts=3*w+d)\n",
    "    wc.pool <<- wc.pool\n",
    "}"
   ]
  },
  {
   "cell_type": "code",
   "execution_count": 17,
   "metadata": {
    "collapsed": true
   },
   "outputs": [],
   "source": [
    "create_8th_round <- function() {\n",
    "    wc.qualified <- wc.teams %>% arrange(pool,desc(pts),desc(w),l) %>% group_by(pool) %>% \n",
    "                             mutate(pos=row_number()) %>% slice(1:2) %>% mutate(rank=paste0(pool,pos)) %>% ungroup()\n",
    "    home_team <- c('A1','C1','E1','G1','B1','D1','F1','H1')\n",
    "    away_team <- c('B2','D2','F2','H2','A2','C2','E2','G2')\n",
    "    wc.8th <- data.frame(home_pos=home_team,away_pos=away_team,stringsAsFactors=F)\n",
    "    wc.8th <<- wc.8th %>% inner_join(wc.qualified %>% select(team,rank),by=c('home_pos'='rank')) %>% rename(home_team=team) %>%\n",
    "                     inner_join(wc.qualified %>% select(team,rank),by=c('away_pos'='rank')) %>% rename(away_team=team)\n",
    "}"
   ]
  },
  {
   "cell_type": "code",
   "execution_count": 18,
   "metadata": {
    "collapsed": true
   },
   "outputs": [],
   "source": [
    "play_8th_round <- function() {\n",
    "    for (row in 1:(dim(wc.8th)[1])) {\n",
    "        home_team_idx = as.numeric(rownames(wc.teams[wc.teams$team==wc.8th[row,]$home_team,]))\n",
    "        away_team_idx = as.numeric(rownames(wc.teams[wc.teams$team==wc.8th[row,]$away_team,]))\n",
    "\n",
    "        wc.8th[row,'home_elo'] <- wc.teams[home_team_idx,]$elo\n",
    "        wc.8th[row,'away_elo'] <- wc.teams[away_team_idx,]$elo\n",
    "        wc.8th[row,'home_p'] <- 1/(1+10**((wc.8th[row,]$away_elo-wc.8th[row,]$home_elo)/400))\n",
    "        wc.8th[row,'rand'] <- runif(1)\n",
    "        wc.8th[row,'home_pts'] <- if_else(wc.8th[row,]$rand<=wc.8th[row,]$home_p,1,0)\n",
    "\n",
    "        wc.teams[home_team_idx,'r8th'] <- wc.8th[row,]$home_pts\n",
    "        wc.teams[away_team_idx,'r8th'] <- 1-wc.8th[row,]$home_pts\n",
    "\n",
    "        nelo <- newelo(wc.8th[row,]$home_elo,wc.8th[row,]$away_elo,wc.8th[row,]$home_pts)\n",
    "        wc.teams[home_team_idx,]$elo <- nelo[1]\n",
    "        wc.teams[away_team_idx,]$elo <- nelo[2]\n",
    "    }\n",
    "    wc.teams <<- wc.teams\n",
    "    wc.8th <<- wc.8th\n",
    "}"
   ]
  },
  {
   "cell_type": "code",
   "execution_count": 19,
   "metadata": {
    "collapsed": true
   },
   "outputs": [],
   "source": [
    "create_4th_round <- function() {\n",
    "    home_team <- c(if_else(wc.8th[1,]$home_pts==1,as.character(wc.8th[1,]$home_team),as.character(wc.8th[1,]$away_team)),\n",
    "                   if_else(wc.8th[3,]$home_pts==1,as.character(wc.8th[3,]$home_team),as.character(wc.8th[3,]$away_team)),\n",
    "                   if_else(wc.8th[5,]$home_pts==1,as.character(wc.8th[5,]$home_team),as.character(wc.8th[5,]$away_team)),\n",
    "                   if_else(wc.8th[7,]$home_pts==1,as.character(wc.8th[7,]$home_team),as.character(wc.8th[7,]$away_team)) )\n",
    "\n",
    "    away_team <- c(if_else(wc.8th[2,]$home_pts==1,as.character(wc.8th[2,]$home_team),as.character(wc.8th[2,]$away_team)),\n",
    "                   if_else(wc.8th[4,]$home_pts==1,as.character(wc.8th[4,]$home_team),as.character(wc.8th[4,]$away_team)),\n",
    "                   if_else(wc.8th[6,]$home_pts==1,as.character(wc.8th[6,]$home_team),as.character(wc.8th[6,]$away_team)),\n",
    "                   if_else(wc.8th[8,]$home_pts==1,as.character(wc.8th[8,]$home_team),as.character(wc.8th[8,]$away_team)) )\n",
    "\n",
    "    wc.4th <<- data.frame(home_team=home_team,away_team=away_team, stringsAsFactors=F) \n",
    "}"
   ]
  },
  {
   "cell_type": "code",
   "execution_count": 20,
   "metadata": {
    "collapsed": true
   },
   "outputs": [],
   "source": [
    "play_4th_round <- function() {\n",
    "    for (row in 1:(dim(wc.4th)[1])) {\n",
    "        home_team_idx = as.numeric(rownames(wc.teams[wc.teams$team==wc.4th[row,]$home_team,]))\n",
    "        away_team_idx = as.numeric(rownames(wc.teams[wc.teams$team==wc.4th[row,]$away_team,]))\n",
    "\n",
    "        wc.4th[row,'home_elo'] <- wc.teams[home_team_idx,]$elo\n",
    "        wc.4th[row,'away_elo'] <- wc.teams[away_team_idx,]$elo\n",
    "        wc.4th[row,'home_p'] <- 1/(1+10**((wc.4th[row,]$away_elo-wc.4th[row,]$home_elo)/400))\n",
    "        wc.4th[row,'rand'] <- runif(1)\n",
    "        wc.4th[row,'home_pts'] <- if_else(wc.4th[row,]$rand<=wc.4th[row,]$home_p,1,0)\n",
    "\n",
    "        wc.teams[home_team_idx,'r4th'] <- wc.4th[row,]$home_pts\n",
    "        wc.teams[away_team_idx,'r4th'] <- 1-wc.4th[row,]$home_pts\n",
    "\n",
    "        nelo <- newelo(wc.4th[row,]$home_elo,wc.4th[row,]$away_elo,wc.4th[row,]$home_pts)\n",
    "        wc.teams[home_team_idx,]$elo <- nelo[1]\n",
    "        wc.teams[away_team_idx,]$elo <- nelo[2]\n",
    "    }\n",
    "    wc.teams <<- wc.teams\n",
    "    wc.4th <<- wc.4th    \n",
    "}"
   ]
  },
  {
   "cell_type": "code",
   "execution_count": 21,
   "metadata": {
    "collapsed": true
   },
   "outputs": [],
   "source": [
    "create_2th_round <- function() {\n",
    "    home_team <- c(if_else(wc.4th[1,]$home_pts==1,as.character(wc.4th[1,]$home_team),as.character(wc.4th[1,]$away_team)),\n",
    "                   if_else(wc.4th[3,]$home_pts==1,as.character(wc.4th[3,]$home_team),as.character(wc.4th[3,]$away_team)) )\n",
    "\n",
    "    away_team <- c(if_else(wc.4th[2,]$home_pts==1,as.character(wc.4th[2,]$home_team),as.character(wc.4th[2,]$away_team)),\n",
    "                   if_else(wc.4th[4,]$home_pts==1,as.character(wc.4th[4,]$home_team),as.character(wc.4th[4,]$away_team)) )\n",
    "\n",
    "    wc.2th <<- data.frame(home_team=home_team,away_team=away_team, stringsAsFactors=F)   \n",
    "}"
   ]
  },
  {
   "cell_type": "code",
   "execution_count": 22,
   "metadata": {
    "collapsed": true
   },
   "outputs": [],
   "source": [
    "play_2th_round <- function() {\n",
    "    for (row in 1:(dim(wc.2th)[1])) {\n",
    "        home_team_idx = as.numeric(rownames(wc.teams[wc.teams$team==wc.2th[row,]$home_team,]))\n",
    "        away_team_idx = as.numeric(rownames(wc.teams[wc.teams$team==wc.2th[row,]$away_team,]))\n",
    "\n",
    "        wc.2th[row,'home_elo'] <- wc.teams[home_team_idx,]$elo\n",
    "        wc.2th[row,'away_elo'] <- wc.teams[away_team_idx,]$elo\n",
    "        wc.2th[row,'home_p'] <- 1/(1+10**((wc.2th[row,]$away_elo-wc.2th[row,]$home_elo)/400))\n",
    "        wc.2th[row,'rand'] <- runif(1)\n",
    "        wc.2th[row,'home_pts'] <- if_else(wc.2th[row,]$rand<=wc.2th[row,]$home_p,1,0)\n",
    "\n",
    "        wc.teams[home_team_idx,'r2th'] <- wc.2th[row,]$home_pts\n",
    "        wc.teams[away_team_idx,'r2th'] <- 1-wc.2th[row,]$home_pts\n",
    "\n",
    "        nelo <- newelo(wc.2th[row,]$home_elo,wc.2th[row,]$away_elo,wc.2th[row,]$home_pts)\n",
    "        wc.teams[home_team_idx,]$elo <- nelo[1]\n",
    "        wc.teams[away_team_idx,]$elo <- nelo[2]\n",
    "    }\n",
    "    wc.teams <<- wc.teams\n",
    "    wc.2th <<- wc.2th\n",
    "}"
   ]
  },
  {
   "cell_type": "code",
   "execution_count": 23,
   "metadata": {
    "collapsed": true
   },
   "outputs": [],
   "source": [
    "create_playoff_round <- function() {\n",
    "    home_team <- c(if_else(wc.2th[1,]$home_pts==1,as.character(wc.2th[1,]$away_team),as.character(wc.2th[1,]$home_team)))\n",
    "    away_team <- c(if_else(wc.2th[2,]$home_pts==1,as.character(wc.2th[2,]$away_team),as.character(wc.2th[2,]$home_team)))\n",
    "\n",
    "    wc.playoff <<- data.frame(home_team=home_team,away_team=away_team, stringsAsFactors=F)    \n",
    "}"
   ]
  },
  {
   "cell_type": "code",
   "execution_count": 24,
   "metadata": {
    "collapsed": true
   },
   "outputs": [],
   "source": [
    "play_playoff_round <- function() {\n",
    "    home_team_idx = as.numeric(rownames(wc.teams[wc.teams$team==wc.playoff[1,]$home_team,]))\n",
    "    away_team_idx = as.numeric(rownames(wc.teams[wc.teams$team==wc.playoff[1,]$away_team,]))\n",
    "\n",
    "    wc.playoff[1,'home_elo'] <- wc.teams[home_team_idx,]$elo\n",
    "    wc.playoff[1,'away_elo'] <- wc.teams[away_team_idx,]$elo\n",
    "    wc.playoff[1,'home_p'] <- 1/(1+10**((wc.playoff[1,]$away_elo-wc.playoff[1,]$home_elo)/400))\n",
    "    wc.playoff[1,'rand'] <- runif(1)\n",
    "    wc.playoff[1,'home_pts'] <- if_else(wc.playoff[1,]$rand<=wc.playoff[1,]$home_p,1,0)\n",
    "\n",
    "    wc.teams[home_team_idx,'rplayoff'] <- wc.playoff[1,]$home_pts\n",
    "    wc.teams[away_team_idx,'rplayoff'] <- 1-wc.playoff[1,]$home_pts\n",
    "\n",
    "    nelo <- newelo(wc.playoff[1,]$home_elo,wc.playoff[1,]$away_elo,wc.playoff[1,]$home_pts)\n",
    "    wc.teams[home_team_idx,]$elo <- nelo[1]\n",
    "    wc.teams[away_team_idx,]$elo <- nelo[2]\n",
    "\n",
    "    wc.teams <<- wc.teams\n",
    "    wc.playoff <<- wc.playoff\n",
    "}"
   ]
  },
  {
   "cell_type": "code",
   "execution_count": 25,
   "metadata": {
    "collapsed": true
   },
   "outputs": [],
   "source": [
    "create_final_round <- function() {\n",
    "    home_team <- c(if_else(wc.2th[1,]$home_pts==1,as.character(wc.2th[1,]$home_team),as.character(wc.2th[1,]$away_team)))\n",
    "    away_team <- c(if_else(wc.2th[2,]$home_pts==1,as.character(wc.2th[2,]$home_team),as.character(wc.2th[2,]$away_team)))\n",
    "\n",
    "    wc.final <<- data.frame(home_team=home_team,away_team=away_team, stringsAsFactors=F)   \n",
    "}"
   ]
  },
  {
   "cell_type": "code",
   "execution_count": 26,
   "metadata": {
    "collapsed": true
   },
   "outputs": [],
   "source": [
    "play_final_round <- function() {\n",
    "    home_team_idx = as.numeric(rownames(wc.teams[wc.teams$team==wc.final[1,]$home_team,]))\n",
    "    away_team_idx = as.numeric(rownames(wc.teams[wc.teams$team==wc.final[1,]$away_team,]))\n",
    "\n",
    "    wc.final[1,'home_elo'] <- wc.teams[home_team_idx,]$elo\n",
    "    wc.final[1,'away_elo'] <- wc.teams[away_team_idx,]$elo\n",
    "    wc.final[1,'home_p'] <- 1/(1+10**((wc.final[1,]$away_elo-wc.final[1,]$home_elo)/400))\n",
    "    wc.final[1,'rand'] <- runif(1)\n",
    "    wc.final[1,'home_pts'] <- if_else(wc.final[1,]$rand<=wc.final[1,]$home_p,1,0)\n",
    "\n",
    "    wc.teams[home_team_idx,'rfinal'] <- wc.final[1,]$home_pts\n",
    "    wc.teams[away_team_idx,'rfinal'] <- 1-wc.final[1,]$home_pts\n",
    "\n",
    "    nelo <- newelo(wc.final[1,]$home_elo,wc.final[1,]$away_elo,wc.final[1,]$home_pts)\n",
    "    wc.teams[home_team_idx,]$elo <- nelo[1]\n",
    "    wc.teams[away_team_idx,]$elo <- nelo[2]\n",
    "    \n",
    "    wc.teams <<- wc.teams\n",
    "    wc.final <<- wc.final\n",
    "}"
   ]
  },
  {
   "cell_type": "code",
   "execution_count": 27,
   "metadata": {
    "scrolled": true
   },
   "outputs": [
    {
     "name": "stderr",
     "output_type": "stream",
     "text": [
      "Loading required package: iterators\n",
      "Loading required package: parallel\n"
     ]
    }
   ],
   "source": [
    "library(foreach)\n",
    "library(doParallel)"
   ]
  },
  {
   "cell_type": "code",
   "execution_count": 28,
   "metadata": {
    "collapsed": true
   },
   "outputs": [],
   "source": [
    "no_cores <- detectCores() - 1  "
   ]
  },
  {
   "cell_type": "code",
   "execution_count": 32,
   "metadata": {
    "collapsed": true
   },
   "outputs": [
    {
     "name": "stdout",
     "output_type": "stream",
     "text": [
      "Inner1: 186.596 sec elapsed\n",
      "Inner2: 193.327 sec elapsed\n",
      "Inner3: 189.41 sec elapsed\n",
      "Inner4: 189.187 sec elapsed\n",
      "Inner5: 187.525 sec elapsed\n",
      "Inner6: 189.634 sec elapsed\n",
      "Inner7: 188.596 sec elapsed\n",
      "Inner8: 190.415 sec elapsed\n",
      "Inner9: 189.882 sec elapsed\n",
      "Inner10: 189.207 sec elapsed\n",
      "Inner11: 187.224 sec elapsed\n",
      "Inner12: 186.697 sec elapsed\n",
      "Inner13: 189.851 sec elapsed\n",
      "Inner14: 188.191 sec elapsed\n",
      "Inner15: 186.811 sec elapsed\n",
      "Inner16: 187.125 sec elapsed\n",
      "Inner17: 187.242 sec elapsed\n",
      "Inner18: 186.672 sec elapsed\n",
      "Inner19: 187.347 sec elapsed\n",
      "Inner20: 187.278 sec elapsed\n",
      "Inner21: 187.223 sec elapsed\n",
      "Inner22: 187.051 sec elapsed\n",
      "Inner23: 185.574 sec elapsed\n",
      "Inner24: 187.404 sec elapsed\n",
      "Inner25: 185.412 sec elapsed\n",
      "Inner26: 186.205 sec elapsed\n",
      "Inner27: 187.402 sec elapsed\n",
      "Inner28: 184.075 sec elapsed\n",
      "Inner29: 187.307 sec elapsed\n",
      "Inner30: 184.537 sec elapsed\n",
      "Inner31: 186.903 sec elapsed\n",
      "Inner32: 184.9 sec elapsed\n",
      "Inner33: 185.291 sec elapsed\n",
      "Inner34: 185.194 sec elapsed\n",
      "Inner35: 185.011 sec elapsed\n",
      "Inner36: 184.877 sec elapsed\n",
      "Inner37: 185.448 sec elapsed\n",
      "Inner38: 185.386 sec elapsed\n",
      "Inner39: 184.798 sec elapsed\n",
      "Inner40: 186.479 sec elapsed\n",
      "Inner41: 183.807 sec elapsed\n",
      "Inner42: 183.823 sec elapsed\n",
      "Inner43: 184.238 sec elapsed\n",
      "Inner44: 184.45 sec elapsed\n",
      "Inner45: 185.534 sec elapsed\n",
      "Inner46: 185.148 sec elapsed\n",
      "Inner47: 185.706 sec elapsed\n",
      "Inner48: 185.456 sec elapsed\n",
      "Inner49: 184.395 sec elapsed\n",
      "Inner50: 183.852 sec elapsed\n",
      "Inner51: 183.276 sec elapsed\n",
      "Inner52: 186.731 sec elapsed\n",
      "Inner53: 185.009 sec elapsed\n",
      "Inner54: 184.132 sec elapsed\n",
      "Inner55: 185.675 sec elapsed\n",
      "Inner56: 185.906 sec elapsed\n",
      "Inner57: 185.648 sec elapsed\n",
      "Inner58: 185.28 sec elapsed\n",
      "Inner59: 184.837 sec elapsed\n",
      "Inner60: 187.573 sec elapsed\n",
      "Inner61: 185.45 sec elapsed\n",
      "Inner62: 186.313 sec elapsed\n",
      "Inner63: 184.976 sec elapsed\n",
      "Inner64: 186.689 sec elapsed\n",
      "Inner65: 185.045 sec elapsed\n",
      "Inner66: 184.192 sec elapsed\n",
      "Inner67: 185.733 sec elapsed\n",
      "Inner68: 185.123 sec elapsed\n",
      "Inner69: 185.792 sec elapsed\n",
      "Inner70: 186.364 sec elapsed\n",
      "Inner71: 184.588 sec elapsed\n",
      "Inner72: 185.2 sec elapsed\n",
      "Inner73: 185.145 sec elapsed\n",
      "Inner74: 185.81 sec elapsed\n",
      "Inner75: 184.908 sec elapsed\n",
      "Inner76: 184.638 sec elapsed\n",
      "Inner77: 183.467 sec elapsed\n",
      "Inner78: 185.058 sec elapsed\n",
      "Inner79: 184.735 sec elapsed\n",
      "Inner80: 185.209 sec elapsed\n",
      "Inner81: 186.378 sec elapsed\n",
      "Inner82: 185.242 sec elapsed\n",
      "Inner83: 186.775 sec elapsed\n",
      "Inner84: 185.033 sec elapsed\n",
      "Inner85: 185.777 sec elapsed\n",
      "Inner86: 185.734 sec elapsed\n",
      "Inner87: 185.329 sec elapsed\n",
      "Inner88: 184.638 sec elapsed\n",
      "Inner89: 184.846 sec elapsed\n",
      "Inner90: 187.271 sec elapsed\n",
      "Inner91: 186.42 sec elapsed\n",
      "Inner92: 184.728 sec elapsed\n",
      "Inner93: 186.773 sec elapsed\n",
      "Inner94: 184.736 sec elapsed\n",
      "Inner95: 186.504 sec elapsed\n",
      "Inner96: 185.11 sec elapsed\n",
      "Inner97: 185.181 sec elapsed\n",
      "Inner98: 185.888 sec elapsed\n",
      "Inner99: 185.236 sec elapsed\n",
      "Inner100: 185.659 sec elapsed\n",
      "Outer: 18696.382 sec elapsed\n"
     ]
    }
   ],
   "source": [
    "tic('Outer')\n",
    "cl <- makeCluster(no_cores, type=\"FORK\")\n",
    "registerDoParallel(cl)\n",
    "\n",
    "for(r in 1:100) {\n",
    "    tic(paste0('Inner',r))\n",
    "    wc.teams.stats <- foreach(i=1:10000, .combine=rbind) %dopar%\n",
    "    {\n",
    "        set.seed(NULL)\n",
    "\n",
    "        create_pool_round()\n",
    "        play_pool_round()\n",
    "\n",
    "        create_8th_round()\n",
    "        play_8th_round()\n",
    "\n",
    "        create_4th_round()\n",
    "        play_4th_round()\n",
    "\n",
    "        create_2th_round()\n",
    "        play_2th_round()\n",
    "\n",
    "        create_playoff_round()\n",
    "        play_playoff_round()\n",
    "\n",
    "        create_final_round()\n",
    "        play_final_round()\n",
    "\n",
    "        wc.teams.stats <- wc.teams %>% mutate(run=100*r+i)\n",
    "    }\n",
    "    toc()\n",
    "    saveRDS(wc.teams.stats,paste0('wc.teams.stats.all.100k.',r))\n",
    "}\n",
    "stopCluster(cl)\n",
    "toc()"
   ]
  },
  {
   "cell_type": "code",
   "execution_count": 56,
   "metadata": {},
   "outputs": [
    {
     "data": {
      "text/html": [
       "<ol class=list-inline>\n",
       "\t<li>32000000</li>\n",
       "\t<li>14</li>\n",
       "</ol>\n"
      ],
      "text/latex": [
       "\\begin{enumerate*}\n",
       "\\item 32000000\n",
       "\\item 14\n",
       "\\end{enumerate*}\n"
      ],
      "text/markdown": [
       "1. 32000000\n",
       "2. 14\n",
       "\n",
       "\n"
      ],
      "text/plain": [
       "[1] 32000000       14"
      ]
     },
     "metadata": {},
     "output_type": "display_data"
    }
   ],
   "source": [
    "wc.teams.stats <- readRDS('wc.teams.stats.all.100k.1')\n",
    "for(r in 2:100) {\n",
    "    filename <- paste0('wc.teams.stats.all.100k.',r)\n",
    "    wc.teams.stats.small <- readRDS(filename) %>% mutate(run=10000*r+run)\n",
    "    wc.teams.stats <- rbind(wc.teams.stats,wc.teams.stats.small)\n",
    "}\n",
    "dim(wc.teams.stats)"
   ]
  },
  {
   "cell_type": "code",
   "execution_count": 57,
   "metadata": {},
   "outputs": [
    {
     "data": {
      "text/html": [
       "<table>\n",
       "<thead><tr><th></th><th scope=col>team</th><th scope=col>elo</th><th scope=col>match</th><th scope=col>w</th><th scope=col>l</th><th scope=col>d</th><th scope=col>pool</th><th scope=col>pts</th><th scope=col>r8th</th><th scope=col>r4th</th><th scope=col>r2th</th><th scope=col>rplayoff</th><th scope=col>rfinal</th><th scope=col>run</th></tr></thead>\n",
       "<tbody>\n",
       "\t<tr><th scope=row>31999995</th><td>Nigeria     </td><td>1185        </td><td>3           </td><td>1           </td><td>2           </td><td>0           </td><td>D           </td><td>3           </td><td>NA          </td><td>NA          </td><td>NA          </td><td>NA          </td><td>NA          </td><td>1010000     </td></tr>\n",
       "\t<tr><th scope=row>31999996</th><td>Tunisia     </td><td>1196        </td><td>3           </td><td>1           </td><td>2           </td><td>0           </td><td>G           </td><td>3           </td><td>NA          </td><td>NA          </td><td>NA          </td><td>NA          </td><td>NA          </td><td>1010000     </td></tr>\n",
       "\t<tr><th scope=row>31999997</th><td>Morocco     </td><td>1239        </td><td>3           </td><td>0           </td><td>2           </td><td>1           </td><td>B           </td><td>1           </td><td>NA          </td><td>NA          </td><td>NA          </td><td>NA          </td><td>NA          </td><td>1010000     </td></tr>\n",
       "\t<tr><th scope=row>31999998</th><td>Senegal     </td><td>1211        </td><td>3           </td><td>0           </td><td>3           </td><td>0           </td><td>H           </td><td>0           </td><td>NA          </td><td>NA          </td><td>NA          </td><td>NA          </td><td>NA          </td><td>1010000     </td></tr>\n",
       "\t<tr><th scope=row>31999999</th><td>Saudi Arabia</td><td>1103        </td><td>3           </td><td>0           </td><td>3           </td><td>0           </td><td>A           </td><td>0           </td><td>NA          </td><td>NA          </td><td>NA          </td><td>NA          </td><td>NA          </td><td>1010000     </td></tr>\n",
       "\t<tr><th scope=row>32000000</th><td>Serbia      </td><td>1232        </td><td>3           </td><td>0           </td><td>1           </td><td>2           </td><td>E           </td><td>2           </td><td>NA          </td><td>NA          </td><td>NA          </td><td>NA          </td><td>NA          </td><td>1010000     </td></tr>\n",
       "</tbody>\n",
       "</table>\n"
      ],
      "text/latex": [
       "\\begin{tabular}{r|llllllllllllll}\n",
       "  & team & elo & match & w & l & d & pool & pts & r8th & r4th & r2th & rplayoff & rfinal & run\\\\\n",
       "\\hline\n",
       "\t31999995 & Nigeria      & 1185         & 3            & 1            & 2            & 0            & D            & 3            & NA           & NA           & NA           & NA           & NA           & 1010000     \\\\\n",
       "\t31999996 & Tunisia      & 1196         & 3            & 1            & 2            & 0            & G            & 3            & NA           & NA           & NA           & NA           & NA           & 1010000     \\\\\n",
       "\t31999997 & Morocco      & 1239         & 3            & 0            & 2            & 1            & B            & 1            & NA           & NA           & NA           & NA           & NA           & 1010000     \\\\\n",
       "\t31999998 & Senegal      & 1211         & 3            & 0            & 3            & 0            & H            & 0            & NA           & NA           & NA           & NA           & NA           & 1010000     \\\\\n",
       "\t31999999 & Saudi Arabia & 1103         & 3            & 0            & 3            & 0            & A            & 0            & NA           & NA           & NA           & NA           & NA           & 1010000     \\\\\n",
       "\t32000000 & Serbia       & 1232         & 3            & 0            & 1            & 2            & E            & 2            & NA           & NA           & NA           & NA           & NA           & 1010000     \\\\\n",
       "\\end{tabular}\n"
      ],
      "text/markdown": [
       "\n",
       "| <!--/--> | team | elo | match | w | l | d | pool | pts | r8th | r4th | r2th | rplayoff | rfinal | run | \n",
       "|---|---|---|---|---|---|\n",
       "| 31999995 | Nigeria      | 1185         | 3            | 1            | 2            | 0            | D            | 3            | NA           | NA           | NA           | NA           | NA           | 1010000      | \n",
       "| 31999996 | Tunisia      | 1196         | 3            | 1            | 2            | 0            | G            | 3            | NA           | NA           | NA           | NA           | NA           | 1010000      | \n",
       "| 31999997 | Morocco      | 1239         | 3            | 0            | 2            | 1            | B            | 1            | NA           | NA           | NA           | NA           | NA           | 1010000      | \n",
       "| 31999998 | Senegal      | 1211         | 3            | 0            | 3            | 0            | H            | 0            | NA           | NA           | NA           | NA           | NA           | 1010000      | \n",
       "| 31999999 | Saudi Arabia | 1103         | 3            | 0            | 3            | 0            | A            | 0            | NA           | NA           | NA           | NA           | NA           | 1010000      | \n",
       "| 32000000 | Serbia       | 1232         | 3            | 0            | 1            | 2            | E            | 2            | NA           | NA           | NA           | NA           | NA           | 1010000      | \n",
       "\n",
       "\n"
      ],
      "text/plain": [
       "         team         elo  match w l d pool pts r8th r4th r2th rplayoff rfinal\n",
       "31999995 Nigeria      1185 3     1 2 0 D    3   NA   NA   NA   NA       NA    \n",
       "31999996 Tunisia      1196 3     1 2 0 G    3   NA   NA   NA   NA       NA    \n",
       "31999997 Morocco      1239 3     0 2 1 B    1   NA   NA   NA   NA       NA    \n",
       "31999998 Senegal      1211 3     0 3 0 H    0   NA   NA   NA   NA       NA    \n",
       "31999999 Saudi Arabia 1103 3     0 3 0 A    0   NA   NA   NA   NA       NA    \n",
       "32000000 Serbia       1232 3     0 1 2 E    2   NA   NA   NA   NA       NA    \n",
       "         run    \n",
       "31999995 1010000\n",
       "31999996 1010000\n",
       "31999997 1010000\n",
       "31999998 1010000\n",
       "31999999 1010000\n",
       "32000000 1010000"
      ]
     },
     "metadata": {},
     "output_type": "display_data"
    }
   ],
   "source": [
    "tail(wc.teams.stats)"
   ]
  },
  {
   "cell_type": "code",
   "execution_count": 59,
   "metadata": {
    "scrolled": false
   },
   "outputs": [
    {
     "data": {
      "text/html": [
       "<table>\n",
       "<thead><tr><th scope=col>team</th><th scope=col>r8th</th><th scope=col>r4th</th><th scope=col>r2th</th><th scope=col>rplayoff</th><th scope=col>rfinal</th></tr></thead>\n",
       "<tbody>\n",
       "\t<tr><td>Brazil        </td><td>0.711745      </td><td>0.510491      </td><td>0.353497      </td><td>0.109708      </td><td>0.237059      </td></tr>\n",
       "\t<tr><td>Spain         </td><td>0.652667      </td><td>0.400330      </td><td>0.231379      </td><td>0.102272      </td><td>0.128018      </td></tr>\n",
       "\t<tr><td>France        </td><td>0.541167      </td><td>0.327238      </td><td>0.167651      </td><td>0.091965      </td><td>0.089327      </td></tr>\n",
       "\t<tr><td>Germany       </td><td>0.475471      </td><td>0.288496      </td><td>0.157915      </td><td>0.073423      </td><td>0.079741      </td></tr>\n",
       "\t<tr><td>Argentina     </td><td>0.517639      </td><td>0.285474      </td><td>0.150738      </td><td>0.073755      </td><td>0.074172      </td></tr>\n",
       "\t<tr><td>England       </td><td>0.574024      </td><td>0.273100      </td><td>0.147567      </td><td>0.067309      </td><td>0.073406      </td></tr>\n",
       "\t<tr><td>Belgium       </td><td>0.528169      </td><td>0.255562      </td><td>0.132485      </td><td>0.064160      </td><td>0.062930      </td></tr>\n",
       "\t<tr><td>Portugal      </td><td>0.434906      </td><td>0.225396      </td><td>0.104849      </td><td>0.061103      </td><td>0.048041      </td></tr>\n",
       "\t<tr><td>Peru          </td><td>0.293456      </td><td>0.150191      </td><td>0.068393      </td><td>0.039975      </td><td>0.030285      </td></tr>\n",
       "\t<tr><td>Colombia      </td><td>0.334165      </td><td>0.145456      </td><td>0.067202      </td><td>0.037009      </td><td>0.028728      </td></tr>\n",
       "\t<tr><td>Switzerland   </td><td>0.322907      </td><td>0.156589      </td><td>0.069953      </td><td>0.037608      </td><td>0.026793      </td></tr>\n",
       "\t<tr><td>Uruguay       </td><td>0.346418      </td><td>0.151381      </td><td>0.057227      </td><td>0.041633      </td><td>0.022617      </td></tr>\n",
       "\t<tr><td>Croatia       </td><td>0.288183      </td><td>0.128763      </td><td>0.048960      </td><td>0.033940      </td><td>0.018740      </td></tr>\n",
       "\t<tr><td>Mexico        </td><td>0.196196      </td><td>0.090251      </td><td>0.038771      </td><td>0.022089      </td><td>0.014828      </td></tr>\n",
       "\t<tr><td>Iran          </td><td>0.207846      </td><td>0.091568      </td><td>0.035749      </td><td>0.024364      </td><td>0.013917      </td></tr>\n",
       "\t<tr><td>Poland        </td><td>0.231330      </td><td>0.083720      </td><td>0.032996      </td><td>0.020477      </td><td>0.011840      </td></tr>\n",
       "\t<tr><td>Denmark       </td><td>0.146571      </td><td>0.057472      </td><td>0.020168      </td><td>0.014162      </td><td>0.006822      </td></tr>\n",
       "\t<tr><td>Sweden        </td><td>0.118140      </td><td>0.043480      </td><td>0.014726      </td><td>0.009794      </td><td>0.004500      </td></tr>\n",
       "\t<tr><td>Russia        </td><td>0.159013      </td><td>0.050839      </td><td>0.014776      </td><td>0.011677      </td><td>0.004166      </td></tr>\n",
       "\t<tr><td>Australia     </td><td>0.102991      </td><td>0.038543      </td><td>0.012710      </td><td>0.009407      </td><td>0.004075      </td></tr>\n",
       "\t<tr><td>Senegal       </td><td>0.101699      </td><td>0.030498      </td><td>0.010381      </td><td>0.006970      </td><td>0.003201      </td></tr>\n",
       "\t<tr><td>Japan         </td><td>0.124600      </td><td>0.035173      </td><td>0.011268      </td><td>0.007688      </td><td>0.003142      </td></tr>\n",
       "\t<tr><td>Morocco       </td><td>0.083318      </td><td>0.029560      </td><td>0.009194      </td><td>0.007411      </td><td>0.002899      </td></tr>\n",
       "\t<tr><td>Serbia        </td><td>0.061426      </td><td>0.021812      </td><td>0.006908      </td><td>0.004834      </td><td>0.001917      </td></tr>\n",
       "\t<tr><td>Costa Rica    </td><td>0.066636      </td><td>0.023069      </td><td>0.007017      </td><td>0.005106      </td><td>0.001875      </td></tr>\n",
       "\t<tr><td>Korea Republic</td><td>0.047479      </td><td>0.015800      </td><td>0.004902      </td><td>0.003469      </td><td>0.001414      </td></tr>\n",
       "\t<tr><td>Iceland       </td><td>0.062757      </td><td>0.019388      </td><td>0.004842      </td><td>0.004226      </td><td>0.001287      </td></tr>\n",
       "\t<tr><td>Egypt         </td><td>0.076388      </td><td>0.020687      </td><td>0.005248      </td><td>0.004318      </td><td>0.001242      </td></tr>\n",
       "\t<tr><td>Tunisia       </td><td>0.057616      </td><td>0.015010      </td><td>0.004221      </td><td>0.003156      </td><td>0.001099      </td></tr>\n",
       "\t<tr><td>Nigeria       </td><td>0.047236      </td><td>0.014200      </td><td>0.003550      </td><td>0.003038      </td><td>0.000906      </td></tr>\n",
       "\t<tr><td>Panama        </td><td>0.048397      </td><td>0.011493      </td><td>0.002856      </td><td>0.002280      </td><td>0.000616      </td></tr>\n",
       "\t<tr><td>Saudi Arabia  </td><td>0.039444      </td><td>0.008970      </td><td>0.001901      </td><td>0.001674      </td><td>0.000397      </td></tr>\n",
       "</tbody>\n",
       "</table>\n"
      ],
      "text/latex": [
       "\\begin{tabular}{r|llllll}\n",
       " team & r8th & r4th & r2th & rplayoff & rfinal\\\\\n",
       "\\hline\n",
       "\t Brazil         & 0.711745       & 0.510491       & 0.353497       & 0.109708       & 0.237059      \\\\\n",
       "\t Spain          & 0.652667       & 0.400330       & 0.231379       & 0.102272       & 0.128018      \\\\\n",
       "\t France         & 0.541167       & 0.327238       & 0.167651       & 0.091965       & 0.089327      \\\\\n",
       "\t Germany        & 0.475471       & 0.288496       & 0.157915       & 0.073423       & 0.079741      \\\\\n",
       "\t Argentina      & 0.517639       & 0.285474       & 0.150738       & 0.073755       & 0.074172      \\\\\n",
       "\t England        & 0.574024       & 0.273100       & 0.147567       & 0.067309       & 0.073406      \\\\\n",
       "\t Belgium        & 0.528169       & 0.255562       & 0.132485       & 0.064160       & 0.062930      \\\\\n",
       "\t Portugal       & 0.434906       & 0.225396       & 0.104849       & 0.061103       & 0.048041      \\\\\n",
       "\t Peru           & 0.293456       & 0.150191       & 0.068393       & 0.039975       & 0.030285      \\\\\n",
       "\t Colombia       & 0.334165       & 0.145456       & 0.067202       & 0.037009       & 0.028728      \\\\\n",
       "\t Switzerland    & 0.322907       & 0.156589       & 0.069953       & 0.037608       & 0.026793      \\\\\n",
       "\t Uruguay        & 0.346418       & 0.151381       & 0.057227       & 0.041633       & 0.022617      \\\\\n",
       "\t Croatia        & 0.288183       & 0.128763       & 0.048960       & 0.033940       & 0.018740      \\\\\n",
       "\t Mexico         & 0.196196       & 0.090251       & 0.038771       & 0.022089       & 0.014828      \\\\\n",
       "\t Iran           & 0.207846       & 0.091568       & 0.035749       & 0.024364       & 0.013917      \\\\\n",
       "\t Poland         & 0.231330       & 0.083720       & 0.032996       & 0.020477       & 0.011840      \\\\\n",
       "\t Denmark        & 0.146571       & 0.057472       & 0.020168       & 0.014162       & 0.006822      \\\\\n",
       "\t Sweden         & 0.118140       & 0.043480       & 0.014726       & 0.009794       & 0.004500      \\\\\n",
       "\t Russia         & 0.159013       & 0.050839       & 0.014776       & 0.011677       & 0.004166      \\\\\n",
       "\t Australia      & 0.102991       & 0.038543       & 0.012710       & 0.009407       & 0.004075      \\\\\n",
       "\t Senegal        & 0.101699       & 0.030498       & 0.010381       & 0.006970       & 0.003201      \\\\\n",
       "\t Japan          & 0.124600       & 0.035173       & 0.011268       & 0.007688       & 0.003142      \\\\\n",
       "\t Morocco        & 0.083318       & 0.029560       & 0.009194       & 0.007411       & 0.002899      \\\\\n",
       "\t Serbia         & 0.061426       & 0.021812       & 0.006908       & 0.004834       & 0.001917      \\\\\n",
       "\t Costa Rica     & 0.066636       & 0.023069       & 0.007017       & 0.005106       & 0.001875      \\\\\n",
       "\t Korea Republic & 0.047479       & 0.015800       & 0.004902       & 0.003469       & 0.001414      \\\\\n",
       "\t Iceland        & 0.062757       & 0.019388       & 0.004842       & 0.004226       & 0.001287      \\\\\n",
       "\t Egypt          & 0.076388       & 0.020687       & 0.005248       & 0.004318       & 0.001242      \\\\\n",
       "\t Tunisia        & 0.057616       & 0.015010       & 0.004221       & 0.003156       & 0.001099      \\\\\n",
       "\t Nigeria        & 0.047236       & 0.014200       & 0.003550       & 0.003038       & 0.000906      \\\\\n",
       "\t Panama         & 0.048397       & 0.011493       & 0.002856       & 0.002280       & 0.000616      \\\\\n",
       "\t Saudi Arabia   & 0.039444       & 0.008970       & 0.001901       & 0.001674       & 0.000397      \\\\\n",
       "\\end{tabular}\n"
      ],
      "text/markdown": [
       "\n",
       "team | r8th | r4th | r2th | rplayoff | rfinal | \n",
       "|---|---|---|---|---|---|---|---|---|---|---|---|---|---|---|---|---|---|---|---|---|---|---|---|---|---|---|---|---|---|---|---|\n",
       "| Brazil         | 0.711745       | 0.510491       | 0.353497       | 0.109708       | 0.237059       | \n",
       "| Spain          | 0.652667       | 0.400330       | 0.231379       | 0.102272       | 0.128018       | \n",
       "| France         | 0.541167       | 0.327238       | 0.167651       | 0.091965       | 0.089327       | \n",
       "| Germany        | 0.475471       | 0.288496       | 0.157915       | 0.073423       | 0.079741       | \n",
       "| Argentina      | 0.517639       | 0.285474       | 0.150738       | 0.073755       | 0.074172       | \n",
       "| England        | 0.574024       | 0.273100       | 0.147567       | 0.067309       | 0.073406       | \n",
       "| Belgium        | 0.528169       | 0.255562       | 0.132485       | 0.064160       | 0.062930       | \n",
       "| Portugal       | 0.434906       | 0.225396       | 0.104849       | 0.061103       | 0.048041       | \n",
       "| Peru           | 0.293456       | 0.150191       | 0.068393       | 0.039975       | 0.030285       | \n",
       "| Colombia       | 0.334165       | 0.145456       | 0.067202       | 0.037009       | 0.028728       | \n",
       "| Switzerland    | 0.322907       | 0.156589       | 0.069953       | 0.037608       | 0.026793       | \n",
       "| Uruguay        | 0.346418       | 0.151381       | 0.057227       | 0.041633       | 0.022617       | \n",
       "| Croatia        | 0.288183       | 0.128763       | 0.048960       | 0.033940       | 0.018740       | \n",
       "| Mexico         | 0.196196       | 0.090251       | 0.038771       | 0.022089       | 0.014828       | \n",
       "| Iran           | 0.207846       | 0.091568       | 0.035749       | 0.024364       | 0.013917       | \n",
       "| Poland         | 0.231330       | 0.083720       | 0.032996       | 0.020477       | 0.011840       | \n",
       "| Denmark        | 0.146571       | 0.057472       | 0.020168       | 0.014162       | 0.006822       | \n",
       "| Sweden         | 0.118140       | 0.043480       | 0.014726       | 0.009794       | 0.004500       | \n",
       "| Russia         | 0.159013       | 0.050839       | 0.014776       | 0.011677       | 0.004166       | \n",
       "| Australia      | 0.102991       | 0.038543       | 0.012710       | 0.009407       | 0.004075       | \n",
       "| Senegal        | 0.101699       | 0.030498       | 0.010381       | 0.006970       | 0.003201       | \n",
       "| Japan          | 0.124600       | 0.035173       | 0.011268       | 0.007688       | 0.003142       | \n",
       "| Morocco        | 0.083318       | 0.029560       | 0.009194       | 0.007411       | 0.002899       | \n",
       "| Serbia         | 0.061426       | 0.021812       | 0.006908       | 0.004834       | 0.001917       | \n",
       "| Costa Rica     | 0.066636       | 0.023069       | 0.007017       | 0.005106       | 0.001875       | \n",
       "| Korea Republic | 0.047479       | 0.015800       | 0.004902       | 0.003469       | 0.001414       | \n",
       "| Iceland        | 0.062757       | 0.019388       | 0.004842       | 0.004226       | 0.001287       | \n",
       "| Egypt          | 0.076388       | 0.020687       | 0.005248       | 0.004318       | 0.001242       | \n",
       "| Tunisia        | 0.057616       | 0.015010       | 0.004221       | 0.003156       | 0.001099       | \n",
       "| Nigeria        | 0.047236       | 0.014200       | 0.003550       | 0.003038       | 0.000906       | \n",
       "| Panama         | 0.048397       | 0.011493       | 0.002856       | 0.002280       | 0.000616       | \n",
       "| Saudi Arabia   | 0.039444       | 0.008970       | 0.001901       | 0.001674       | 0.000397       | \n",
       "\n",
       "\n"
      ],
      "text/plain": [
       "   team           r8th     r4th     r2th     rplayoff rfinal  \n",
       "1  Brazil         0.711745 0.510491 0.353497 0.109708 0.237059\n",
       "2  Spain          0.652667 0.400330 0.231379 0.102272 0.128018\n",
       "3  France         0.541167 0.327238 0.167651 0.091965 0.089327\n",
       "4  Germany        0.475471 0.288496 0.157915 0.073423 0.079741\n",
       "5  Argentina      0.517639 0.285474 0.150738 0.073755 0.074172\n",
       "6  England        0.574024 0.273100 0.147567 0.067309 0.073406\n",
       "7  Belgium        0.528169 0.255562 0.132485 0.064160 0.062930\n",
       "8  Portugal       0.434906 0.225396 0.104849 0.061103 0.048041\n",
       "9  Peru           0.293456 0.150191 0.068393 0.039975 0.030285\n",
       "10 Colombia       0.334165 0.145456 0.067202 0.037009 0.028728\n",
       "11 Switzerland    0.322907 0.156589 0.069953 0.037608 0.026793\n",
       "12 Uruguay        0.346418 0.151381 0.057227 0.041633 0.022617\n",
       "13 Croatia        0.288183 0.128763 0.048960 0.033940 0.018740\n",
       "14 Mexico         0.196196 0.090251 0.038771 0.022089 0.014828\n",
       "15 Iran           0.207846 0.091568 0.035749 0.024364 0.013917\n",
       "16 Poland         0.231330 0.083720 0.032996 0.020477 0.011840\n",
       "17 Denmark        0.146571 0.057472 0.020168 0.014162 0.006822\n",
       "18 Sweden         0.118140 0.043480 0.014726 0.009794 0.004500\n",
       "19 Russia         0.159013 0.050839 0.014776 0.011677 0.004166\n",
       "20 Australia      0.102991 0.038543 0.012710 0.009407 0.004075\n",
       "21 Senegal        0.101699 0.030498 0.010381 0.006970 0.003201\n",
       "22 Japan          0.124600 0.035173 0.011268 0.007688 0.003142\n",
       "23 Morocco        0.083318 0.029560 0.009194 0.007411 0.002899\n",
       "24 Serbia         0.061426 0.021812 0.006908 0.004834 0.001917\n",
       "25 Costa Rica     0.066636 0.023069 0.007017 0.005106 0.001875\n",
       "26 Korea Republic 0.047479 0.015800 0.004902 0.003469 0.001414\n",
       "27 Iceland        0.062757 0.019388 0.004842 0.004226 0.001287\n",
       "28 Egypt          0.076388 0.020687 0.005248 0.004318 0.001242\n",
       "29 Tunisia        0.057616 0.015010 0.004221 0.003156 0.001099\n",
       "30 Nigeria        0.047236 0.014200 0.003550 0.003038 0.000906\n",
       "31 Panama         0.048397 0.011493 0.002856 0.002280 0.000616\n",
       "32 Saudi Arabia   0.039444 0.008970 0.001901 0.001674 0.000397"
      ]
     },
     "metadata": {},
     "output_type": "display_data"
    }
   ],
   "source": [
    "wc.teams.stats %>% select(team,r8th,r4th,r2th,rplayoff,rfinal) %>% \n",
    "                   replace_na(list(r8th=0,r4th=0,r2th=0,rplayoff=0,rfinal=0)) %>% \n",
    "                   group_by(team) %>% summarise_all(funs(mean(.,na.rm=T))) %>%\n",
    "                   arrange(desc(rfinal),desc(rplayoff),desc(r2th),desc(r4th),desc(r8th))"
   ]
  },
  {
   "cell_type": "code",
   "execution_count": null,
   "metadata": {},
   "outputs": [
    {
     "data": {
      "text/html": [
       "<table>\n",
       "<thead><tr><th scope=col>team</th><th scope=col>n1</th></tr></thead>\n",
       "<tbody>\n",
       "\t<tr><td>Brazil   </td><td>237059   </td></tr>\n",
       "\t<tr><td>Spain    </td><td>128018   </td></tr>\n",
       "\t<tr><td>France   </td><td> 89327   </td></tr>\n",
       "\t<tr><td>Germany  </td><td> 79741   </td></tr>\n",
       "\t<tr><td>Argentina</td><td> 74172   </td></tr>\n",
       "</tbody>\n",
       "</table>\n"
      ],
      "text/latex": [
       "\\begin{tabular}{r|ll}\n",
       " team & n1\\\\\n",
       "\\hline\n",
       "\t Brazil    & 237059   \\\\\n",
       "\t Spain     & 128018   \\\\\n",
       "\t France    &  89327   \\\\\n",
       "\t Germany   &  79741   \\\\\n",
       "\t Argentina &  74172   \\\\\n",
       "\\end{tabular}\n"
      ],
      "text/markdown": [
       "\n",
       "team | n1 | \n",
       "|---|---|---|---|---|\n",
       "| Brazil    | 237059    | \n",
       "| Spain     | 128018    | \n",
       "| France    |  89327    | \n",
       "| Germany   |  79741    | \n",
       "| Argentina |  74172    | \n",
       "\n",
       "\n"
      ],
      "text/plain": [
       "  team      n1    \n",
       "1 Brazil    237059\n",
       "2 Spain     128018\n",
       "3 France     89327\n",
       "4 Germany    79741\n",
       "5 Argentina  74172"
      ]
     },
     "metadata": {},
     "output_type": "display_data"
    }
   ],
   "source": [
    "wc.teams.stats %>% filter(rfinal==1) %>% group_by(team) %>% summarize(n1=n()) %>% arrange(desc(n1)) %>% head(5)\n",
    "predict.first <- wc.teams.stats %>% filter(rfinal==1) %>% group_by(team) %>% summarize(n1=n()) %>% arrange(desc(n1)) %>% head(1)"
   ]
  },
  {
   "cell_type": "code",
   "execution_count": null,
   "metadata": {
    "collapsed": true
   },
   "outputs": [],
   "source": [
    "wc.teams.stats %>% filter(rfinal==0) %>% anti_join(predict.first,by='team') %>% group_by(team) %>% summarize(n2=n()) %>% arrange(desc(n2)) %>% head(5)\n",
    "predict.second <- wc.teams.stats %>% filter(rfinal==0) %>% anti_join(predict.first,by='team') %>% \n",
    "        group_by(team) %>% summarize(n2=n()) %>% arrange(desc(n2)) %>% head(1)"
   ]
  },
  {
   "cell_type": "code",
   "execution_count": null,
   "metadata": {
    "collapsed": true
   },
   "outputs": [],
   "source": [
    "wc.teams.stats %>% filter(rplayoff==1) %>% anti_join(predict.first,by='team') %>% anti_join(predict.second,by='team') %>%\n",
    "        group_by(team) %>% summarize(n3=n()) %>% arrange(desc(n3)) %>% head(5)\n",
    "predict.third <- wc.teams.stats %>% filter(rplayoff==1) %>% anti_join(predict.first,by='team') %>% anti_join(predict.second,by='team') %>% \n",
    "        group_by(team) %>% summarize(n3=n()) %>% arrange(desc(n3)) %>% head(1)"
   ]
  },
  {
   "cell_type": "code",
   "execution_count": null,
   "metadata": {
    "collapsed": true
   },
   "outputs": [],
   "source": [
    "wc.teams.stats %>% filter(rplayoff==0) %>% anti_join(predict.first,by='team') %>% anti_join(predict.second,by='team') %>% anti_join(predict.third,by='team') %>%\n",
    "        group_by(team) %>% summarize(n4=n()) %>% arrange(desc(n4)) %>% head(5)\n",
    "predict.four <- wc.teams.stats %>% filter(rplayoff==0) %>% anti_join(predict.first,by='team') %>% anti_join(predict.second,by='team') %>% anti_join(predict.third,by='team') %>%\n",
    "        group_by(team) %>% summarize(n4=n()) %>% arrange(desc(n4)) %>% head(1)"
   ]
  },
  {
   "cell_type": "code",
   "execution_count": null,
   "metadata": {
    "collapsed": true
   },
   "outputs": [],
   "source": [
    "predict.first\n",
    "predict.second\n",
    "predict.third\n",
    "predict.four"
   ]
  },
  {
   "cell_type": "raw",
   "metadata": {},
   "source": [
    "write_csv(wc.teams.stats,'wc_teams_stats_all.csv')"
   ]
  },
  {
   "cell_type": "code",
   "execution_count": null,
   "metadata": {
    "collapsed": true
   },
   "outputs": [],
   "source": [
    "tmp01 <- wc.teams.stats %>% filter(rfinal>=0) %>% select(team,run,rfinal) %>% spread(rfinal,team) %>% rename(t1='0',t2='1') %>%\n",
    "                group_by(t1,t2) %>% summarize(n=n()) %>% ungroup()\n",
    "tmp02 <- tmp01 %>% inner_join(tmp01,by=c('t1'='t2','t2'='t1')) %>% mutate(total=n.x+n.y)\n",
    "tmp02 %>% arrange(desc(total)) %>% head()"
   ]
  },
  {
   "cell_type": "code",
   "execution_count": null,
   "metadata": {
    "collapsed": true
   },
   "outputs": [],
   "source": [
    "tmp01 <- wc.teams.stats %>% filter(rplayoff>=0) %>% select(team,run,rplayoff) %>% spread(rplayoff,team) %>% rename(t1='0',t2='1') %>%\n",
    "                group_by(t1,t2) %>% summarize(n=n()) %>% ungroup()\n",
    "tmp02 <- tmp01 %>% inner_join(tmp01,by=c('t1'='t2','t2'='t1')) %>% mutate(total=n.x+n.y)\n",
    "tmp02 %>% arrange(desc(total)) %>% head()"
   ]
  },
  {
   "cell_type": "code",
   "execution_count": null,
   "metadata": {
    "collapsed": true
   },
   "outputs": [],
   "source": [
    "tmp02 %>% filter(!t1 %in% c('Spain','Brazil')) %>% filter(!t2 %in% c('Spain','Brazil')) %>% arrange(desc(total)) %>% head()"
   ]
  },
  {
   "cell_type": "code",
   "execution_count": null,
   "metadata": {},
   "outputs": [],
   "source": [
    "matches.selected %>% filter(home_team %in% c('France','Argentina')) %>% filter(away_team %in% c('France','Argentina')) %>%\n",
    "            mutate(winner=if_else(home_score>away_score,home_team,if_else(home_score<away_score,away_team,NA_character_))) %>%\n",
    "            group_by(winner) %>% summarize(count=n())"
   ]
  }
 ],
 "metadata": {
  "kernelspec": {
   "display_name": "R 3.4.4",
   "language": "R",
   "name": "ir34"
  },
  "language_info": {
   "codemirror_mode": "r",
   "file_extension": ".r",
   "mimetype": "text/x-r-source",
   "name": "R",
   "pygments_lexer": "r",
   "version": "3.4.4"
  }
 },
 "nbformat": 4,
 "nbformat_minor": 2
}
